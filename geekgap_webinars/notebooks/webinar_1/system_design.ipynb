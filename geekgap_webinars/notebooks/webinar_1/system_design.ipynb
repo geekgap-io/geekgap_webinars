{
 "cells": [
  {
   "cell_type": "markdown",
   "metadata": {},
   "source": [
    "## INSTALLING THE DEPENDENCIES"
   ]
  },
  {
   "cell_type": "code",
   "execution_count": 1,
   "metadata": {},
   "outputs": [
    {
     "name": "stdout",
     "output_type": "stream",
     "text": [
      "Requirement already satisfied: sqlalchemy in /Users/junior/.virtualenvs/ustem/lib/python3.6/site-packages (1.2.16)\n",
      "\u001b[33mYou are using pip version 18.1, however version 19.3.1 is available.\n",
      "You should consider upgrading via the 'pip install --upgrade pip' command.\u001b[0m\n",
      "Requirement already satisfied: psycopg2 in /Users/junior/.virtualenvs/ustem/lib/python3.6/site-packages (2.7.6.1)\n",
      "\u001b[33mYou are using pip version 18.1, however version 19.3.1 is available.\n",
      "You should consider upgrading via the 'pip install --upgrade pip' command.\u001b[0m\n"
     ]
    }
   ],
   "source": [
    "!pip install sqlalchemy #install the sqlalchemy package\n",
    "!pip install psycopg2 #install the postgres driver package"
   ]
  },
  {
   "cell_type": "code",
   "execution_count": null,
   "metadata": {},
   "outputs": [],
   "source": []
  },
  {
   "cell_type": "markdown",
   "metadata": {},
   "source": [
    "## CONNECTING TO THE POSTGRES geekgap_demos DATABASE"
   ]
  },
  {
   "cell_type": "code",
   "execution_count": 2,
   "metadata": {},
   "outputs": [
    {
     "name": "stderr",
     "output_type": "stream",
     "text": [
      "/Users/junior/.virtualenvs/ustem/lib/python3.6/site-packages/psycopg2/__init__.py:144: UserWarning: The psycopg2 wheel package will be renamed from release 2.8; in order to keep installing from binary please use \"pip install psycopg2-binary\" instead. For details see: <http://initd.org/psycopg/docs/install.html#binary-install-from-pypi>.\n",
      "  \"\"\")\n"
     ]
    }
   ],
   "source": [
    "DB_URI = 'postgresql+psycopg2://postgres:@localhost/geekgap_webinar1'\n",
    "\n",
    "from sqlalchemy import create_engine\n",
    "engine = create_engine(DB_URI, echo=True)"
   ]
  },
  {
   "cell_type": "code",
   "execution_count": null,
   "metadata": {},
   "outputs": [],
   "source": []
  },
  {
   "cell_type": "markdown",
   "metadata": {},
   "source": [
    "## CREATING AN ORM MAPPING\n",
    "- ORM = Object Relational Mapping\n",
    "- Looks like coding an ERD Diagram instead of drawing one"
   ]
  },
  {
   "cell_type": "code",
   "execution_count": 3,
   "metadata": {},
   "outputs": [],
   "source": [
    "import datetime\n",
    "\n",
    "from sqlalchemy.ext.declarative import declarative_base\n",
    "from sqlalchemy import Table, Column, Integer, DateTime, VARCHAR, ForeignKey\n",
    "from sqlalchemy.orm import relationship\n",
    "\n",
    "Base = declarative_base()"
   ]
  },
  {
   "cell_type": "code",
   "execution_count": 4,
   "metadata": {},
   "outputs": [],
   "source": [
    "class Customer(Base):\n",
    "    __tablename__ = 'Customer'\n",
    "    \n",
    "    customer_ID = Column(Integer, primary_key=True)\n",
    "    first_name = Column(VARCHAR(50))\n",
    "    last_name = Column(VARCHAR(50))\n",
    "    address = Column(VARCHAR(200))\n",
    "    email = Column(VARCHAR(50))\n",
    "    phone = Column(VARCHAR(10))\n",
    "    \n",
    "    # One(Customer)-To-Many(Orders) relationship\n",
    "    orders = relationship('Order')\n",
    "    \n",
    "    def __repr__(self):\n",
    "        return f\"<Customer(first_name={self.first_name}, last_name={self.last_name})>\"  "
   ]
  },
  {
   "cell_type": "code",
   "execution_count": 5,
   "metadata": {},
   "outputs": [
    {
     "data": {
      "text/plain": [
       "Table('Customer', MetaData(bind=None), Column('customer_ID', Integer(), table=<Customer>, primary_key=True, nullable=False), Column('first_name', VARCHAR(length=50), table=<Customer>), Column('last_name', VARCHAR(length=50), table=<Customer>), Column('address', VARCHAR(length=200), table=<Customer>), Column('email', VARCHAR(length=50), table=<Customer>), Column('phone', VARCHAR(length=10), table=<Customer>), schema=None)"
      ]
     },
     "execution_count": 5,
     "metadata": {},
     "output_type": "execute_result"
    }
   ],
   "source": [
    "Customer.__table__"
   ]
  },
  {
   "cell_type": "code",
   "execution_count": 6,
   "metadata": {},
   "outputs": [],
   "source": [
    "# Many(Products)-To-Many(Orders) assiociation table\n",
    "class Association__Product_Order(Base):\n",
    "    __tablename__ = 'Association__Product_Order'\n",
    "    product_ID = Column('product_ID', Integer, ForeignKey('Product.product_ID'), primary_key=True)\n",
    "    order_ID = Column('order_ID', Integer, ForeignKey('Order.order_ID'), primary_key=True)\n",
    "    \n",
    "    product_quantity = Column(Integer) # attribute carried by the association\n",
    "\n",
    "    product = relationship(\"Product\", back_populates=\"orders\")\n",
    "    order = relationship(\"Order\", back_populates=\"products\")\n",
    "\n",
    "\n",
    "class Order(Base):\n",
    "    __tablename__ = 'Order'\n",
    "    \n",
    "    order_ID = Column(Integer, primary_key=True)\n",
    "    order_date = Column(DateTime,  default=datetime.datetime.utcnow)\n",
    "    \n",
    "    # One(Customer)-To-Many(Orders) relationship\n",
    "    customer_ID = Column(Integer,ForeignKey('Customer.customer_ID')) \n",
    "    customer = relationship(\"Customer\", back_populates=\"orders\")\n",
    "    \n",
    "    # Many(Products)-To-Many(Orders) relationship\n",
    "    products = relationship(\"Association__Product_Order\", back_populates=\"order\")\n",
    "    \n",
    "    # one(Delivery) to One(Order) relationship\n",
    "    delivery = relationship(\"Delivery\", uselist=False, back_populates='order')\n",
    "    \n",
    "    \n",
    "    def __repr__(self):\n",
    "        return f\"<Order(order_ID={self.order_ID}, order_date={self.order_date})>\"  \n",
    "    \n",
    "    \n",
    "class Product(Base):\n",
    "    __tablename__ = 'Product'\n",
    "    \n",
    "    product_ID = Column(Integer, primary_key=True)\n",
    "    name = Column(VARCHAR(50), index=True)\n",
    "    product_type = Column(VARCHAR(50))\n",
    "    quantity = Column(Integer)\n",
    "    \n",
    "    # Many(Products)-To-Many(Orders) relationship\n",
    "    orders = relationship('Association__Product_Order', back_populates=\"product\")\n",
    "    \n",
    "    def __repr__(self):\n",
    "        return f\"<Product(name={self.name}, type={self.product_type})>\"  "
   ]
  },
  {
   "cell_type": "code",
   "execution_count": 7,
   "metadata": {},
   "outputs": [
    {
     "data": {
      "text/plain": [
       "Table('Order', MetaData(bind=None), Column('order_ID', Integer(), table=<Order>, primary_key=True, nullable=False), Column('order_date', DateTime(), table=<Order>, default=ColumnDefault(<function datetime.utcnow at 0x10f90a378>)), Column('customer_ID', Integer(), ForeignKey('Customer.customer_ID'), table=<Order>), schema=None)"
      ]
     },
     "execution_count": 7,
     "metadata": {},
     "output_type": "execute_result"
    }
   ],
   "source": [
    "Order.__table__"
   ]
  },
  {
   "cell_type": "code",
   "execution_count": 8,
   "metadata": {},
   "outputs": [
    {
     "data": {
      "text/plain": [
       "Table('Product', MetaData(bind=None), Column('product_ID', Integer(), table=<Product>, primary_key=True, nullable=False), Column('name', VARCHAR(length=50), table=<Product>), Column('product_type', VARCHAR(length=50), table=<Product>), Column('quantity', Integer(), table=<Product>), schema=None)"
      ]
     },
     "execution_count": 8,
     "metadata": {},
     "output_type": "execute_result"
    }
   ],
   "source": [
    "Product.__table__"
   ]
  },
  {
   "cell_type": "code",
   "execution_count": null,
   "metadata": {},
   "outputs": [],
   "source": []
  },
  {
   "cell_type": "code",
   "execution_count": 9,
   "metadata": {},
   "outputs": [],
   "source": [
    "class Delivery(Base):\n",
    "    __tablename__ = 'Delivery'\n",
    "    \n",
    "    delivery_ID = Column(Integer, primary_key=True)\n",
    "    delivery_date = Column(DateTime,  default=datetime.datetime.utcnow)\n",
    "    delivery_address = Column(VARCHAR(200))\n",
    "    \n",
    "    # one(Delivery) to One(Order) relationship\n",
    "    order_id = Column(Integer, ForeignKey('Order.order_ID'))\n",
    "    order = relationship('Order', back_populates=\"delivery\")\n",
    "    \n",
    "    def __repr__(self):\n",
    "        return f\"<Delivery(oder_id={self.order_id}, date={self.delivery_date}, address={self.delivery_address})>\"  "
   ]
  },
  {
   "cell_type": "code",
   "execution_count": 11,
   "metadata": {},
   "outputs": [
    {
     "data": {
      "text/plain": [
       "Table('Delivery', MetaData(bind=None), Column('delivery_ID', Integer(), table=<Delivery>, primary_key=True, nullable=False), Column('delivery_date', DateTime(), table=<Delivery>, default=ColumnDefault(<function datetime.utcnow at 0x10d1c38c8>)), Column('delivery_address', VARCHAR(length=200), table=<Delivery>), Column('order_id', Integer(), ForeignKey('Order.order_ID'), table=<Delivery>), schema=None)"
      ]
     },
     "execution_count": 11,
     "metadata": {},
     "output_type": "execute_result"
    }
   ],
   "source": [
    "Delivery.__table__"
   ]
  },
  {
   "cell_type": "code",
   "execution_count": null,
   "metadata": {},
   "outputs": [],
   "source": []
  },
  {
   "cell_type": "markdown",
   "metadata": {},
   "source": [
    "## CREATE THE DATABASE SCHEMA"
   ]
  },
  {
   "cell_type": "code",
   "execution_count": 12,
   "metadata": {},
   "outputs": [
    {
     "name": "stdout",
     "output_type": "stream",
     "text": [
      "2019-10-26 18:50:16,352 INFO sqlalchemy.engine.base.Engine select version()\n",
      "2019-10-26 18:50:16,353 INFO sqlalchemy.engine.base.Engine {}\n",
      "2019-10-26 18:50:16,357 INFO sqlalchemy.engine.base.Engine select current_schema()\n",
      "2019-10-26 18:50:16,357 INFO sqlalchemy.engine.base.Engine {}\n",
      "2019-10-26 18:50:16,360 INFO sqlalchemy.engine.base.Engine SELECT CAST('test plain returns' AS VARCHAR(60)) AS anon_1\n",
      "2019-10-26 18:50:16,361 INFO sqlalchemy.engine.base.Engine {}\n",
      "2019-10-26 18:50:16,376 INFO sqlalchemy.engine.base.Engine SELECT CAST('test unicode returns' AS VARCHAR(60)) AS anon_1\n",
      "2019-10-26 18:50:16,376 INFO sqlalchemy.engine.base.Engine {}\n",
      "2019-10-26 18:50:16,378 INFO sqlalchemy.engine.base.Engine show standard_conforming_strings\n",
      "2019-10-26 18:50:16,380 INFO sqlalchemy.engine.base.Engine {}\n",
      "2019-10-26 18:50:16,382 INFO sqlalchemy.engine.base.Engine select relname from pg_class c join pg_namespace n on n.oid=c.relnamespace where pg_catalog.pg_table_is_visible(c.oid) and relname=%(name)s\n",
      "2019-10-26 18:50:16,383 INFO sqlalchemy.engine.base.Engine {'name': 'Customer'}\n",
      "2019-10-26 18:50:16,391 INFO sqlalchemy.engine.base.Engine select relname from pg_class c join pg_namespace n on n.oid=c.relnamespace where pg_catalog.pg_table_is_visible(c.oid) and relname=%(name)s\n",
      "2019-10-26 18:50:16,392 INFO sqlalchemy.engine.base.Engine {'name': 'Association__Product_Order'}\n",
      "2019-10-26 18:50:16,394 INFO sqlalchemy.engine.base.Engine select relname from pg_class c join pg_namespace n on n.oid=c.relnamespace where pg_catalog.pg_table_is_visible(c.oid) and relname=%(name)s\n",
      "2019-10-26 18:50:16,395 INFO sqlalchemy.engine.base.Engine {'name': 'Order'}\n",
      "2019-10-26 18:50:16,397 INFO sqlalchemy.engine.base.Engine select relname from pg_class c join pg_namespace n on n.oid=c.relnamespace where pg_catalog.pg_table_is_visible(c.oid) and relname=%(name)s\n",
      "2019-10-26 18:50:16,398 INFO sqlalchemy.engine.base.Engine {'name': 'Product'}\n",
      "2019-10-26 18:50:16,400 INFO sqlalchemy.engine.base.Engine select relname from pg_class c join pg_namespace n on n.oid=c.relnamespace where pg_catalog.pg_table_is_visible(c.oid) and relname=%(name)s\n",
      "2019-10-26 18:50:16,401 INFO sqlalchemy.engine.base.Engine {'name': 'Delivery'}\n",
      "2019-10-26 18:50:16,404 INFO sqlalchemy.engine.base.Engine \n",
      "CREATE TABLE \"Customer\" (\n",
      "\t\"customer_ID\" SERIAL NOT NULL, \n",
      "\tfirst_name VARCHAR(50), \n",
      "\tlast_name VARCHAR(50), \n",
      "\taddress VARCHAR(200), \n",
      "\temail VARCHAR(50), \n",
      "\tphone VARCHAR(10), \n",
      "\tPRIMARY KEY (\"customer_ID\")\n",
      ")\n",
      "\n",
      "\n",
      "2019-10-26 18:50:16,405 INFO sqlalchemy.engine.base.Engine {}\n",
      "2019-10-26 18:50:16,441 INFO sqlalchemy.engine.base.Engine COMMIT\n",
      "2019-10-26 18:50:16,444 INFO sqlalchemy.engine.base.Engine \n",
      "CREATE TABLE \"Product\" (\n",
      "\t\"product_ID\" SERIAL NOT NULL, \n",
      "\tname VARCHAR(50), \n",
      "\tproduct_type VARCHAR(50), \n",
      "\tquantity INTEGER, \n",
      "\tPRIMARY KEY (\"product_ID\")\n",
      ")\n",
      "\n",
      "\n",
      "2019-10-26 18:50:16,445 INFO sqlalchemy.engine.base.Engine {}\n",
      "2019-10-26 18:50:16,451 INFO sqlalchemy.engine.base.Engine COMMIT\n",
      "2019-10-26 18:50:16,456 INFO sqlalchemy.engine.base.Engine CREATE INDEX \"ix_Product_name\" ON \"Product\" (name)\n",
      "2019-10-26 18:50:16,457 INFO sqlalchemy.engine.base.Engine {}\n",
      "2019-10-26 18:50:16,463 INFO sqlalchemy.engine.base.Engine COMMIT\n",
      "2019-10-26 18:50:16,466 INFO sqlalchemy.engine.base.Engine \n",
      "CREATE TABLE \"Order\" (\n",
      "\t\"order_ID\" SERIAL NOT NULL, \n",
      "\torder_date TIMESTAMP WITHOUT TIME ZONE, \n",
      "\t\"customer_ID\" INTEGER, \n",
      "\tPRIMARY KEY (\"order_ID\"), \n",
      "\tFOREIGN KEY(\"customer_ID\") REFERENCES \"Customer\" (\"customer_ID\")\n",
      ")\n",
      "\n",
      "\n",
      "2019-10-26 18:50:16,467 INFO sqlalchemy.engine.base.Engine {}\n",
      "2019-10-26 18:50:16,527 INFO sqlalchemy.engine.base.Engine COMMIT\n",
      "2019-10-26 18:50:16,529 INFO sqlalchemy.engine.base.Engine \n",
      "CREATE TABLE \"Association__Product_Order\" (\n",
      "\t\"product_ID\" INTEGER NOT NULL, \n",
      "\t\"order_ID\" INTEGER NOT NULL, \n",
      "\tproduct_quantity INTEGER, \n",
      "\tPRIMARY KEY (\"product_ID\", \"order_ID\"), \n",
      "\tFOREIGN KEY(\"product_ID\") REFERENCES \"Product\" (\"product_ID\"), \n",
      "\tFOREIGN KEY(\"order_ID\") REFERENCES \"Order\" (\"order_ID\")\n",
      ")\n",
      "\n",
      "\n",
      "2019-10-26 18:50:16,530 INFO sqlalchemy.engine.base.Engine {}\n",
      "2019-10-26 18:50:16,541 INFO sqlalchemy.engine.base.Engine COMMIT\n",
      "2019-10-26 18:50:16,542 INFO sqlalchemy.engine.base.Engine \n",
      "CREATE TABLE \"Delivery\" (\n",
      "\t\"delivery_ID\" SERIAL NOT NULL, \n",
      "\tdelivery_date TIMESTAMP WITHOUT TIME ZONE, \n",
      "\tdelivery_address VARCHAR(200), \n",
      "\torder_id INTEGER, \n",
      "\tPRIMARY KEY (\"delivery_ID\"), \n",
      "\tFOREIGN KEY(order_id) REFERENCES \"Order\" (\"order_ID\")\n",
      ")\n",
      "\n",
      "\n",
      "2019-10-26 18:50:16,543 INFO sqlalchemy.engine.base.Engine {}\n",
      "2019-10-26 18:50:16,552 INFO sqlalchemy.engine.base.Engine COMMIT\n"
     ]
    }
   ],
   "source": [
    "Base.metadata.create_all(engine)"
   ]
  },
  {
   "cell_type": "code",
   "execution_count": null,
   "metadata": {},
   "outputs": [],
   "source": []
  },
  {
   "cell_type": "markdown",
   "metadata": {},
   "source": [
    "## CREATING A SESSION"
   ]
  },
  {
   "cell_type": "code",
   "execution_count": 13,
   "metadata": {},
   "outputs": [],
   "source": [
    "from sqlalchemy.orm import sessionmaker\n",
    "Session = sessionmaker(bind=engine)"
   ]
  },
  {
   "cell_type": "code",
   "execution_count": 14,
   "metadata": {},
   "outputs": [],
   "source": [
    "session = Session()"
   ]
  },
  {
   "cell_type": "code",
   "execution_count": null,
   "metadata": {},
   "outputs": [],
   "source": []
  },
  {
   "cell_type": "markdown",
   "metadata": {},
   "source": [
    "## ADDING PRODUCTS"
   ]
  },
  {
   "cell_type": "code",
   "execution_count": 15,
   "metadata": {},
   "outputs": [],
   "source": [
    "p1 = Product(name='Computer', product_type='tech', quantity=50)\n",
    "p2 = Product(name='Chair', product_type='furniture', quantity=100)\n",
    "p3 = Product(name='pencil', product_type='eduction', quantity=1000)\n",
    "p4 = Product(name='bread', product_type='food', quantity=5)\n",
    "p5 = Product(name='fish', product_type='food', quantity=2)\n",
    "p6 = Product(name='movie', product_type='entertainment', quantity=500)\n",
    "\n",
    "session.add_all([p1, p2, p3, p4, p5, p6])"
   ]
  },
  {
   "cell_type": "code",
   "execution_count": 16,
   "metadata": {},
   "outputs": [
    {
     "data": {
      "text/plain": [
       "<Product(name=Computer, type=tech)>"
      ]
     },
     "execution_count": 16,
     "metadata": {},
     "output_type": "execute_result"
    }
   ],
   "source": [
    "p1"
   ]
  },
  {
   "cell_type": "code",
   "execution_count": 19,
   "metadata": {},
   "outputs": [],
   "source": [
    "p1.product_ID # returns None as the product has not yet been persisted in the Database with commit"
   ]
  },
  {
   "cell_type": "code",
   "execution_count": 20,
   "metadata": {},
   "outputs": [
    {
     "name": "stdout",
     "output_type": "stream",
     "text": [
      "2019-10-26 18:53:10,646 INFO sqlalchemy.engine.base.Engine BEGIN (implicit)\n",
      "2019-10-26 18:53:10,649 INFO sqlalchemy.engine.base.Engine INSERT INTO \"Product\" (name, product_type, quantity) VALUES (%(name)s, %(product_type)s, %(quantity)s) RETURNING \"Product\".\"product_ID\"\n",
      "2019-10-26 18:53:10,651 INFO sqlalchemy.engine.base.Engine {'name': 'Computer', 'product_type': 'tech', 'quantity': 50}\n",
      "2019-10-26 18:53:10,678 INFO sqlalchemy.engine.base.Engine INSERT INTO \"Product\" (name, product_type, quantity) VALUES (%(name)s, %(product_type)s, %(quantity)s) RETURNING \"Product\".\"product_ID\"\n",
      "2019-10-26 18:53:10,680 INFO sqlalchemy.engine.base.Engine {'name': 'Chair', 'product_type': 'furniture', 'quantity': 100}\n",
      "2019-10-26 18:53:10,682 INFO sqlalchemy.engine.base.Engine INSERT INTO \"Product\" (name, product_type, quantity) VALUES (%(name)s, %(product_type)s, %(quantity)s) RETURNING \"Product\".\"product_ID\"\n",
      "2019-10-26 18:53:10,682 INFO sqlalchemy.engine.base.Engine {'name': 'pencil', 'product_type': 'eduction', 'quantity': 1000}\n",
      "2019-10-26 18:53:10,684 INFO sqlalchemy.engine.base.Engine INSERT INTO \"Product\" (name, product_type, quantity) VALUES (%(name)s, %(product_type)s, %(quantity)s) RETURNING \"Product\".\"product_ID\"\n",
      "2019-10-26 18:53:10,685 INFO sqlalchemy.engine.base.Engine {'name': 'bread', 'product_type': 'food', 'quantity': 5}\n",
      "2019-10-26 18:53:10,687 INFO sqlalchemy.engine.base.Engine INSERT INTO \"Product\" (name, product_type, quantity) VALUES (%(name)s, %(product_type)s, %(quantity)s) RETURNING \"Product\".\"product_ID\"\n",
      "2019-10-26 18:53:10,688 INFO sqlalchemy.engine.base.Engine {'name': 'fish', 'product_type': 'food', 'quantity': 2}\n",
      "2019-10-26 18:53:10,689 INFO sqlalchemy.engine.base.Engine INSERT INTO \"Product\" (name, product_type, quantity) VALUES (%(name)s, %(product_type)s, %(quantity)s) RETURNING \"Product\".\"product_ID\"\n",
      "2019-10-26 18:53:10,690 INFO sqlalchemy.engine.base.Engine {'name': 'movie', 'product_type': 'entertainment', 'quantity': 500}\n",
      "2019-10-26 18:53:10,694 INFO sqlalchemy.engine.base.Engine COMMIT\n"
     ]
    }
   ],
   "source": [
    "session.commit()"
   ]
  },
  {
   "cell_type": "code",
   "execution_count": 21,
   "metadata": {},
   "outputs": [
    {
     "name": "stdout",
     "output_type": "stream",
     "text": [
      "2019-10-26 18:53:22,163 INFO sqlalchemy.engine.base.Engine BEGIN (implicit)\n",
      "2019-10-26 18:53:22,165 INFO sqlalchemy.engine.base.Engine SELECT \"Product\".\"product_ID\" AS \"Product_product_ID\", \"Product\".name AS \"Product_name\", \"Product\".product_type AS \"Product_product_type\", \"Product\".quantity AS \"Product_quantity\" \n",
      "FROM \"Product\" \n",
      "WHERE \"Product\".\"product_ID\" = %(param_1)s\n",
      "2019-10-26 18:53:22,166 INFO sqlalchemy.engine.base.Engine {'param_1': 1}\n"
     ]
    },
    {
     "data": {
      "text/plain": [
       "1"
      ]
     },
     "execution_count": 21,
     "metadata": {},
     "output_type": "execute_result"
    }
   ],
   "source": [
    "p1.product_ID # after commit running the same query should return the product_id"
   ]
  },
  {
   "cell_type": "code",
   "execution_count": 22,
   "metadata": {},
   "outputs": [],
   "source": [
    "p4.quantity = 10"
   ]
  },
  {
   "cell_type": "code",
   "execution_count": 23,
   "metadata": {},
   "outputs": [
    {
     "name": "stdout",
     "output_type": "stream",
     "text": [
      "2019-10-26 18:54:02,085 INFO sqlalchemy.engine.base.Engine SELECT \"Product\".\"product_ID\" AS \"Product_product_ID\", \"Product\".name AS \"Product_name\", \"Product\".product_type AS \"Product_product_type\" \n",
      "FROM \"Product\" \n",
      "WHERE \"Product\".\"product_ID\" = %(param_1)s\n",
      "2019-10-26 18:54:02,086 INFO sqlalchemy.engine.base.Engine {'param_1': 4}\n",
      "2019-10-26 18:54:02,089 INFO sqlalchemy.engine.base.Engine UPDATE \"Product\" SET quantity=%(quantity)s WHERE \"Product\".\"product_ID\" = %(Product_product_ID)s\n",
      "2019-10-26 18:54:02,090 INFO sqlalchemy.engine.base.Engine {'quantity': 10, 'Product_product_ID': 4}\n",
      "2019-10-26 18:54:02,092 INFO sqlalchemy.engine.base.Engine COMMIT\n"
     ]
    }
   ],
   "source": [
    "session.commit()"
   ]
  },
  {
   "cell_type": "code",
   "execution_count": 24,
   "metadata": {},
   "outputs": [
    {
     "name": "stdout",
     "output_type": "stream",
     "text": [
      "2019-10-26 18:54:19,483 INFO sqlalchemy.engine.base.Engine BEGIN (implicit)\n",
      "2019-10-26 18:54:19,485 INFO sqlalchemy.engine.base.Engine SELECT \"Product\".\"product_ID\" AS \"Product_product_ID\", \"Product\".name AS \"Product_name\", \"Product\".product_type AS \"Product_product_type\", \"Product\".quantity AS \"Product_quantity\" \n",
      "FROM \"Product\" \n",
      "WHERE \"Product\".\"product_ID\" = %(param_1)s\n",
      "2019-10-26 18:54:19,487 INFO sqlalchemy.engine.base.Engine {'param_1': 4}\n"
     ]
    },
    {
     "data": {
      "text/plain": [
       "10"
      ]
     },
     "execution_count": 24,
     "metadata": {},
     "output_type": "execute_result"
    }
   ],
   "source": [
    "p4.quantity"
   ]
  },
  {
   "cell_type": "code",
   "execution_count": null,
   "metadata": {},
   "outputs": [],
   "source": []
  },
  {
   "cell_type": "markdown",
   "metadata": {},
   "source": [
    "## ADDING CUSTOMERS"
   ]
  },
  {
   "cell_type": "code",
   "execution_count": 25,
   "metadata": {},
   "outputs": [],
   "source": [
    "c1 = Customer(first_name='Junior', last_name='Teudjio',\n",
    "              email='junior.teudjio@test.com', address='London', phone='12345')\n",
    "session.add(c1)\n",
    "\n",
    "c2 = Customer(first_name='John', last_name='Doe',\n",
    "              email='john.doe@test.com', address='Paris', phone='12344')\n",
    "session.add(c2)"
   ]
  },
  {
   "cell_type": "code",
   "execution_count": 26,
   "metadata": {},
   "outputs": [
    {
     "data": {
      "text/plain": [
       "<Customer(first_name=Junior, last_name=Teudjio)>"
      ]
     },
     "execution_count": 26,
     "metadata": {},
     "output_type": "execute_result"
    }
   ],
   "source": [
    "c1"
   ]
  },
  {
   "cell_type": "code",
   "execution_count": 27,
   "metadata": {},
   "outputs": [
    {
     "name": "stdout",
     "output_type": "stream",
     "text": [
      "2019-10-26 18:54:43,312 INFO sqlalchemy.engine.base.Engine INSERT INTO \"Customer\" (first_name, last_name, address, email, phone) VALUES (%(first_name)s, %(last_name)s, %(address)s, %(email)s, %(phone)s) RETURNING \"Customer\".\"customer_ID\"\n",
      "2019-10-26 18:54:43,313 INFO sqlalchemy.engine.base.Engine {'first_name': 'Junior', 'last_name': 'Teudjio', 'address': 'London', 'email': 'junior.teudjio@test.com', 'phone': '12345'}\n",
      "2019-10-26 18:54:43,347 INFO sqlalchemy.engine.base.Engine INSERT INTO \"Customer\" (first_name, last_name, address, email, phone) VALUES (%(first_name)s, %(last_name)s, %(address)s, %(email)s, %(phone)s) RETURNING \"Customer\".\"customer_ID\"\n",
      "2019-10-26 18:54:43,348 INFO sqlalchemy.engine.base.Engine {'first_name': 'John', 'last_name': 'Doe', 'address': 'Paris', 'email': 'john.doe@test.com', 'phone': '12344'}\n",
      "2019-10-26 18:54:43,350 INFO sqlalchemy.engine.base.Engine COMMIT\n"
     ]
    }
   ],
   "source": [
    "session.commit()"
   ]
  },
  {
   "cell_type": "code",
   "execution_count": null,
   "metadata": {},
   "outputs": [],
   "source": []
  },
  {
   "cell_type": "markdown",
   "metadata": {},
   "source": [
    "## ADDING ORDERS AND DELIVERIES"
   ]
  },
  {
   "cell_type": "code",
   "execution_count": 28,
   "metadata": {},
   "outputs": [],
   "source": [
    "# customer1 initiating the order1\n",
    "o1 = Order()\n",
    "o1.customer = c1"
   ]
  },
  {
   "cell_type": "code",
   "execution_count": null,
   "metadata": {},
   "outputs": [],
   "source": []
  },
  {
   "cell_type": "code",
   "execution_count": 29,
   "metadata": {},
   "outputs": [],
   "source": [
    "# customer 1 adding product1 to his order\n",
    "a_po1 = Association__Product_Order(product_quantity=5)\n",
    "a_po1.order = o1\n",
    "a_po1.product = p1"
   ]
  },
  {
   "cell_type": "code",
   "execution_count": 30,
   "metadata": {},
   "outputs": [],
   "source": [
    "session.add(o1)"
   ]
  },
  {
   "cell_type": "code",
   "execution_count": 31,
   "metadata": {},
   "outputs": [
    {
     "name": "stdout",
     "output_type": "stream",
     "text": [
      "2019-10-26 18:56:19,148 INFO sqlalchemy.engine.base.Engine BEGIN (implicit)\n",
      "2019-10-26 18:56:19,151 INFO sqlalchemy.engine.base.Engine SELECT \"Customer\".\"customer_ID\" AS \"Customer_customer_ID\", \"Customer\".first_name AS \"Customer_first_name\", \"Customer\".last_name AS \"Customer_last_name\", \"Customer\".address AS \"Customer_address\", \"Customer\".email AS \"Customer_email\", \"Customer\".phone AS \"Customer_phone\" \n",
      "FROM \"Customer\" \n",
      "WHERE \"Customer\".\"customer_ID\" = %(param_1)s\n",
      "2019-10-26 18:56:19,152 INFO sqlalchemy.engine.base.Engine {'param_1': 1}\n",
      "2019-10-26 18:56:19,156 INFO sqlalchemy.engine.base.Engine SELECT \"Product\".\"product_ID\" AS \"Product_product_ID\", \"Product\".name AS \"Product_name\", \"Product\".product_type AS \"Product_product_type\", \"Product\".quantity AS \"Product_quantity\" \n",
      "FROM \"Product\" \n",
      "WHERE \"Product\".\"product_ID\" = %(param_1)s\n",
      "2019-10-26 18:56:19,157 INFO sqlalchemy.engine.base.Engine {'param_1': 1}\n",
      "2019-10-26 18:56:19,162 INFO sqlalchemy.engine.base.Engine INSERT INTO \"Order\" (order_date, \"customer_ID\") VALUES (%(order_date)s, %(customer_ID)s) RETURNING \"Order\".\"order_ID\"\n",
      "2019-10-26 18:56:19,163 INFO sqlalchemy.engine.base.Engine {'order_date': datetime.datetime(2019, 10, 26, 17, 56, 19, 162482), 'customer_ID': 1}\n",
      "2019-10-26 18:56:19,190 INFO sqlalchemy.engine.base.Engine INSERT INTO \"Association__Product_Order\" (\"product_ID\", \"order_ID\", product_quantity) VALUES (%(product_ID)s, %(order_ID)s, %(product_quantity)s)\n",
      "2019-10-26 18:56:19,191 INFO sqlalchemy.engine.base.Engine {'product_ID': 1, 'order_ID': 1, 'product_quantity': 5}\n",
      "2019-10-26 18:56:19,196 INFO sqlalchemy.engine.base.Engine COMMIT\n"
     ]
    }
   ],
   "source": [
    "session.commit()"
   ]
  },
  {
   "cell_type": "code",
   "execution_count": 43,
   "metadata": {},
   "outputs": [],
   "source": [
    "# customer1 initiating the order1\n",
    "o3 = Order()\n",
    "o3.customer = c1"
   ]
  },
  {
   "cell_type": "code",
   "execution_count": null,
   "metadata": {},
   "outputs": [],
   "source": []
  },
  {
   "cell_type": "code",
   "execution_count": 44,
   "metadata": {},
   "outputs": [],
   "source": [
    "# customer 1 adding product1 to his order\n",
    "a_po3 = Association__Product_Order(product_quantity=100)\n",
    "a_po3.order = o1\n",
    "a_po3.product = p1"
   ]
  },
  {
   "cell_type": "code",
   "execution_count": 45,
   "metadata": {},
   "outputs": [],
   "source": [
    "session.add(o3)\n",
    "session.add(a_po3)"
   ]
  },
  {
   "cell_type": "code",
   "execution_count": 46,
   "metadata": {},
   "outputs": [
    {
     "name": "stdout",
     "output_type": "stream",
     "text": [
      "2019-10-26 19:02:56,487 INFO sqlalchemy.engine.base.Engine BEGIN (implicit)\n",
      "2019-10-26 19:02:56,490 INFO sqlalchemy.engine.base.Engine SELECT \"Customer\".\"customer_ID\" AS \"Customer_customer_ID\", \"Customer\".first_name AS \"Customer_first_name\", \"Customer\".last_name AS \"Customer_last_name\", \"Customer\".address AS \"Customer_address\", \"Customer\".email AS \"Customer_email\", \"Customer\".phone AS \"Customer_phone\" \n",
      "FROM \"Customer\" \n",
      "WHERE \"Customer\".\"customer_ID\" = %(param_1)s\n",
      "2019-10-26 19:02:56,491 INFO sqlalchemy.engine.base.Engine {'param_1': 1}\n",
      "2019-10-26 19:02:56,494 INFO sqlalchemy.engine.base.Engine SELECT \"Product\".\"product_ID\" AS \"Product_product_ID\", \"Product\".name AS \"Product_name\", \"Product\".product_type AS \"Product_product_type\", \"Product\".quantity AS \"Product_quantity\" \n",
      "FROM \"Product\" \n",
      "WHERE \"Product\".\"product_ID\" = %(param_1)s\n",
      "2019-10-26 19:02:56,495 INFO sqlalchemy.engine.base.Engine {'param_1': 1}\n",
      "2019-10-26 19:02:56,498 INFO sqlalchemy.engine.base.Engine INSERT INTO \"Order\" (order_date, \"customer_ID\") VALUES (%(order_date)s, %(customer_ID)s) RETURNING \"Order\".\"order_ID\"\n",
      "2019-10-26 19:02:56,499 INFO sqlalchemy.engine.base.Engine {'order_date': datetime.datetime(2019, 10, 26, 18, 2, 56, 498272), 'customer_ID': 1}\n",
      "2019-10-26 19:02:56,503 INFO sqlalchemy.engine.base.Engine SELECT \"Order\".\"order_ID\" AS \"Order_order_ID\", \"Order\".order_date AS \"Order_order_date\", \"Order\".\"customer_ID\" AS \"Order_customer_ID\" \n",
      "FROM \"Order\" \n",
      "WHERE \"Order\".\"order_ID\" = %(param_1)s\n",
      "2019-10-26 19:02:56,504 INFO sqlalchemy.engine.base.Engine {'param_1': 1}\n",
      "2019-10-26 19:02:56,507 INFO sqlalchemy.engine.base.Engine SELECT \"Association__Product_Order\".\"product_ID\" AS \"Association__Product_Order_product_ID\", \"Association__Product_Order\".\"order_ID\" AS \"Association__Product_Order_order_ID\", \"Association__Product_Order\".product_quantity AS \"Association__Product_Order_product_quantity\" \n",
      "FROM \"Association__Product_Order\" \n",
      "WHERE \"Association__Product_Order\".\"product_ID\" = %(param_1)s AND \"Association__Product_Order\".\"order_ID\" = %(param_2)s\n",
      "2019-10-26 19:02:56,510 INFO sqlalchemy.engine.base.Engine {'param_1': 1, 'param_2': 1}\n",
      "2019-10-26 19:02:56,516 INFO sqlalchemy.engine.base.Engine ROLLBACK\n"
     ]
    },
    {
     "ename": "FlushError",
     "evalue": "New instance <Association__Product_Order at 0x10f9f6128> with identity key (<class '__main__.Association__Product_Order'>, (1, 1), None) conflicts with persistent instance <Association__Product_Order at 0x10f9b8780>",
     "output_type": "error",
     "traceback": [
      "\u001b[0;31m---------------------------------------------------------------------------\u001b[0m",
      "\u001b[0;31mFlushError\u001b[0m                                Traceback (most recent call last)",
      "\u001b[0;32m<ipython-input-46-83a1dbdbd92a>\u001b[0m in \u001b[0;36m<module>\u001b[0;34m\u001b[0m\n\u001b[0;32m----> 1\u001b[0;31m \u001b[0msession\u001b[0m\u001b[0;34m.\u001b[0m\u001b[0mcommit\u001b[0m\u001b[0;34m(\u001b[0m\u001b[0;34m)\u001b[0m\u001b[0;34m\u001b[0m\u001b[0m\n\u001b[0m",
      "\u001b[0;32m~/.virtualenvs/ustem/lib/python3.6/site-packages/sqlalchemy/orm/session.py\u001b[0m in \u001b[0;36mcommit\u001b[0;34m(self)\u001b[0m\n\u001b[1;32m   1006\u001b[0m                 \u001b[0;32mraise\u001b[0m \u001b[0msa_exc\u001b[0m\u001b[0;34m.\u001b[0m\u001b[0mInvalidRequestError\u001b[0m\u001b[0;34m(\u001b[0m\u001b[0;34m\"No transaction is begun.\"\u001b[0m\u001b[0;34m)\u001b[0m\u001b[0;34m\u001b[0m\u001b[0m\n\u001b[1;32m   1007\u001b[0m \u001b[0;34m\u001b[0m\u001b[0m\n\u001b[0;32m-> 1008\u001b[0;31m         \u001b[0mself\u001b[0m\u001b[0;34m.\u001b[0m\u001b[0mtransaction\u001b[0m\u001b[0;34m.\u001b[0m\u001b[0mcommit\u001b[0m\u001b[0;34m(\u001b[0m\u001b[0;34m)\u001b[0m\u001b[0;34m\u001b[0m\u001b[0m\n\u001b[0m\u001b[1;32m   1009\u001b[0m \u001b[0;34m\u001b[0m\u001b[0m\n\u001b[1;32m   1010\u001b[0m     \u001b[0;32mdef\u001b[0m \u001b[0mprepare\u001b[0m\u001b[0;34m(\u001b[0m\u001b[0mself\u001b[0m\u001b[0;34m)\u001b[0m\u001b[0;34m:\u001b[0m\u001b[0;34m\u001b[0m\u001b[0m\n",
      "\u001b[0;32m~/.virtualenvs/ustem/lib/python3.6/site-packages/sqlalchemy/orm/session.py\u001b[0m in \u001b[0;36mcommit\u001b[0;34m(self)\u001b[0m\n\u001b[1;32m    485\u001b[0m         \u001b[0mself\u001b[0m\u001b[0;34m.\u001b[0m\u001b[0m_assert_active\u001b[0m\u001b[0;34m(\u001b[0m\u001b[0mprepared_ok\u001b[0m\u001b[0;34m=\u001b[0m\u001b[0;32mTrue\u001b[0m\u001b[0;34m)\u001b[0m\u001b[0;34m\u001b[0m\u001b[0m\n\u001b[1;32m    486\u001b[0m         \u001b[0;32mif\u001b[0m \u001b[0mself\u001b[0m\u001b[0;34m.\u001b[0m\u001b[0m_state\u001b[0m \u001b[0;32mis\u001b[0m \u001b[0;32mnot\u001b[0m \u001b[0mPREPARED\u001b[0m\u001b[0;34m:\u001b[0m\u001b[0;34m\u001b[0m\u001b[0m\n\u001b[0;32m--> 487\u001b[0;31m             \u001b[0mself\u001b[0m\u001b[0;34m.\u001b[0m\u001b[0m_prepare_impl\u001b[0m\u001b[0;34m(\u001b[0m\u001b[0;34m)\u001b[0m\u001b[0;34m\u001b[0m\u001b[0m\n\u001b[0m\u001b[1;32m    488\u001b[0m \u001b[0;34m\u001b[0m\u001b[0m\n\u001b[1;32m    489\u001b[0m         \u001b[0;32mif\u001b[0m \u001b[0mself\u001b[0m\u001b[0;34m.\u001b[0m\u001b[0m_parent\u001b[0m \u001b[0;32mis\u001b[0m \u001b[0;32mNone\u001b[0m \u001b[0;32mor\u001b[0m \u001b[0mself\u001b[0m\u001b[0;34m.\u001b[0m\u001b[0mnested\u001b[0m\u001b[0;34m:\u001b[0m\u001b[0;34m\u001b[0m\u001b[0m\n",
      "\u001b[0;32m~/.virtualenvs/ustem/lib/python3.6/site-packages/sqlalchemy/orm/session.py\u001b[0m in \u001b[0;36m_prepare_impl\u001b[0;34m(self)\u001b[0m\n\u001b[1;32m    464\u001b[0m                 \u001b[0;32mif\u001b[0m \u001b[0mself\u001b[0m\u001b[0;34m.\u001b[0m\u001b[0msession\u001b[0m\u001b[0;34m.\u001b[0m\u001b[0m_is_clean\u001b[0m\u001b[0;34m(\u001b[0m\u001b[0;34m)\u001b[0m\u001b[0;34m:\u001b[0m\u001b[0;34m\u001b[0m\u001b[0m\n\u001b[1;32m    465\u001b[0m                     \u001b[0;32mbreak\u001b[0m\u001b[0;34m\u001b[0m\u001b[0m\n\u001b[0;32m--> 466\u001b[0;31m                 \u001b[0mself\u001b[0m\u001b[0;34m.\u001b[0m\u001b[0msession\u001b[0m\u001b[0;34m.\u001b[0m\u001b[0mflush\u001b[0m\u001b[0;34m(\u001b[0m\u001b[0;34m)\u001b[0m\u001b[0;34m\u001b[0m\u001b[0m\n\u001b[0m\u001b[1;32m    467\u001b[0m             \u001b[0;32melse\u001b[0m\u001b[0;34m:\u001b[0m\u001b[0;34m\u001b[0m\u001b[0m\n\u001b[1;32m    468\u001b[0m                 raise exc.FlushError(\n",
      "\u001b[0;32m~/.virtualenvs/ustem/lib/python3.6/site-packages/sqlalchemy/orm/session.py\u001b[0m in \u001b[0;36mflush\u001b[0;34m(self, objects)\u001b[0m\n\u001b[1;32m   2422\u001b[0m         \u001b[0;32mtry\u001b[0m\u001b[0;34m:\u001b[0m\u001b[0;34m\u001b[0m\u001b[0m\n\u001b[1;32m   2423\u001b[0m             \u001b[0mself\u001b[0m\u001b[0;34m.\u001b[0m\u001b[0m_flushing\u001b[0m \u001b[0;34m=\u001b[0m \u001b[0;32mTrue\u001b[0m\u001b[0;34m\u001b[0m\u001b[0m\n\u001b[0;32m-> 2424\u001b[0;31m             \u001b[0mself\u001b[0m\u001b[0;34m.\u001b[0m\u001b[0m_flush\u001b[0m\u001b[0;34m(\u001b[0m\u001b[0mobjects\u001b[0m\u001b[0;34m)\u001b[0m\u001b[0;34m\u001b[0m\u001b[0m\n\u001b[0m\u001b[1;32m   2425\u001b[0m         \u001b[0;32mfinally\u001b[0m\u001b[0;34m:\u001b[0m\u001b[0;34m\u001b[0m\u001b[0m\n\u001b[1;32m   2426\u001b[0m             \u001b[0mself\u001b[0m\u001b[0;34m.\u001b[0m\u001b[0m_flushing\u001b[0m \u001b[0;34m=\u001b[0m \u001b[0;32mFalse\u001b[0m\u001b[0;34m\u001b[0m\u001b[0m\n",
      "\u001b[0;32m~/.virtualenvs/ustem/lib/python3.6/site-packages/sqlalchemy/orm/session.py\u001b[0m in \u001b[0;36m_flush\u001b[0;34m(self, objects)\u001b[0m\n\u001b[1;32m   2560\u001b[0m         \u001b[0;32mexcept\u001b[0m\u001b[0;34m:\u001b[0m\u001b[0;34m\u001b[0m\u001b[0m\n\u001b[1;32m   2561\u001b[0m             \u001b[0;32mwith\u001b[0m \u001b[0mutil\u001b[0m\u001b[0;34m.\u001b[0m\u001b[0msafe_reraise\u001b[0m\u001b[0;34m(\u001b[0m\u001b[0;34m)\u001b[0m\u001b[0;34m:\u001b[0m\u001b[0;34m\u001b[0m\u001b[0m\n\u001b[0;32m-> 2562\u001b[0;31m                 \u001b[0mtransaction\u001b[0m\u001b[0;34m.\u001b[0m\u001b[0mrollback\u001b[0m\u001b[0;34m(\u001b[0m\u001b[0m_capture_exception\u001b[0m\u001b[0;34m=\u001b[0m\u001b[0;32mTrue\u001b[0m\u001b[0;34m)\u001b[0m\u001b[0;34m\u001b[0m\u001b[0m\n\u001b[0m\u001b[1;32m   2563\u001b[0m \u001b[0;34m\u001b[0m\u001b[0m\n\u001b[1;32m   2564\u001b[0m     def bulk_save_objects(\n",
      "\u001b[0;32m~/.virtualenvs/ustem/lib/python3.6/site-packages/sqlalchemy/util/langhelpers.py\u001b[0m in \u001b[0;36m__exit__\u001b[0;34m(self, type_, value, traceback)\u001b[0m\n\u001b[1;32m     65\u001b[0m             \u001b[0mself\u001b[0m\u001b[0;34m.\u001b[0m\u001b[0m_exc_info\u001b[0m \u001b[0;34m=\u001b[0m \u001b[0;32mNone\u001b[0m  \u001b[0;31m# remove potential circular references\u001b[0m\u001b[0;34m\u001b[0m\u001b[0m\n\u001b[1;32m     66\u001b[0m             \u001b[0;32mif\u001b[0m \u001b[0;32mnot\u001b[0m \u001b[0mself\u001b[0m\u001b[0;34m.\u001b[0m\u001b[0mwarn_only\u001b[0m\u001b[0;34m:\u001b[0m\u001b[0;34m\u001b[0m\u001b[0m\n\u001b[0;32m---> 67\u001b[0;31m                 \u001b[0mcompat\u001b[0m\u001b[0;34m.\u001b[0m\u001b[0mreraise\u001b[0m\u001b[0;34m(\u001b[0m\u001b[0mexc_type\u001b[0m\u001b[0;34m,\u001b[0m \u001b[0mexc_value\u001b[0m\u001b[0;34m,\u001b[0m \u001b[0mexc_tb\u001b[0m\u001b[0;34m)\u001b[0m\u001b[0;34m\u001b[0m\u001b[0m\n\u001b[0m\u001b[1;32m     68\u001b[0m         \u001b[0;32melse\u001b[0m\u001b[0;34m:\u001b[0m\u001b[0;34m\u001b[0m\u001b[0m\n\u001b[1;32m     69\u001b[0m             \u001b[0;32mif\u001b[0m \u001b[0;32mnot\u001b[0m \u001b[0mcompat\u001b[0m\u001b[0;34m.\u001b[0m\u001b[0mpy3k\u001b[0m \u001b[0;32mand\u001b[0m \u001b[0mself\u001b[0m\u001b[0;34m.\u001b[0m\u001b[0m_exc_info\u001b[0m \u001b[0;32mand\u001b[0m \u001b[0mself\u001b[0m\u001b[0;34m.\u001b[0m\u001b[0m_exc_info\u001b[0m\u001b[0;34m[\u001b[0m\u001b[0;36m1\u001b[0m\u001b[0;34m]\u001b[0m\u001b[0;34m:\u001b[0m\u001b[0;34m\u001b[0m\u001b[0m\n",
      "\u001b[0;32m~/.virtualenvs/ustem/lib/python3.6/site-packages/sqlalchemy/util/compat.py\u001b[0m in \u001b[0;36mreraise\u001b[0;34m(tp, value, tb, cause)\u001b[0m\n\u001b[1;32m    275\u001b[0m         \u001b[0;32mif\u001b[0m \u001b[0mvalue\u001b[0m\u001b[0;34m.\u001b[0m\u001b[0m__traceback__\u001b[0m \u001b[0;32mis\u001b[0m \u001b[0;32mnot\u001b[0m \u001b[0mtb\u001b[0m\u001b[0;34m:\u001b[0m\u001b[0;34m\u001b[0m\u001b[0m\n\u001b[1;32m    276\u001b[0m             \u001b[0;32mraise\u001b[0m \u001b[0mvalue\u001b[0m\u001b[0;34m.\u001b[0m\u001b[0mwith_traceback\u001b[0m\u001b[0;34m(\u001b[0m\u001b[0mtb\u001b[0m\u001b[0;34m)\u001b[0m\u001b[0;34m\u001b[0m\u001b[0m\n\u001b[0;32m--> 277\u001b[0;31m         \u001b[0;32mraise\u001b[0m \u001b[0mvalue\u001b[0m\u001b[0;34m\u001b[0m\u001b[0m\n\u001b[0m\u001b[1;32m    278\u001b[0m \u001b[0;34m\u001b[0m\u001b[0m\n\u001b[1;32m    279\u001b[0m \u001b[0;34m\u001b[0m\u001b[0m\n",
      "\u001b[0;32m~/.virtualenvs/ustem/lib/python3.6/site-packages/sqlalchemy/orm/session.py\u001b[0m in \u001b[0;36m_flush\u001b[0;34m(self, objects)\u001b[0m\n\u001b[1;32m   2520\u001b[0m             \u001b[0mself\u001b[0m\u001b[0;34m.\u001b[0m\u001b[0m_warn_on_events\u001b[0m \u001b[0;34m=\u001b[0m \u001b[0;32mTrue\u001b[0m\u001b[0;34m\u001b[0m\u001b[0m\n\u001b[1;32m   2521\u001b[0m             \u001b[0;32mtry\u001b[0m\u001b[0;34m:\u001b[0m\u001b[0;34m\u001b[0m\u001b[0m\n\u001b[0;32m-> 2522\u001b[0;31m                 \u001b[0mflush_context\u001b[0m\u001b[0;34m.\u001b[0m\u001b[0mexecute\u001b[0m\u001b[0;34m(\u001b[0m\u001b[0;34m)\u001b[0m\u001b[0;34m\u001b[0m\u001b[0m\n\u001b[0m\u001b[1;32m   2523\u001b[0m             \u001b[0;32mfinally\u001b[0m\u001b[0;34m:\u001b[0m\u001b[0;34m\u001b[0m\u001b[0m\n\u001b[1;32m   2524\u001b[0m                 \u001b[0mself\u001b[0m\u001b[0;34m.\u001b[0m\u001b[0m_warn_on_events\u001b[0m \u001b[0;34m=\u001b[0m \u001b[0;32mFalse\u001b[0m\u001b[0;34m\u001b[0m\u001b[0m\n",
      "\u001b[0;32m~/.virtualenvs/ustem/lib/python3.6/site-packages/sqlalchemy/orm/unitofwork.py\u001b[0m in \u001b[0;36mexecute\u001b[0;34m(self)\u001b[0m\n\u001b[1;32m    414\u001b[0m         \u001b[0;32melse\u001b[0m\u001b[0;34m:\u001b[0m\u001b[0;34m\u001b[0m\u001b[0m\n\u001b[1;32m    415\u001b[0m             \u001b[0;32mfor\u001b[0m \u001b[0mrec\u001b[0m \u001b[0;32min\u001b[0m \u001b[0mtopological\u001b[0m\u001b[0;34m.\u001b[0m\u001b[0msort\u001b[0m\u001b[0;34m(\u001b[0m\u001b[0mself\u001b[0m\u001b[0;34m.\u001b[0m\u001b[0mdependencies\u001b[0m\u001b[0;34m,\u001b[0m \u001b[0mpostsort_actions\u001b[0m\u001b[0;34m)\u001b[0m\u001b[0;34m:\u001b[0m\u001b[0;34m\u001b[0m\u001b[0m\n\u001b[0;32m--> 416\u001b[0;31m                 \u001b[0mrec\u001b[0m\u001b[0;34m.\u001b[0m\u001b[0mexecute\u001b[0m\u001b[0;34m(\u001b[0m\u001b[0mself\u001b[0m\u001b[0;34m)\u001b[0m\u001b[0;34m\u001b[0m\u001b[0m\n\u001b[0m\u001b[1;32m    417\u001b[0m \u001b[0;34m\u001b[0m\u001b[0m\n\u001b[1;32m    418\u001b[0m     \u001b[0;32mdef\u001b[0m \u001b[0mfinalize_flush_changes\u001b[0m\u001b[0;34m(\u001b[0m\u001b[0mself\u001b[0m\u001b[0;34m)\u001b[0m\u001b[0;34m:\u001b[0m\u001b[0;34m\u001b[0m\u001b[0m\n",
      "\u001b[0;32m~/.virtualenvs/ustem/lib/python3.6/site-packages/sqlalchemy/orm/unitofwork.py\u001b[0m in \u001b[0;36mexecute\u001b[0;34m(self, uow)\u001b[0m\n\u001b[1;32m    581\u001b[0m             \u001b[0mself\u001b[0m\u001b[0;34m.\u001b[0m\u001b[0mmapper\u001b[0m\u001b[0;34m,\u001b[0m\u001b[0;34m\u001b[0m\u001b[0m\n\u001b[1;32m    582\u001b[0m             \u001b[0muow\u001b[0m\u001b[0;34m.\u001b[0m\u001b[0mstates_for_mapper_hierarchy\u001b[0m\u001b[0;34m(\u001b[0m\u001b[0mself\u001b[0m\u001b[0;34m.\u001b[0m\u001b[0mmapper\u001b[0m\u001b[0;34m,\u001b[0m \u001b[0;32mFalse\u001b[0m\u001b[0;34m,\u001b[0m \u001b[0;32mFalse\u001b[0m\u001b[0;34m)\u001b[0m\u001b[0;34m,\u001b[0m\u001b[0;34m\u001b[0m\u001b[0m\n\u001b[0;32m--> 583\u001b[0;31m             \u001b[0muow\u001b[0m\u001b[0;34m,\u001b[0m\u001b[0;34m\u001b[0m\u001b[0m\n\u001b[0m\u001b[1;32m    584\u001b[0m         )\n\u001b[1;32m    585\u001b[0m \u001b[0;34m\u001b[0m\u001b[0m\n",
      "\u001b[0;32m~/.virtualenvs/ustem/lib/python3.6/site-packages/sqlalchemy/orm/persistence.py\u001b[0m in \u001b[0;36msave_obj\u001b[0;34m(base_mapper, states, uowtransaction, single)\u001b[0m\n\u001b[1;32m    211\u001b[0m         \u001b[0mrow_switch\u001b[0m\u001b[0;34m,\u001b[0m\u001b[0;34m\u001b[0m\u001b[0m\n\u001b[1;32m    212\u001b[0m         \u001b[0mupdate_version_id\u001b[0m\u001b[0;34m,\u001b[0m\u001b[0;34m\u001b[0m\u001b[0m\n\u001b[0;32m--> 213\u001b[0;31m     ) in _organize_states_for_save(base_mapper, states, uowtransaction):\n\u001b[0m\u001b[1;32m    214\u001b[0m         \u001b[0;32mif\u001b[0m \u001b[0mhas_identity\u001b[0m \u001b[0;32mor\u001b[0m \u001b[0mrow_switch\u001b[0m\u001b[0;34m:\u001b[0m\u001b[0;34m\u001b[0m\u001b[0m\n\u001b[1;32m    215\u001b[0m             states_to_update.append(\n",
      "\u001b[0;32m~/.virtualenvs/ustem/lib/python3.6/site-packages/sqlalchemy/orm/persistence.py\u001b[0m in \u001b[0;36m_organize_states_for_save\u001b[0;34m(base_mapper, states, uowtransaction)\u001b[0m\n\u001b[1;32m    406\u001b[0m                         \u001b[0;34m\"New instance %s with identity key %s conflicts \"\u001b[0m\u001b[0;34m\u001b[0m\u001b[0m\n\u001b[1;32m    407\u001b[0m                         \u001b[0;34m\"with persistent instance %s\"\u001b[0m\u001b[0;34m\u001b[0m\u001b[0m\n\u001b[0;32m--> 408\u001b[0;31m                         \u001b[0;34m%\u001b[0m \u001b[0;34m(\u001b[0m\u001b[0mstate_str\u001b[0m\u001b[0;34m(\u001b[0m\u001b[0mstate\u001b[0m\u001b[0;34m)\u001b[0m\u001b[0;34m,\u001b[0m \u001b[0minstance_key\u001b[0m\u001b[0;34m,\u001b[0m \u001b[0mstate_str\u001b[0m\u001b[0;34m(\u001b[0m\u001b[0mexisting\u001b[0m\u001b[0;34m)\u001b[0m\u001b[0;34m)\u001b[0m\u001b[0;34m\u001b[0m\u001b[0m\n\u001b[0m\u001b[1;32m    409\u001b[0m                     )\n\u001b[1;32m    410\u001b[0m \u001b[0;34m\u001b[0m\u001b[0m\n",
      "\u001b[0;31mFlushError\u001b[0m: New instance <Association__Product_Order at 0x10f9f6128> with identity key (<class '__main__.Association__Product_Order'>, (1, 1), None) conflicts with persistent instance <Association__Product_Order at 0x10f9b8780>"
     ]
    }
   ],
   "source": [
    "session.commit()"
   ]
  },
  {
   "cell_type": "code",
   "execution_count": null,
   "metadata": {},
   "outputs": [],
   "source": []
  },
  {
   "cell_type": "markdown",
   "metadata": {},
   "source": [
    "## QUERYING"
   ]
  },
  {
   "cell_type": "code",
   "execution_count": 32,
   "metadata": {},
   "outputs": [
    {
     "name": "stdout",
     "output_type": "stream",
     "text": [
      "2019-10-26 18:57:23,484 INFO sqlalchemy.engine.base.Engine BEGIN (implicit)\n",
      "2019-10-26 18:57:23,486 INFO sqlalchemy.engine.base.Engine SELECT \"Product\".\"product_ID\" AS \"Product_product_ID\", \"Product\".name AS \"Product_name\", \"Product\".product_type AS \"Product_product_type\", \"Product\".quantity AS \"Product_quantity\" \n",
      "FROM \"Product\" \n",
      "WHERE \"Product\".name IN (%(name_1)s, %(name_2)s)\n",
      "2019-10-26 18:57:23,488 INFO sqlalchemy.engine.base.Engine {'name_1': 'fish', 'name_2': 'bread'}\n"
     ]
    },
    {
     "data": {
      "text/plain": [
       "[<Product(name=fish, type=food)>, <Product(name=bread, type=food)>]"
      ]
     },
     "execution_count": 32,
     "metadata": {},
     "output_type": "execute_result"
    }
   ],
   "source": [
    "session.query(Product).filter(Product.name.in_(['fish', 'bread'])).all()"
   ]
  },
  {
   "cell_type": "code",
   "execution_count": 34,
   "metadata": {},
   "outputs": [
    {
     "name": "stdout",
     "output_type": "stream",
     "text": [
      "2019-10-26 18:58:01,705 INFO sqlalchemy.engine.base.Engine SELECT \"Product\".\"product_ID\" AS \"Product_product_ID\", \"Product\".name AS \"Product_name\", \"Product\".product_type AS \"Product_product_type\", \"Product\".quantity AS \"Product_quantity\" \n",
      "FROM \"Product\" \n",
      "WHERE \"Product\".product_type = %(product_type_1)s\n",
      "2019-10-26 18:58:01,706 INFO sqlalchemy.engine.base.Engine {'product_type_1': 'food'}\n"
     ]
    },
    {
     "data": {
      "text/plain": [
       "[<Product(name=fish, type=food)>, <Product(name=bread, type=food)>]"
      ]
     },
     "execution_count": 34,
     "metadata": {},
     "output_type": "execute_result"
    }
   ],
   "source": [
    "session.query(Product).filter(Product.product_type=='food').all()"
   ]
  },
  {
   "cell_type": "code",
   "execution_count": 35,
   "metadata": {},
   "outputs": [
    {
     "name": "stdout",
     "output_type": "stream",
     "text": [
      "2019-10-26 18:58:28,517 INFO sqlalchemy.engine.base.Engine SELECT \"Customer\".\"customer_ID\" AS \"Customer_customer_ID\", \"Customer\".first_name AS \"Customer_first_name\", \"Customer\".last_name AS \"Customer_last_name\", \"Customer\".address AS \"Customer_address\", \"Customer\".email AS \"Customer_email\", \"Customer\".phone AS \"Customer_phone\" \n",
      "FROM \"Customer\" \n",
      "WHERE \"Customer\".\"customer_ID\" = %(param_1)s\n",
      "2019-10-26 18:58:28,519 INFO sqlalchemy.engine.base.Engine {'param_1': 1}\n",
      "2019-10-26 18:58:28,522 INFO sqlalchemy.engine.base.Engine SELECT \"Order\".\"order_ID\" AS \"Order_order_ID\", \"Order\".order_date AS \"Order_order_date\", \"Order\".\"customer_ID\" AS \"Order_customer_ID\" \n",
      "FROM \"Order\" \n",
      "WHERE %(param_1)s = \"Order\".\"customer_ID\" ORDER BY \"Order\".order_date\n",
      "2019-10-26 18:58:28,524 INFO sqlalchemy.engine.base.Engine {'param_1': 1}\n"
     ]
    },
    {
     "data": {
      "text/plain": [
       "[<Order(order_ID=1, order_date=2019-10-26 17:56:19.162482)>]"
      ]
     },
     "execution_count": 35,
     "metadata": {},
     "output_type": "execute_result"
    }
   ],
   "source": [
    "session.query(Order).filter(Order.customer==c1).order_by(Order.order_date).all()"
   ]
  },
  {
   "cell_type": "code",
   "execution_count": 36,
   "metadata": {},
   "outputs": [
    {
     "name": "stdout",
     "output_type": "stream",
     "text": [
      "2019-10-26 18:58:46,284 INFO sqlalchemy.engine.base.Engine SELECT \"Customer\".\"customer_ID\" AS \"Customer_customer_ID\", \"Customer\".first_name AS \"Customer_first_name\", \"Customer\".last_name AS \"Customer_last_name\", \"Customer\".address AS \"Customer_address\", \"Customer\".email AS \"Customer_email\", \"Customer\".phone AS \"Customer_phone\" \n",
      "FROM \"Customer\" \n",
      "WHERE \"Customer\".\"customer_ID\" = %(param_1)s\n",
      "2019-10-26 18:58:46,286 INFO sqlalchemy.engine.base.Engine {'param_1': 2}\n",
      "2019-10-26 18:58:46,289 INFO sqlalchemy.engine.base.Engine SELECT \"Order\".\"order_ID\" AS \"Order_order_ID\", \"Order\".order_date AS \"Order_order_date\", \"Order\".\"customer_ID\" AS \"Order_customer_ID\" \n",
      "FROM \"Order\" \n",
      "WHERE %(param_1)s = \"Order\".\"customer_ID\" ORDER BY \"Order\".order_date\n",
      "2019-10-26 18:58:46,291 INFO sqlalchemy.engine.base.Engine {'param_1': 2}\n"
     ]
    },
    {
     "data": {
      "text/plain": [
       "[]"
      ]
     },
     "execution_count": 36,
     "metadata": {},
     "output_type": "execute_result"
    }
   ],
   "source": [
    "session.query(Order).filter(Order.customer==c2).order_by(Order.order_date).all()"
   ]
  }
 ],
 "metadata": {
  "kernelspec": {
   "display_name": "Python 3",
   "language": "python",
   "name": "python3"
  },
  "language_info": {
   "codemirror_mode": {
    "name": "ipython",
    "version": 3
   },
   "file_extension": ".py",
   "mimetype": "text/x-python",
   "name": "python",
   "nbconvert_exporter": "python",
   "pygments_lexer": "ipython3",
   "version": "3.6.5"
  }
 },
 "nbformat": 4,
 "nbformat_minor": 2
}
