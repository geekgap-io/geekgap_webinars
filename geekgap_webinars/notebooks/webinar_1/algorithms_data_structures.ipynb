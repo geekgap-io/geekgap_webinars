{
 "cells": [
  {
   "cell_type": "markdown",
   "metadata": {},
   "source": [
    "# Time Complexity Examples"
   ]
  },
  {
   "cell_type": "code",
   "execution_count": 19,
   "metadata": {},
   "outputs": [
    {
     "name": "stdout",
     "output_type": "stream",
     "text": [
      "CPU times: user 6 µs, sys: 1e+03 ns, total: 7 µs\n",
      "Wall time: 9.06 µs\n"
     ]
    }
   ],
   "source": [
    "def logarithmic_problem(N):\n",
    "    i = N\n",
    "    while i > 1:\n",
    "        # do something\n",
    "        i = i // 2 # move on\n",
    "          \n",
    "%time logarithmic_problem(10000)"
   ]
  },
  {
   "cell_type": "code",
   "execution_count": 22,
   "metadata": {},
   "outputs": [
    {
     "name": "stdout",
     "output_type": "stream",
     "text": [
      "CPU times: user 1.38 ms, sys: 734 µs, total: 2.11 ms\n",
      "Wall time: 1.45 ms\n"
     ]
    }
   ],
   "source": [
    "def linear_problem(N):\n",
    "    i = N\n",
    "    while i > 1:\n",
    "        # do something\n",
    "        i = i - 1 # move on\n",
    "    \n",
    "%time linear_problem(10000)"
   ]
  },
  {
   "cell_type": "code",
   "execution_count": 23,
   "metadata": {},
   "outputs": [
    {
     "name": "stdout",
     "output_type": "stream",
     "text": [
      "CPU times: user 5.21 s, sys: 67.3 ms, total: 5.28 s\n",
      "Wall time: 5.33 s\n"
     ]
    }
   ],
   "source": [
    "def quadratic_problem(N):\n",
    "    i = N\n",
    "    while i > 1:\n",
    "        j = N\n",
    "        while j > 1:\n",
    "            # do something\n",
    "            j = j - 1 # move on\n",
    "        i = i - 1\n",
    "        \n",
    "%time quadratic_problem(10000)"
   ]
  },
  {
   "cell_type": "code",
   "execution_count": null,
   "metadata": {},
   "outputs": [],
   "source": []
  },
  {
   "cell_type": "markdown",
   "metadata": {},
   "source": [
    "# Problem \n",
    "Given an array(A) of numbers sorted in increasing order, implement a function that returns the index of a target(k) if found in A, and -1 otherwise."
   ]
  },
  {
   "cell_type": "markdown",
   "metadata": {},
   "source": [
    "### Brute-force solution: Linear Search"
   ]
  },
  {
   "cell_type": "code",
   "execution_count": 81,
   "metadata": {},
   "outputs": [],
   "source": [
    "A = [5, 8, 8, 15, 16, 19, 30, 35, 40, 51]"
   ]
  },
  {
   "cell_type": "code",
   "execution_count": 1,
   "metadata": {},
   "outputs": [],
   "source": [
    "def linear_search(A, k):\n",
    "    for idx, element in enumerate(A):\n",
    "        if element == k:\n",
    "            return idx\n",
    "    return -1"
   ]
  },
  {
   "cell_type": "code",
   "execution_count": 89,
   "metadata": {},
   "outputs": [
    {
     "data": {
      "text/plain": [
       "3"
      ]
     },
     "execution_count": 89,
     "metadata": {},
     "output_type": "execute_result"
    }
   ],
   "source": [
    "linear_search(A, 15)"
   ]
  },
  {
   "cell_type": "code",
   "execution_count": 83,
   "metadata": {},
   "outputs": [
    {
     "data": {
      "text/plain": [
       "-1"
      ]
     },
     "execution_count": 83,
     "metadata": {},
     "output_type": "execute_result"
    }
   ],
   "source": [
    "linear_search(A, 100)"
   ]
  },
  {
   "cell_type": "markdown",
   "metadata": {},
   "source": [
    "### Efficient solution: Binary Search"
   ]
  },
  {
   "cell_type": "code",
   "execution_count": 81,
   "metadata": {},
   "outputs": [],
   "source": [
    "A = [5, 8, 8, 15, 16, 19, 30, 35, 40, 51]"
   ]
  },
  {
   "cell_type": "code",
   "execution_count": 97,
   "metadata": {},
   "outputs": [],
   "source": [
    "def binary_search(A, k):\n",
    "    left, right = 0, len(A)-1\n",
    "    while left<=right:\n",
    "        mid = (right - left)//2 + left\n",
    "        if A[mid] < k:\n",
    "            #look on the right\n",
    "            left = mid+1\n",
    "        elif A[mid] > k:\n",
    "            #look on the left\n",
    "            right = mid-1\n",
    "        else:\n",
    "            return mid\n",
    "        \n",
    "    return -1"
   ]
  },
  {
   "cell_type": "code",
   "execution_count": 91,
   "metadata": {},
   "outputs": [
    {
     "data": {
      "text/plain": [
       "3"
      ]
     },
     "execution_count": 91,
     "metadata": {},
     "output_type": "execute_result"
    }
   ],
   "source": [
    "binary_search(A, 15)"
   ]
  },
  {
   "cell_type": "code",
   "execution_count": 99,
   "metadata": {},
   "outputs": [
    {
     "data": {
      "text/plain": [
       "-1"
      ]
     },
     "execution_count": 99,
     "metadata": {},
     "output_type": "execute_result"
    }
   ],
   "source": [
    "binary_search(A, 17)"
   ]
  },
  {
   "cell_type": "markdown",
   "metadata": {},
   "source": [
    "### Binary Search common bugs:"
   ]
  },
  {
   "cell_type": "markdown",
   "metadata": {},
   "source": [
    "#### BUG-1: one-off bug\n",
    "not handling arrays of size=1"
   ]
  },
  {
   "cell_type": "code",
   "execution_count": 81,
   "metadata": {},
   "outputs": [],
   "source": [
    "A = [5, 8, 8, 15, 16, 19, 30, 35, 40, 51]"
   ]
  },
  {
   "cell_type": "code",
   "execution_count": 107,
   "metadata": {},
   "outputs": [],
   "source": [
    "def binary_search_bug1(A, k):\n",
    "    left, right = 0, len(A)-1\n",
    "    #HERE: < instead of <=\n",
    "    while left<right: \n",
    "        mid = (right - left)//2 + left\n",
    "        if A[mid] < k:\n",
    "            #look on the right\n",
    "            left = mid+1\n",
    "        elif A[mid] > k:\n",
    "            #look on the left\n",
    "            right = mid-1\n",
    "        else:\n",
    "            return mid\n",
    "    return -1"
   ]
  },
  {
   "cell_type": "code",
   "execution_count": 132,
   "metadata": {},
   "outputs": [
    {
     "data": {
      "text/plain": [
       "7"
      ]
     },
     "execution_count": 132,
     "metadata": {},
     "output_type": "execute_result"
    }
   ],
   "source": [
    "binary_search_bug1(A, 35)"
   ]
  },
  {
   "cell_type": "code",
   "execution_count": 133,
   "metadata": {},
   "outputs": [
    {
     "data": {
      "text/plain": [
       "-1"
      ]
     },
     "execution_count": 133,
     "metadata": {},
     "output_type": "execute_result"
    }
   ],
   "source": [
    "binary_search_bug1(A, 30)"
   ]
  },
  {
   "cell_type": "code",
   "execution_count": 128,
   "metadata": {},
   "outputs": [
    {
     "data": {
      "text/plain": [
       "-1"
      ]
     },
     "execution_count": 128,
     "metadata": {},
     "output_type": "execute_result"
    }
   ],
   "source": [
    "binary_search_bug1(A, 15)"
   ]
  },
  {
   "cell_type": "code",
   "execution_count": 109,
   "metadata": {},
   "outputs": [
    {
     "data": {
      "text/plain": [
       "-1"
      ]
     },
     "execution_count": 109,
     "metadata": {},
     "output_type": "execute_result"
    }
   ],
   "source": [
    "binary_search_bug1([15], 15)"
   ]
  },
  {
   "cell_type": "markdown",
   "metadata": {},
   "source": [
    "#### BUG-2: integer overflow\n",
    "not handling the case where summing two integers can return an integer bigger than what the memory can take"
   ]
  },
  {
   "cell_type": "code",
   "execution_count": 126,
   "metadata": {},
   "outputs": [],
   "source": [
    "# because python3 only imposes limits \n",
    "# on float, we are going to illustrate\n",
    "# this issue using floats instead of ints\n",
    "import sys\n",
    "\n",
    "right = sys.float_info.max\n",
    "left = sys.float_info.max - 1000"
   ]
  },
  {
   "cell_type": "code",
   "execution_count": 124,
   "metadata": {},
   "outputs": [
    {
     "data": {
      "text/plain": [
       "nan"
      ]
     },
     "execution_count": 124,
     "metadata": {},
     "output_type": "execute_result"
    }
   ],
   "source": [
    "mid = (right + left) // 2\n",
    "mid"
   ]
  },
  {
   "cell_type": "code",
   "execution_count": 125,
   "metadata": {},
   "outputs": [
    {
     "data": {
      "text/plain": [
       "1.7976931348623157e+308"
      ]
     },
     "execution_count": 125,
     "metadata": {},
     "output_type": "execute_result"
    }
   ],
   "source": [
    "mid = (right - left)//2 + left\n",
    "mid"
   ]
  },
  {
   "cell_type": "code",
   "execution_count": null,
   "metadata": {},
   "outputs": [],
   "source": []
  },
  {
   "cell_type": "markdown",
   "metadata": {},
   "source": [
    "## Problem variant1:\n",
    "#### Search a sorted array for first occurrence of target(k)"
   ]
  },
  {
   "cell_type": "markdown",
   "metadata": {},
   "source": [
    "Given an array(A) of numbers sorted in increasing order, implement a function that returns the index of the first occurence of a target(k) if found in A, and -1 otherwise."
   ]
  },
  {
   "cell_type": "code",
   "execution_count": 149,
   "metadata": {},
   "outputs": [],
   "source": [
    "A = [5, 8, 8, 8, 8, 19, 30, 35, 40, 51]"
   ]
  },
  {
   "cell_type": "code",
   "execution_count": 146,
   "metadata": {},
   "outputs": [],
   "source": [
    "def first_occurence_search(A, k):\n",
    "    left, right, res = 0, len(A)-1, -1\n",
    "    while left<=right:\n",
    "        mid = (right - left)//2 + left\n",
    "        if A[mid] < k:\n",
    "            #look on the right\n",
    "            left = mid+1\n",
    "        elif A[mid] > k:\n",
    "            #look on the left\n",
    "            right = mid-1\n",
    "        else:\n",
    "            # update res\n",
    "            res = mid\n",
    "            # keep looking on the left\n",
    "            right = mid-1\n",
    "        \n",
    "    return res"
   ]
  },
  {
   "cell_type": "code",
   "execution_count": 147,
   "metadata": {},
   "outputs": [
    {
     "data": {
      "text/plain": [
       "4"
      ]
     },
     "execution_count": 147,
     "metadata": {},
     "output_type": "execute_result"
    }
   ],
   "source": [
    "binary_search(A, 8)"
   ]
  },
  {
   "cell_type": "code",
   "execution_count": 148,
   "metadata": {},
   "outputs": [
    {
     "data": {
      "text/plain": [
       "1"
      ]
     },
     "execution_count": 148,
     "metadata": {},
     "output_type": "execute_result"
    }
   ],
   "source": [
    "first_occurence_search(A, 8)"
   ]
  },
  {
   "cell_type": "code",
   "execution_count": null,
   "metadata": {},
   "outputs": [],
   "source": []
  },
  {
   "cell_type": "markdown",
   "metadata": {},
   "source": [
    "## Problem variant2:\n",
    "#### Search a sorted array for entry equal to its index"
   ]
  },
  {
   "cell_type": "markdown",
   "metadata": {},
   "source": [
    "Given a sorted array(A) of distinct integers, implement a function that returns the index i if A[i] = i, and -1 otherwise."
   ]
  },
  {
   "cell_type": "code",
   "execution_count": 155,
   "metadata": {},
   "outputs": [],
   "source": [
    "A = [-3, 0, 2, 5, 7, 9, 18, 35, 40, 51]"
   ]
  },
  {
   "cell_type": "code",
   "execution_count": 153,
   "metadata": {},
   "outputs": [],
   "source": [
    "def search_entry_equal_to_its_index(A):\n",
    "    left, right = 0, len(A)-1\n",
    "    while left<=right:\n",
    "        mid = (right - left)//2 + left\n",
    "        difference = A[mid] - mid\n",
    "        if difference < 0:\n",
    "            #look on the right\n",
    "            left = mid+1\n",
    "        elif difference > 0:\n",
    "            #look on the left\n",
    "            right = mid-1\n",
    "        else:\n",
    "            return mid\n",
    "        \n",
    "    return -1"
   ]
  },
  {
   "cell_type": "code",
   "execution_count": 156,
   "metadata": {},
   "outputs": [
    {
     "data": {
      "text/plain": [
       "2"
      ]
     },
     "execution_count": 156,
     "metadata": {},
     "output_type": "execute_result"
    }
   ],
   "source": [
    "search_entry_equal_to_its_index(A)"
   ]
  },
  {
   "cell_type": "code",
   "execution_count": null,
   "metadata": {},
   "outputs": [],
   "source": []
  }
 ],
 "metadata": {
  "kernelspec": {
   "display_name": "Python 3",
   "language": "python",
   "name": "python3"
  },
  "language_info": {
   "codemirror_mode": {
    "name": "ipython",
    "version": 3
   },
   "file_extension": ".py",
   "mimetype": "text/x-python",
   "name": "python",
   "nbconvert_exporter": "python",
   "pygments_lexer": "ipython3",
   "version": "3.6.5"
  }
 },
 "nbformat": 4,
 "nbformat_minor": 2
}
