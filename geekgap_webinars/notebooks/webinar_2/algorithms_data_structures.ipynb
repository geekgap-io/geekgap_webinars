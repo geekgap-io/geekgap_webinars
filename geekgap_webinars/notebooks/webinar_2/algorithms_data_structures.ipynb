{
 "cells": [
  {
   "cell_type": "code",
   "execution_count": 1,
   "metadata": {},
   "outputs": [
    {
     "name": "stdout",
     "output_type": "stream",
     "text": [
      "Requirement already satisfied: memory_profiler in /Users/junior/.pyenv/versions/3.6.5/lib/python3.6/site-packages (0.55.0)\n",
      "Requirement already satisfied: psutil in /Users/junior/.pyenv/versions/3.6.5/lib/python3.6/site-packages (from memory_profiler) (5.6.3)\n",
      "\u001b[33mYou are using pip version 18.1, however version 19.3.1 is available.\n",
      "You should consider upgrading via the 'pip install --upgrade pip' command.\u001b[0m\n"
     ]
    }
   ],
   "source": [
    "! pip install memory_profiler\n",
    "%load_ext memory_profiler"
   ]
  },
  {
   "cell_type": "markdown",
   "metadata": {},
   "source": [
    "### INTRODUCTORY EXAMPLE:\n",
    "#### Total size of folders and files in a path"
   ]
  },
  {
   "cell_type": "code",
   "execution_count": 2,
   "metadata": {},
   "outputs": [],
   "source": [
    "import os\n",
    "\"\"\"\n",
    "The os functions that we are given are:\n",
    "os.path.getsize(path)\n",
    "os.path.isdir(path)\n",
    "os.listdir(path)\n",
    "os.path.join(path, filename)\n",
    "\"\"\"\n",
    "\n",
    "def disk_usage(path):\n",
    "    \"\"\"\n",
    "    Input: a path\n",
    "    Output: Total Disk Space being utilized by a folder/file\n",
    "    \"\"\"\n",
    "\n",
    "    path_size = os.path.getsize(path)\n",
    "\n",
    "    # 1- base case\n",
    "    if os.path.isfile(path):\n",
    "        print('{0:<7}'.format(path_size), path)\n",
    "        return path_size\n",
    "\n",
    "        # 2- solve sub-problems step\n",
    "    children_size = 0\n",
    "    for child in os.listdir(path):\n",
    "        child_path = os.path.join(path, child)\n",
    "        children_size += disk_usage(child_path)\n",
    "\n",
    "    # 3- combine sub-solutions\n",
    "    total_size = path_size + children_size\n",
    "\n",
    "    print('{0:<7}'.format(total_size), path)\n",
    "    return total_size"
   ]
  },
  {
   "cell_type": "code",
   "execution_count": 3,
   "metadata": {},
   "outputs": [
    {
     "name": "stdout",
     "output_type": "stream",
     "text": [
      "6148    /Users/junior/geekgap/Repos/geekgap_webinars/.DS_Store\n",
      "1070    /Users/junior/geekgap/Repos/geekgap_webinars/LICENSE\n",
      "63      /Users/junior/geekgap/Repos/geekgap_webinars/Makefile\n",
      "0       /Users/junior/geekgap/Repos/geekgap_webinars/geekgap_webinars/__init__.py\n",
      "51075   /Users/junior/geekgap/Repos/geekgap_webinars/geekgap_webinars/notebooks/webinar_1/system_design.ipynb\n",
      "12530   /Users/junior/geekgap/Repos/geekgap_webinars/geekgap_webinars/notebooks/webinar_1/algorithms_data_structures.ipynb\n",
      "10389   /Users/junior/geekgap/Repos/geekgap_webinars/geekgap_webinars/notebooks/webinar_1/.ipynb_checkpoints/_13_when_not_to_use_a_list-checkpoint.ipynb\n",
      "6882    /Users/junior/geekgap/Repos/geekgap_webinars/geekgap_webinars/notebooks/webinar_1/.ipynb_checkpoints/_8_arithmetic_operations_on_sequences-checkpoint.ipynb\n",
      "3733    /Users/junior/geekgap/Repos/geekgap_webinars/geekgap_webinars/notebooks/webinar_1/.ipynb_checkpoints/_2_sequence_transformation_map_and_filter-checkpoint.ipynb\n",
      "9962    /Users/junior/geekgap/Repos/geekgap_webinars/geekgap_webinars/notebooks/webinar_1/.ipynb_checkpoints/_10_sorting_with_custom_key-checkpoint.ipynb\n",
      "3956    /Users/junior/geekgap/Repos/geekgap_webinars/geekgap_webinars/notebooks/webinar_1/.ipynb_checkpoints/_3_sequence_comprehension-checkpoint.ipynb\n",
      "12530   /Users/junior/geekgap/Repos/geekgap_webinars/geekgap_webinars/notebooks/webinar_1/.ipynb_checkpoints/algorithms_data_structures-checkpoint.ipynb\n",
      "770     /Users/junior/geekgap/Repos/geekgap_webinars/geekgap_webinars/notebooks/webinar_1/.ipynb_checkpoints/template-checkpoint.ipynb\n",
      "4195    /Users/junior/geekgap/Repos/geekgap_webinars/geekgap_webinars/notebooks/webinar_1/.ipynb_checkpoints/_9_sorting_a_list_sort_vs_sorted-checkpoint.ipynb\n",
      "7914    /Users/junior/geekgap/Repos/geekgap_webinars/geekgap_webinars/notebooks/webinar_1/.ipynb_checkpoints/_11_being_clever_on_sorted_sequences_search_and_insert-checkpoint.ipynb\n",
      "72      /Users/junior/geekgap/Repos/geekgap_webinars/geekgap_webinars/notebooks/webinar_1/.ipynb_checkpoints/system_design-checkpoint.ipynb\n",
      "72      /Users/junior/geekgap/Repos/geekgap_webinars/geekgap_webinars/notebooks/webinar_1/.ipynb_checkpoints/_4_nested_lists-checkpoint.ipynb\n",
      "5077    /Users/junior/geekgap/Repos/geekgap_webinars/geekgap_webinars/notebooks/webinar_1/.ipynb_checkpoints/_5_sequence_unpacking-checkpoint.ipynb\n",
      "10066   /Users/junior/geekgap/Repos/geekgap_webinars/geekgap_webinars/notebooks/webinar_1/.ipynb_checkpoints/_12_never_update_a_list_during_ieration-checkpoint.ipynb\n",
      "5725    /Users/junior/geekgap/Repos/geekgap_webinars/geekgap_webinars/notebooks/webinar_1/.ipynb_checkpoints/_6_sequence_indexing_and_slicing-checkpoint.ipynb\n",
      "6125    /Users/junior/geekgap/Repos/geekgap_webinars/geekgap_webinars/notebooks/webinar_1/.ipynb_checkpoints/_7_named_tuples-checkpoint.ipynb\n",
      "9170    /Users/junior/geekgap/Repos/geekgap_webinars/geekgap_webinars/notebooks/webinar_1/.ipynb_checkpoints/_1_builtin_sequences_overview-checkpoint.ipynb\n",
      "97214   /Users/junior/geekgap/Repos/geekgap_webinars/geekgap_webinars/notebooks/webinar_1/.ipynb_checkpoints\n",
      "160979  /Users/junior/geekgap/Repos/geekgap_webinars/geekgap_webinars/notebooks/webinar_1\n",
      "0       /Users/junior/geekgap/Repos/geekgap_webinars/geekgap_webinars/notebooks/__init__.py\n",
      "1011    /Users/junior/geekgap/Repos/geekgap_webinars/geekgap_webinars/notebooks/webinar_2/binary_search.py\n",
      "0       /Users/junior/geekgap/Repos/geekgap_webinars/geekgap_webinars/notebooks/webinar_2/__init__.py\n",
      "78233   /Users/junior/geekgap/Repos/geekgap_webinars/geekgap_webinars/notebooks/webinar_2/algorithms_data_structures.ipynb\n",
      "484     /Users/junior/geekgap/Repos/geekgap_webinars/geekgap_webinars/notebooks/webinar_2/recursive_power_optimized.py\n",
      "808     /Users/junior/geekgap/Repos/geekgap_webinars/geekgap_webinars/notebooks/webinar_2/recursive_reverse.py\n",
      "295     /Users/junior/geekgap/Repos/geekgap_webinars/geekgap_webinars/notebooks/webinar_2/factorial.py\n",
      "852     /Users/junior/geekgap/Repos/geekgap_webinars/geekgap_webinars/notebooks/webinar_2/disk_usage.py\n",
      "64015   /Users/junior/geekgap/Repos/geekgap_webinars/geekgap_webinars/notebooks/webinar_2/.ipynb_checkpoints/algorithms_data_structures-checkpoint.ipynb\n",
      "64111   /Users/junior/geekgap/Repos/geekgap_webinars/geekgap_webinars/notebooks/webinar_2/.ipynb_checkpoints\n",
      "502     /Users/junior/geekgap/Repos/geekgap_webinars/geekgap_webinars/notebooks/webinar_2/naive_fibonacci.py\n",
      "1103    /Users/junior/geekgap/Repos/geekgap_webinars/geekgap_webinars/notebooks/webinar_2/very_bad_binary_search.py\n",
      "333     /Users/junior/geekgap/Repos/geekgap_webinars/geekgap_webinars/notebooks/webinar_2/recursive_power.py\n",
      "148148  /Users/junior/geekgap/Repos/geekgap_webinars/geekgap_webinars/notebooks/webinar_2\n",
      "64      /Users/junior/geekgap/Repos/geekgap_webinars/geekgap_webinars/notebooks/.ipynb_checkpoints\n",
      "309383  /Users/junior/geekgap/Repos/geekgap_webinars/geekgap_webinars/notebooks\n",
      "309511  /Users/junior/geekgap/Repos/geekgap_webinars/geekgap_webinars\n",
      "16      /Users/junior/geekgap/Repos/geekgap_webinars/MANIFEST.in\n",
      "546     /Users/junior/geekgap/Repos/geekgap_webinars/setup.py\n",
      "1252    /Users/junior/geekgap/Repos/geekgap_webinars/.gitignore\n",
      "6       /Users/junior/geekgap/Repos/geekgap_webinars/.python-version\n",
      "3547    /Users/junior/geekgap/Repos/geekgap_webinars/README.rst\n",
      "428     /Users/junior/geekgap/Repos/geekgap_webinars/.git/config\n",
      "266     /Users/junior/geekgap/Repos/geekgap_webinars/.git/objects/6a/653ed01842cd490cd633505aadf90349854f02\n",
      "362     /Users/junior/geekgap/Repos/geekgap_webinars/.git/objects/6a\n",
      "266     /Users/junior/geekgap/Repos/geekgap_webinars/.git/objects/3c/f94af622b6a450bf265e0fb929f7733c053388\n",
      "362     /Users/junior/geekgap/Repos/geekgap_webinars/.git/objects/3c\n",
      "266     /Users/junior/geekgap/Repos/geekgap_webinars/.git/objects/3d/7daf7775de9c0f4a3279e6ed30b4f53957448b\n",
      "416     /Users/junior/geekgap/Repos/geekgap_webinars/.git/objects/3d/24cffd21813d501012d613c569ddf7fdd06e9b\n",
      "810     /Users/junior/geekgap/Repos/geekgap_webinars/.git/objects/3d\n",
      "118     /Users/junior/geekgap/Repos/geekgap_webinars/.git/objects/67/c622b4e6e60bbdbe259455eeb17230369a7a32\n",
      "214     /Users/junior/geekgap/Repos/geekgap_webinars/.git/objects/67\n",
      "706     /Users/junior/geekgap/Repos/geekgap_webinars/.git/objects/93/3590c700b9ece0f601bdbfac186da8ace652ae\n",
      "802     /Users/junior/geekgap/Repos/geekgap_webinars/.git/objects/93\n",
      "92      /Users/junior/geekgap/Repos/geekgap_webinars/.git/objects/94/cad2a729989931e9f5088b7a136c63bb277ba9\n",
      "10357   /Users/junior/geekgap/Repos/geekgap_webinars/.git/objects/94/937cc4155b472b9be589a451657906355702cd\n",
      "118     /Users/junior/geekgap/Repos/geekgap_webinars/.git/objects/94/2471545af9689738242db6100adb112fb5186e\n",
      "10727   /Users/junior/geekgap/Repos/geekgap_webinars/.git/objects/94\n",
      "91      /Users/junior/geekgap/Repos/geekgap_webinars/.git/objects/0e/d826580b30bf8e0c6ad46ae28543ed3ec6abd9\n",
      "187     /Users/junior/geekgap/Repos/geekgap_webinars/.git/objects/0e\n",
      "92      /Users/junior/geekgap/Repos/geekgap_webinars/.git/objects/60/f3440373d219e31315d6baf5a6cab4cf97740f\n",
      "188     /Users/junior/geekgap/Repos/geekgap_webinars/.git/objects/60\n",
      "182     /Users/junior/geekgap/Repos/geekgap_webinars/.git/objects/33/4d281f24bb68056f22d3b9feb83780cf8da117\n",
      "278     /Users/junior/geekgap/Repos/geekgap_webinars/.git/objects/33\n",
      "174     /Users/junior/geekgap/Repos/geekgap_webinars/.git/objects/a4/ad9b91a1a8f0d83d70cb552cfd7ff77b3c58b9\n",
      "270     /Users/junior/geekgap/Repos/geekgap_webinars/.git/objects/a4\n",
      "1591    /Users/junior/geekgap/Repos/geekgap_webinars/.git/objects/b2/70de4b18bd5d814d4aad3be7f6d61c795f2734\n",
      "1687    /Users/junior/geekgap/Repos/geekgap_webinars/.git/objects/b2\n",
      "2165    /Users/junior/geekgap/Repos/geekgap_webinars/.git/objects/d0/fd809da59b44073983a2f1c2fa3aab4dcfff07\n",
      "2261    /Users/junior/geekgap/Repos/geekgap_webinars/.git/objects/d0\n",
      "165     /Users/junior/geekgap/Repos/geekgap_webinars/.git/objects/b3/1513abb100a98b85690bb73dc88c4ad050eeb5\n",
      "91      /Users/junior/geekgap/Repos/geekgap_webinars/.git/objects/b3/a25faa4208538115694f901adfb676df22a854\n",
      "384     /Users/junior/geekgap/Repos/geekgap_webinars/.git/objects/b3\n",
      "361     /Users/junior/geekgap/Repos/geekgap_webinars/.git/objects/df/0db4fc5f70bd4d17dc2469683b87ca2d3e7fd2\n",
      "118     /Users/junior/geekgap/Repos/geekgap_webinars/.git/objects/df/367baa543865497e1a7f35b0b61da6157bd2e7\n",
      "607     /Users/junior/geekgap/Repos/geekgap_webinars/.git/objects/df\n",
      "92      /Users/junior/geekgap/Repos/geekgap_webinars/.git/objects/a2/71f0462b700692e206ce6d7376db7540969cbc\n",
      "188     /Users/junior/geekgap/Repos/geekgap_webinars/.git/objects/a2\n",
      "266     /Users/junior/geekgap/Repos/geekgap_webinars/.git/objects/a5/68135f643c825bf1bd0cbfc61accbe67fc1bf3\n",
      "362     /Users/junior/geekgap/Repos/geekgap_webinars/.git/objects/a5\n",
      "87      /Users/junior/geekgap/Repos/geekgap_webinars/.git/objects/d6/51501be2045d9b3971bf1cdace1b7d47c5d691\n",
      "183     /Users/junior/geekgap/Repos/geekgap_webinars/.git/objects/d6\n",
      "149     /Users/junior/geekgap/Repos/geekgap_webinars/.git/objects/bc/3321ceaa5a15600838f79e63b773e8a86832ee\n",
      "245     /Users/junior/geekgap/Repos/geekgap_webinars/.git/objects/bc\n",
      "266     /Users/junior/geekgap/Repos/geekgap_webinars/.git/objects/d8/2d80555ea8d2101a7306654933ee0d38ae63f3\n",
      "362     /Users/junior/geekgap/Repos/geekgap_webinars/.git/objects/d8\n",
      "266     /Users/junior/geekgap/Repos/geekgap_webinars/.git/objects/ab/12d8a804388c0024b698cb6b03a706b8a8b027\n",
      "362     /Users/junior/geekgap/Repos/geekgap_webinars/.git/objects/ab\n",
      "4212    /Users/junior/geekgap/Repos/geekgap_webinars/.git/objects/e2/6116ed8a4651163caeef1cbcfb5909358e4fb8\n",
      "4308    /Users/junior/geekgap/Repos/geekgap_webinars/.git/objects/e2\n",
      "266     /Users/junior/geekgap/Repos/geekgap_webinars/.git/objects/eb/38182fc4a752c53e44fc49b00b04c99359f0bd\n",
      "362     /Users/junior/geekgap/Repos/geekgap_webinars/.git/objects/eb\n",
      "118     /Users/junior/geekgap/Repos/geekgap_webinars/.git/objects/c0/9ea75cd0dc31ab61ceccd20956333de4a01580\n",
      "214     /Users/junior/geekgap/Repos/geekgap_webinars/.git/objects/c0\n",
      "91      /Users/junior/geekgap/Repos/geekgap_webinars/.git/objects/fd/5f3307b34e8d08de2b567402c960ce553291b1\n",
      "187     /Users/junior/geekgap/Repos/geekgap_webinars/.git/objects/fd\n",
      "266     /Users/junior/geekgap/Repos/geekgap_webinars/.git/objects/ca/1fd9b654def2314f547bb970d5a81e18781da3\n",
      "6462    /Users/junior/geekgap/Repos/geekgap_webinars/.git/objects/ca/ee66c5ad413b6325204e34835e64f871ae00bf\n",
      "6856    /Users/junior/geekgap/Repos/geekgap_webinars/.git/objects/ca\n",
      "92      /Users/junior/geekgap/Repos/geekgap_webinars/.git/objects/fe/118a679a890c27721362b3a29b8702277ad89d\n",
      "188     /Users/junior/geekgap/Repos/geekgap_webinars/.git/objects/fe\n",
      "221     /Users/junior/geekgap/Repos/geekgap_webinars/.git/objects/c8/06b9e84aaaa1b87538deb9a0609d799234aa14\n",
      "2648    /Users/junior/geekgap/Repos/geekgap_webinars/.git/objects/c8/b8000a8cbcf662f192e8c4fc66c4aada3bb76e\n",
      "2997    /Users/junior/geekgap/Repos/geekgap_webinars/.git/objects/c8\n",
      "149     /Users/junior/geekgap/Repos/geekgap_webinars/.git/objects/c1/532bc01b0c7dcce48a4d196e260759f805308f\n",
      "266     /Users/junior/geekgap/Repos/geekgap_webinars/.git/objects/c1/67c34839993e20dc3d73d5ed59f059314503ff\n",
      "543     /Users/junior/geekgap/Repos/geekgap_webinars/.git/objects/c1\n",
      "134     /Users/junior/geekgap/Repos/geekgap_webinars/.git/objects/ec/636645be8406aab4d5d15ab52aaea5d1526f8a\n",
      "230     /Users/junior/geekgap/Repos/geekgap_webinars/.git/objects/ec\n",
      "15      /Users/junior/geekgap/Repos/geekgap_webinars/.git/objects/4b/825dc642cb6eb9a060e54bf8d69288fbee4904\n",
      "111     /Users/junior/geekgap/Repos/geekgap_webinars/.git/objects/4b\n",
      "64      /Users/junior/geekgap/Repos/geekgap_webinars/.git/objects/pack\n",
      "502     /Users/junior/geekgap/Repos/geekgap_webinars/.git/objects/11/46cdd40aff02bb30b118bd2c4be5fcbb277d99\n",
      "598     /Users/junior/geekgap/Repos/geekgap_webinars/.git/objects/11\n",
      "91      /Users/junior/geekgap/Repos/geekgap_webinars/.git/objects/42/7d55ecfa88d43237eee8199e6d8f108bd51d98\n",
      "266     /Users/junior/geekgap/Repos/geekgap_webinars/.git/objects/42/6a2d8afd9353ebdbe8089a15c3ee20b777d2e6\n",
      "485     /Users/junior/geekgap/Repos/geekgap_webinars/.git/objects/42\n",
      "116     /Users/junior/geekgap/Repos/geekgap_webinars/.git/objects/89/f1a57eb5023c8c4d18a9fc9c45faa38618e372\n",
      "212     /Users/junior/geekgap/Repos/geekgap_webinars/.git/objects/89\n",
      "92      /Users/junior/geekgap/Repos/geekgap_webinars/.git/objects/1f/7c6fa1c4a8166ef27631cd4b8e98b26c49718c\n",
      "288     /Users/junior/geekgap/Repos/geekgap_webinars/.git/objects/1f/1cebbe0bba6d05e90171f674ba582ff043e983\n",
      "92      /Users/junior/geekgap/Repos/geekgap_webinars/.git/objects/1f/d589106ec6c668c08f1f6da9308e01f8d2f541\n",
      "632     /Users/junior/geekgap/Repos/geekgap_webinars/.git/objects/1f\n",
      "213     /Users/junior/geekgap/Repos/geekgap_webinars/.git/objects/73/7b9fb1d3ff950f6670466d336280c59d573f43\n",
      "3641    /Users/junior/geekgap/Repos/geekgap_webinars/.git/objects/73/2410169e0aac1931228de79229a01fbbd756a0\n",
      "3982    /Users/junior/geekgap/Repos/geekgap_webinars/.git/objects/73\n",
      "362     /Users/junior/geekgap/Repos/geekgap_webinars/.git/objects/80/d61be88906976fee89822b421ecbdfce86b208\n",
      "183     /Users/junior/geekgap/Repos/geekgap_webinars/.git/objects/80/6e16c3eec72d48e934a2b0f667b0fc11e3dbf7\n",
      "673     /Users/junior/geekgap/Repos/geekgap_webinars/.git/objects/80\n",
      "32      /Users/junior/geekgap/Repos/geekgap_webinars/.git/objects/1a/ba38f67a2211cf5b09466d7b411206cb7223bf\n",
      "128     /Users/junior/geekgap/Repos/geekgap_webinars/.git/objects/1a\n",
      "426     /Users/junior/geekgap/Repos/geekgap_webinars/.git/objects/7b/e19de105f19f55ac098ec218361e4d99f51503\n",
      "522     /Users/junior/geekgap/Repos/geekgap_webinars/.git/objects/7b\n",
      "118     /Users/junior/geekgap/Repos/geekgap_webinars/.git/objects/8a/998c0f390ca00966e61234528df6256ca72d89\n",
      "214     /Users/junior/geekgap/Repos/geekgap_webinars/.git/objects/8a\n",
      "182     /Users/junior/geekgap/Repos/geekgap_webinars/.git/objects/19/959fc1707045a78925ef70d379fed8bc965c10\n",
      "278     /Users/junior/geekgap/Repos/geekgap_webinars/.git/objects/19\n",
      "119     /Users/junior/geekgap/Repos/geekgap_webinars/.git/objects/26/4ced2e0332a0cab5b2a7fb586e5ed7de3066b2\n",
      "215     /Users/junior/geekgap/Repos/geekgap_webinars/.git/objects/26\n",
      "331     /Users/junior/geekgap/Repos/geekgap_webinars/.git/objects/75/15520c400995349015d292e6c44b194bc5c21f\n",
      "427     /Users/junior/geekgap/Repos/geekgap_webinars/.git/objects/75\n",
      "92      /Users/junior/geekgap/Repos/geekgap_webinars/.git/objects/86/41073dddf0686c4961b20944e700bd65ea0862\n",
      "188     /Users/junior/geekgap/Repos/geekgap_webinars/.git/objects/86\n",
      "118     /Users/junior/geekgap/Repos/geekgap_webinars/.git/objects/72/195f84cea434289a978412a3552c50235064ee\n",
      "214     /Users/junior/geekgap/Repos/geekgap_webinars/.git/objects/72\n",
      "3256    /Users/junior/geekgap/Repos/geekgap_webinars/.git/objects/2a/0bba5946836804258394777b22f762daf7a44b\n",
      "3352    /Users/junior/geekgap/Repos/geekgap_webinars/.git/objects/2a\n",
      "173     /Users/junior/geekgap/Repos/geekgap_webinars/.git/objects/38/e42a9e7fb5c4e2072f781d0e43c6ef15b1a64a\n",
      "269     /Users/junior/geekgap/Repos/geekgap_webinars/.git/objects/38\n",
      "172     /Users/junior/geekgap/Repos/geekgap_webinars/.git/objects/00/377aa50841154bf0611c61633e2cea2509482b\n",
      "268     /Users/junior/geekgap/Repos/geekgap_webinars/.git/objects/00\n",
      "118     /Users/junior/geekgap/Repos/geekgap_webinars/.git/objects/6e/91e9fa61f485c84df611fab480abcc1b4d4a4c\n",
      "214     /Users/junior/geekgap/Repos/geekgap_webinars/.git/objects/6e\n",
      "64      /Users/junior/geekgap/Repos/geekgap_webinars/.git/objects/info\n",
      "11274   /Users/junior/geekgap/Repos/geekgap_webinars/.git/objects/3f/5e25c314f20c4512bead99514f5a19ef01d570\n",
      "171     /Users/junior/geekgap/Repos/geekgap_webinars/.git/objects/3f/f4ce8961d4144d8d8899735f48a95c4839f2b2\n",
      "11573   /Users/junior/geekgap/Repos/geekgap_webinars/.git/objects/3f\n",
      "148     /Users/junior/geekgap/Repos/geekgap_webinars/.git/objects/5e/cfeaa5c2ce5dfb66e1944efe77bb0e5ed3055b\n",
      "244     /Users/junior/geekgap/Repos/geekgap_webinars/.git/objects/5e\n",
      "71      /Users/junior/geekgap/Repos/geekgap_webinars/.git/objects/99/7cfaa14c219a83873d8f38b2d99cd12dbada70\n",
      "171     /Users/junior/geekgap/Repos/geekgap_webinars/.git/objects/99/4af0ca83fee3660118bad36346e3afbe438bb4\n",
      "370     /Users/junior/geekgap/Repos/geekgap_webinars/.git/objects/99\n",
      "266     /Users/junior/geekgap/Repos/geekgap_webinars/.git/objects/52/5651318d7c71a59d2138dae19d0a75328fde55\n",
      "362     /Users/junior/geekgap/Repos/geekgap_webinars/.git/objects/52\n",
      "430     /Users/junior/geekgap/Repos/geekgap_webinars/.git/objects/90/017c61e0bba86e6fd4ae819aa5ce5fc2fa6737\n",
      "526     /Users/junior/geekgap/Repos/geekgap_webinars/.git/objects/90\n",
      "148     /Users/junior/geekgap/Repos/geekgap_webinars/.git/objects/a7/d6cbe41fe5e19409349d96e61a19ca66eeda94\n",
      "244     /Users/junior/geekgap/Repos/geekgap_webinars/.git/objects/a7\n",
      "543     /Users/junior/geekgap/Repos/geekgap_webinars/.git/objects/b8/ebbbddf0d92e7da7131009ed23dd24b8abfb63\n",
      "639     /Users/junior/geekgap/Repos/geekgap_webinars/.git/objects/b8\n",
      "480     /Users/junior/geekgap/Repos/geekgap_webinars/.git/objects/dc/959b85617717d85504f6a39b4b7fa7685bb3e0\n",
      "576     /Users/junior/geekgap/Repos/geekgap_webinars/.git/objects/dc\n",
      "246     /Users/junior/geekgap/Repos/geekgap_webinars/.git/objects/a9/f071010c2e7c16ebef7a19b6b0e6020d643e9f\n",
      "267     /Users/junior/geekgap/Repos/geekgap_webinars/.git/objects/a9/660aa1c55b60feb458f22a98bdde579f38b718\n",
      "641     /Users/junior/geekgap/Repos/geekgap_webinars/.git/objects/a9\n",
      "8718    /Users/junior/geekgap/Repos/geekgap_webinars/.git/objects/ef/52135e1121ba68b09c3c3f89d7c1dd111021bc\n",
      "8814    /Users/junior/geekgap/Repos/geekgap_webinars/.git/objects/ef\n",
      "168     /Users/junior/geekgap/Repos/geekgap_webinars/.git/objects/c4/9b8322d94ece95de5e5341c60f09385e049968\n",
      "264     /Users/junior/geekgap/Repos/geekgap_webinars/.git/objects/c4\n",
      "15      /Users/junior/geekgap/Repos/geekgap_webinars/.git/objects/e6/9de29bb2d1d6434b8b29ae775ad8c2e48c5391\n",
      "111     /Users/junior/geekgap/Repos/geekgap_webinars/.git/objects/e6\n",
      "116     /Users/junior/geekgap/Repos/geekgap_webinars/.git/objects/f9/3ae27e6bbe4e6b45af95fb970728dd48b38f31\n",
      "212     /Users/junior/geekgap/Repos/geekgap_webinars/.git/objects/f9\n",
      "13008   /Users/junior/geekgap/Repos/geekgap_webinars/.git/objects/ff/d3477dacd29d4060a4d5ad33a911539320af15\n",
      "92      /Users/junior/geekgap/Repos/geekgap_webinars/.git/objects/ff/fc076e31e9de03e627dc17d008fba8114d5676\n",
      "13228   /Users/junior/geekgap/Repos/geekgap_webinars/.git/objects/ff\n",
      "191     /Users/junior/geekgap/Repos/geekgap_webinars/.git/objects/e9/f493ed25047964c7f4b4595e034235b534a340\n",
      "287     /Users/junior/geekgap/Repos/geekgap_webinars/.git/objects/e9\n",
      "176     /Users/junior/geekgap/Repos/geekgap_webinars/.git/objects/e7/39417742964892ae0605eaa75cf93d8c209dae\n",
      "660     /Users/junior/geekgap/Repos/geekgap_webinars/.git/objects/e7/90f54c56936c21a7cb75717483ff5e97abf3f6\n",
      "964     /Users/junior/geekgap/Repos/geekgap_webinars/.git/objects/e7\n",
      "399     /Users/junior/geekgap/Repos/geekgap_webinars/.git/objects/79/d34a513e58c2ebe093b7533e2b254145c05c5f\n",
      "495     /Users/junior/geekgap/Repos/geekgap_webinars/.git/objects/79\n",
      "118     /Users/junior/geekgap/Repos/geekgap_webinars/.git/objects/77/847e26d951350b04215c9440b642133e17e0d4\n",
      "214     /Users/junior/geekgap/Repos/geekgap_webinars/.git/objects/77\n",
      "258     /Users/junior/geekgap/Repos/geekgap_webinars/.git/objects/70/22c3bed69338cf7e28e462c1e0c7713e2f0c5e\n",
      "354     /Users/junior/geekgap/Repos/geekgap_webinars/.git/objects/70\n",
      "13653   /Users/junior/geekgap/Repos/geekgap_webinars/.git/objects/84/1c595624336c083aa610c0dc6856319de9f652\n",
      "13749   /Users/junior/geekgap/Repos/geekgap_webinars/.git/objects/84\n",
      "118     /Users/junior/geekgap/Repos/geekgap_webinars/.git/objects/24/a20dc89416dbd628ea62015d71e78a3c87f044\n",
      "214     /Users/junior/geekgap/Repos/geekgap_webinars/.git/objects/24\n",
      "92      /Users/junior/geekgap/Repos/geekgap_webinars/.git/objects/4f/cc6ee6f7422153392164141d7ba68502e692ab\n",
      "188     /Users/junior/geekgap/Repos/geekgap_webinars/.git/objects/4f\n",
      "257     /Users/junior/geekgap/Repos/geekgap_webinars/.git/objects/76/5d09a2bd9e18348703781729c817661e36d8ca\n",
      "353     /Users/junior/geekgap/Repos/geekgap_webinars/.git/objects/76\n",
      "165     /Users/junior/geekgap/Repos/geekgap_webinars/.git/objects/1c/ccabddbc6f461d1225f72a07a52335d5a59a37\n",
      "261     /Users/junior/geekgap/Repos/geekgap_webinars/.git/objects/1c\n",
      "181     /Users/junior/geekgap/Repos/geekgap_webinars/.git/objects/2b/3b10b89767dc6d8fdceeef80c0a7e188f577c6\n",
      "277     /Users/junior/geekgap/Repos/geekgap_webinars/.git/objects/2b\n",
      "91      /Users/junior/geekgap/Repos/geekgap_webinars/.git/objects/47/586ab15b6ff9798bc4458b9b55ebd5ef54e00f\n",
      "187     /Users/junior/geekgap/Repos/geekgap_webinars/.git/objects/47\n",
      "170     /Users/junior/geekgap/Repos/geekgap_webinars/.git/objects/78/1923a8237fb1be33a156285d0bdf24c7d3cc56\n",
      "266     /Users/junior/geekgap/Repos/geekgap_webinars/.git/objects/78\n",
      "432     /Users/junior/geekgap/Repos/geekgap_webinars/.git/objects/25/7cab5b80c4f63a12f073041fadff23b102a97b\n",
      "528     /Users/junior/geekgap/Repos/geekgap_webinars/.git/objects/25\n",
      "108537  /Users/junior/geekgap/Repos/geekgap_webinars/.git/objects\n",
      "64      /Users/junior/geekgap/Repos/geekgap_webinars/.git/rr-cache\n",
      "24      /Users/junior/geekgap/Repos/geekgap_webinars/.git/HEAD\n",
      "240     /Users/junior/geekgap/Repos/geekgap_webinars/.git/info/exclude\n",
      "336     /Users/junior/geekgap/Repos/geekgap_webinars/.git/info\n",
      "2389    /Users/junior/geekgap/Repos/geekgap_webinars/.git/logs/HEAD\n",
      "2206    /Users/junior/geekgap/Repos/geekgap_webinars/.git/logs/refs/heads/develop\n",
      "171     /Users/junior/geekgap/Repos/geekgap_webinars/.git/logs/refs/heads/master\n",
      "2505    /Users/junior/geekgap/Repos/geekgap_webinars/.git/logs/refs/heads\n",
      "306     /Users/junior/geekgap/Repos/geekgap_webinars/.git/logs/refs/remotes/origin/develop\n",
      "402     /Users/junior/geekgap/Repos/geekgap_webinars/.git/logs/refs/remotes/origin\n",
      "498     /Users/junior/geekgap/Repos/geekgap_webinars/.git/logs/refs/remotes\n",
      "3131    /Users/junior/geekgap/Repos/geekgap_webinars/.git/logs/refs\n",
      "5648    /Users/junior/geekgap/Repos/geekgap_webinars/.git/logs\n",
      "73      /Users/junior/geekgap/Repos/geekgap_webinars/.git/description\n",
      "896     /Users/junior/geekgap/Repos/geekgap_webinars/.git/hooks/commit-msg.sample\n",
      "4898    /Users/junior/geekgap/Repos/geekgap_webinars/.git/hooks/pre-rebase.sample\n",
      "1638    /Users/junior/geekgap/Repos/geekgap_webinars/.git/hooks/pre-commit.sample\n",
      "478     /Users/junior/geekgap/Repos/geekgap_webinars/.git/hooks/applypatch-msg.sample\n",
      "3327    /Users/junior/geekgap/Repos/geekgap_webinars/.git/hooks/fsmonitor-watchman.sample\n",
      "544     /Users/junior/geekgap/Repos/geekgap_webinars/.git/hooks/pre-receive.sample\n",
      "1492    /Users/junior/geekgap/Repos/geekgap_webinars/.git/hooks/prepare-commit-msg.sample\n",
      "189     /Users/junior/geekgap/Repos/geekgap_webinars/.git/hooks/post-update.sample\n",
      "424     /Users/junior/geekgap/Repos/geekgap_webinars/.git/hooks/pre-applypatch.sample\n",
      "1348    /Users/junior/geekgap/Repos/geekgap_webinars/.git/hooks/pre-push.sample\n",
      "3610    /Users/junior/geekgap/Repos/geekgap_webinars/.git/hooks/update.sample\n",
      "19260   /Users/junior/geekgap/Repos/geekgap_webinars/.git/hooks\n",
      "41      /Users/junior/geekgap/Repos/geekgap_webinars/.git/refs/heads/develop\n",
      "41      /Users/junior/geekgap/Repos/geekgap_webinars/.git/refs/heads/master\n",
      "210     /Users/junior/geekgap/Repos/geekgap_webinars/.git/refs/heads\n",
      "64      /Users/junior/geekgap/Repos/geekgap_webinars/.git/refs/tags\n",
      "41      /Users/junior/geekgap/Repos/geekgap_webinars/.git/refs/remotes/origin/develop\n",
      "137     /Users/junior/geekgap/Repos/geekgap_webinars/.git/refs/remotes/origin\n",
      "233     /Users/junior/geekgap/Repos/geekgap_webinars/.git/refs/remotes\n",
      "667     /Users/junior/geekgap/Repos/geekgap_webinars/.git/refs\n",
      "2340    /Users/junior/geekgap/Repos/geekgap_webinars/.git/index\n",
      "0       /Users/junior/geekgap/Repos/geekgap_webinars/.git/MERGE_RR\n",
      "20      /Users/junior/geekgap/Repos/geekgap_webinars/.git/COMMIT_EDITMSG\n",
      "137845  /Users/junior/geekgap/Repos/geekgap_webinars/.git\n",
      "680     /Users/junior/geekgap/Repos/geekgap_webinars/.idea/geekgap_webinars.iml\n",
      "180     /Users/junior/geekgap/Repos/geekgap_webinars/.idea/vcs.xml\n",
      "33197   /Users/junior/geekgap/Repos/geekgap_webinars/.idea/workspace.xml\n",
      "284     /Users/junior/geekgap/Repos/geekgap_webinars/.idea/modules.xml\n",
      "16      /Users/junior/geekgap/Repos/geekgap_webinars/.idea/.name\n",
      "193     /Users/junior/geekgap/Repos/geekgap_webinars/.idea/python-terminal.xml\n",
      "208     /Users/junior/geekgap/Repos/geekgap_webinars/.idea/misc.xml\n",
      "35046   /Users/junior/geekgap/Repos/geekgap_webinars/.idea\n",
      "495466  /Users/junior/geekgap/Repos/geekgap_webinars\n",
      "CPU times: user 73.1 ms, sys: 38.7 ms, total: 112 ms\n",
      "Wall time: 86.6 ms\n"
     ]
    },
    {
     "data": {
      "text/plain": [
       "495466"
      ]
     },
     "execution_count": 3,
     "metadata": {},
     "output_type": "execute_result"
    }
   ],
   "source": [
    "%time disk_usage('/Users/junior/geekgap/Repos/geekgap_webinars')"
   ]
  },
  {
   "cell_type": "code",
   "execution_count": null,
   "metadata": {},
   "outputs": [],
   "source": []
  },
  {
   "cell_type": "markdown",
   "metadata": {},
   "source": [
    "### Case study 1: Factorial"
   ]
  },
  {
   "cell_type": "code",
   "execution_count": 4,
   "metadata": {},
   "outputs": [],
   "source": [
    "def factorial(n):\n",
    "    #1- base case\n",
    "    if n <= 1:\n",
    "        return 1\n",
    "\n",
    "    #2- solve sub-problems\n",
    "    previous_factorial = factorial(n-1)\n",
    "\n",
    "    #3- combine sub-solutions\n",
    "    res = n * previous_factorial\n",
    "\n",
    "    return res"
   ]
  },
  {
   "cell_type": "code",
   "execution_count": 5,
   "metadata": {},
   "outputs": [
    {
     "name": "stdout",
     "output_type": "stream",
     "text": [
      "CPU times: user 3 µs, sys: 0 ns, total: 3 µs\n",
      "Wall time: 6.2 µs\n"
     ]
    },
    {
     "data": {
      "text/plain": [
       "1"
      ]
     },
     "execution_count": 5,
     "metadata": {},
     "output_type": "execute_result"
    }
   ],
   "source": [
    "%time factorial(0)"
   ]
  },
  {
   "cell_type": "code",
   "execution_count": 6,
   "metadata": {},
   "outputs": [
    {
     "name": "stdout",
     "output_type": "stream",
     "text": [
      "CPU times: user 3 µs, sys: 1 µs, total: 4 µs\n",
      "Wall time: 5.96 µs\n"
     ]
    },
    {
     "data": {
      "text/plain": [
       "1"
      ]
     },
     "execution_count": 6,
     "metadata": {},
     "output_type": "execute_result"
    }
   ],
   "source": [
    "%time factorial(1)"
   ]
  },
  {
   "cell_type": "code",
   "execution_count": 7,
   "metadata": {},
   "outputs": [
    {
     "name": "stdout",
     "output_type": "stream",
     "text": [
      "CPU times: user 5 µs, sys: 0 ns, total: 5 µs\n",
      "Wall time: 7.87 µs\n"
     ]
    },
    {
     "data": {
      "text/plain": [
       "24"
      ]
     },
     "execution_count": 7,
     "metadata": {},
     "output_type": "execute_result"
    }
   ],
   "source": [
    "%time factorial(4)"
   ]
  },
  {
   "cell_type": "code",
   "execution_count": 8,
   "metadata": {},
   "outputs": [
    {
     "name": "stdout",
     "output_type": "stream",
     "text": [
      "CPU times: user 6 µs, sys: 1 µs, total: 7 µs\n",
      "Wall time: 11 µs\n"
     ]
    },
    {
     "data": {
      "text/plain": [
       "120"
      ]
     },
     "execution_count": 8,
     "metadata": {},
     "output_type": "execute_result"
    }
   ],
   "source": [
    "%time factorial(5)"
   ]
  },
  {
   "cell_type": "code",
   "execution_count": 9,
   "metadata": {},
   "outputs": [
    {
     "name": "stdout",
     "output_type": "stream",
     "text": [
      "CPU times: user 812 µs, sys: 271 µs, total: 1.08 ms\n",
      "Wall time: 1.09 ms\n"
     ]
    },
    {
     "data": {
      "text/plain": [
       "402387260077093773543702433923003985719374864210714632543799910429938512398629020592044208486969404800479988610197196058631666872994808558901323829669944590997424504087073759918823627727188732519779505950995276120874975462497043601418278094646496291056393887437886487337119181045825783647849977012476632889835955735432513185323958463075557409114262417474349347553428646576611667797396668820291207379143853719588249808126867838374559731746136085379534524221586593201928090878297308431392844403281231558611036976801357304216168747609675871348312025478589320767169132448426236131412508780208000261683151027341827977704784635868170164365024153691398281264810213092761244896359928705114964975419909342221566832572080821333186116811553615836546984046708975602900950537616475847728421889679646244945160765353408198901385442487984959953319101723355556602139450399736280750137837615307127761926849034352625200015888535147331611702103968175921510907788019393178114194545257223865541461062892187960223838971476088506276862967146674697562911234082439208160153780889893964518263243671616762179168909779911903754031274622289988005195444414282012187361745992642956581746628302955570299024324153181617210465832036786906117260158783520751516284225540265170483304226143974286933061690897968482590125458327168226458066526769958652682272807075781391858178889652208164348344825993266043367660176999612831860788386150279465955131156552036093988180612138558600301435694527224206344631797460594682573103790084024432438465657245014402821885252470935190620929023136493273497565513958720559654228749774011413346962715422845862377387538230483865688976461927383814900140767310446640259899490222221765904339901886018566526485061799702356193897017860040811889729918311021171229845901641921068884387121855646124960798722908519296819372388642614839657382291123125024186649353143970137428531926649875337218940694281434118520158014123344828015051399694290153483077644569099073152433278288269864602789864321139083506217095002597389863554277196742822248757586765752344220207573630569498825087968928162753848863396909959826280956121450994871701244516461260379029309120889086942028510640182154399457156805941872748998094254742173582401063677404595741785160829230135358081840096996372524230560855903700624271243416909004153690105933983835777939410970027753472000000000000000000000000000000000000000000000000000000000000000000000000000000000000000000000000000000000000000000000000000000000000000000000000000000000000000000000000000000000000000000000000000000000000000000000000000000000000000000000000000000000"
      ]
     },
     "execution_count": 9,
     "metadata": {},
     "output_type": "execute_result"
    }
   ],
   "source": [
    "%time factorial(1000)"
   ]
  },
  {
   "cell_type": "markdown",
   "metadata": {},
   "source": [
    "### Case study 2: Recursive power"
   ]
  },
  {
   "cell_type": "code",
   "execution_count": 10,
   "metadata": {},
   "outputs": [],
   "source": [
    "def power(x, n):\n",
    "    \"\"\"Compute x to the power of n (with n>=0)\"\"\"\n",
    "\n",
    "    #1- base case\n",
    "    if n == 0:\n",
    "        return 1\n",
    "\n",
    "    #2- solve sub-problems\n",
    "    previous_power = power(x, n-1)\n",
    "\n",
    "    #3- combine sub-solutions\n",
    "    res = x * previous_power\n",
    "\n",
    "    return res"
   ]
  },
  {
   "cell_type": "code",
   "execution_count": 11,
   "metadata": {},
   "outputs": [
    {
     "name": "stdout",
     "output_type": "stream",
     "text": [
      "CPU times: user 3 µs, sys: 1 µs, total: 4 µs\n",
      "Wall time: 7.15 µs\n"
     ]
    },
    {
     "data": {
      "text/plain": [
       "1"
      ]
     },
     "execution_count": 11,
     "metadata": {},
     "output_type": "execute_result"
    }
   ],
   "source": [
    "%time power(2, 0)"
   ]
  },
  {
   "cell_type": "code",
   "execution_count": 12,
   "metadata": {},
   "outputs": [
    {
     "name": "stdout",
     "output_type": "stream",
     "text": [
      "CPU times: user 6 µs, sys: 1 µs, total: 7 µs\n",
      "Wall time: 12.2 µs\n"
     ]
    },
    {
     "data": {
      "text/plain": [
       "16"
      ]
     },
     "execution_count": 12,
     "metadata": {},
     "output_type": "execute_result"
    }
   ],
   "source": [
    "%time power(2, 4)"
   ]
  },
  {
   "cell_type": "code",
   "execution_count": 13,
   "metadata": {},
   "outputs": [
    {
     "name": "stdout",
     "output_type": "stream",
     "text": [
      "CPU times: user 24 µs, sys: 0 ns, total: 24 µs\n",
      "Wall time: 26.7 µs\n"
     ]
    },
    {
     "data": {
      "text/plain": [
       "32"
      ]
     },
     "execution_count": 13,
     "metadata": {},
     "output_type": "execute_result"
    }
   ],
   "source": [
    "%time power(2, 5)"
   ]
  },
  {
   "cell_type": "code",
   "execution_count": 14,
   "metadata": {},
   "outputs": [
    {
     "name": "stdout",
     "output_type": "stream",
     "text": [
      "CPU times: user 2.07 ms, sys: 665 µs, total: 2.73 ms\n",
      "Wall time: 2.74 ms\n"
     ]
    },
    {
     "data": {
      "text/plain": [
       "114813069527425452423283320117768198402231770208869520047764273682576626139237031385665948631650626991844596463898746277344711896086305533142593135616665318539129989145312280000688779148240044871428926990063486244781615463646388363947317026040466353970904996558162398808944629605623311649536164221970332681344168908984458505602379484807914058900934776500429002716706625830522008132236281291761267883317206598995396418127021779858404042159853183251540889433902091920554957783589672039160081957216630582755380425583726015528348786419432054508915275783882625175435528800822842770817965453762184851149029376"
      ]
     },
     "execution_count": 14,
     "metadata": {},
     "output_type": "execute_result"
    }
   ],
   "source": [
    "%time power(2, 2000)"
   ]
  },
  {
   "cell_type": "code",
   "execution_count": null,
   "metadata": {},
   "outputs": [],
   "source": []
  },
  {
   "cell_type": "markdown",
   "metadata": {},
   "source": [
    "#### Optimization\n",
    "- The above solution of power is linear since the each sub-problem-size = problem-size - 1\n",
    "- we can improve the solution by creating sub problems such that sub-problem-size = problem-size // 2 --> logarithmic time complexity"
   ]
  },
  {
   "cell_type": "code",
   "execution_count": 15,
   "metadata": {},
   "outputs": [],
   "source": [
    "def power_optimized(x, n):\n",
    "    \"\"\"Compute x to the power of n (with n>=0)\n",
    "       with a time complexity of log(n)\"\"\"\n",
    "\n",
    "    #1- base case\n",
    "    if n == 0:\n",
    "        return 1\n",
    "\n",
    "    #2- solve sub-problems\n",
    "    squared_power = power_optimized(x, n//2)\n",
    "\n",
    "    #3- combine sub-solutions\n",
    "    if n %2 == 0:\n",
    "        res = squared_power * squared_power\n",
    "    else:\n",
    "        res = x * squared_power * squared_power\n",
    "\n",
    "    return res"
   ]
  },
  {
   "cell_type": "code",
   "execution_count": 16,
   "metadata": {},
   "outputs": [
    {
     "name": "stdout",
     "output_type": "stream",
     "text": [
      "CPU times: user 3 µs, sys: 1e+03 ns, total: 4 µs\n",
      "Wall time: 6.2 µs\n"
     ]
    },
    {
     "data": {
      "text/plain": [
       "1"
      ]
     },
     "execution_count": 16,
     "metadata": {},
     "output_type": "execute_result"
    }
   ],
   "source": [
    "%time power_optimized(2, 0)"
   ]
  },
  {
   "cell_type": "code",
   "execution_count": 17,
   "metadata": {},
   "outputs": [
    {
     "name": "stdout",
     "output_type": "stream",
     "text": [
      "CPU times: user 5 µs, sys: 1 µs, total: 6 µs\n",
      "Wall time: 8.11 µs\n"
     ]
    },
    {
     "data": {
      "text/plain": [
       "16"
      ]
     },
     "execution_count": 17,
     "metadata": {},
     "output_type": "execute_result"
    }
   ],
   "source": [
    "%time power_optimized(2, 4)"
   ]
  },
  {
   "cell_type": "code",
   "execution_count": 18,
   "metadata": {},
   "outputs": [
    {
     "name": "stdout",
     "output_type": "stream",
     "text": [
      "CPU times: user 5 µs, sys: 0 ns, total: 5 µs\n",
      "Wall time: 9.3 µs\n"
     ]
    },
    {
     "data": {
      "text/plain": [
       "32"
      ]
     },
     "execution_count": 18,
     "metadata": {},
     "output_type": "execute_result"
    }
   ],
   "source": [
    "%time power_optimized(2, 5)"
   ]
  },
  {
   "cell_type": "code",
   "execution_count": 19,
   "metadata": {},
   "outputs": [
    {
     "name": "stdout",
     "output_type": "stream",
     "text": [
      "CPU times: user 10 µs, sys: 0 ns, total: 10 µs\n",
      "Wall time: 14.1 µs\n"
     ]
    },
    {
     "data": {
      "text/plain": [
       "114813069527425452423283320117768198402231770208869520047764273682576626139237031385665948631650626991844596463898746277344711896086305533142593135616665318539129989145312280000688779148240044871428926990063486244781615463646388363947317026040466353970904996558162398808944629605623311649536164221970332681344168908984458505602379484807914058900934776500429002716706625830522008132236281291761267883317206598995396418127021779858404042159853183251540889433902091920554957783589672039160081957216630582755380425583726015528348786419432054508915275783882625175435528800822842770817965453762184851149029376"
      ]
     },
     "execution_count": 19,
     "metadata": {},
     "output_type": "execute_result"
    }
   ],
   "source": [
    "%time power_optimized(2, 2000)"
   ]
  },
  {
   "cell_type": "code",
   "execution_count": 20,
   "metadata": {},
   "outputs": [
    {
     "name": "stdout",
     "output_type": "stream",
     "text": [
      "CPU times: user 51 µs, sys: 6 µs, total: 57 µs\n",
      "Wall time: 59.8 µs\n"
     ]
    },
    {
     "data": {
      "text/plain": [
       "398027684033796659235430720619120245370477278049242593871342686565238635974930057042676009749975595510836461137504912702831400376935319143621753470415827025981215282426893498224826615977707595539466961019588699726772279731941315198182787264034852821200164566127930390710398182979935327718016873784821349516406114982916691867361875370024545872140793827277482562824192439237801588697814168520338650090909697535966525032757049430286459482977357373598020450589927318365663076719136934132593126761906696003770385305284570331119691001526584347722012386381881779425549210851696458253943578557699072154639655630793883941961378971846841113804188730258903839103669626086974468150655710480841592465655211805257863007811676888839555017536731758113448656752514158601444051645154665514388431619042396106716755762338728183461369854648923972904427556158821823778729193111453445844216979095435045778144571378954652122396061615147642540250745857228893999875491625014946013839340891326060933901036249999238637827577774666644809734033861619420363936465178730919233673114244563915058438996625834112132967998495576249320462871747777012165543887156255858358784852335060574881876552025685704823768078710818951860741379429242110855644973977420413810373514584504006896392675854997866870818564207239083874324953871276375716101506575153205747363963740749867514682619756775534507006871485887812402927738227576635284174246988540785975240020481266853076127172228024330561550120182008777598230542033702463408316671120886169260934006805799864598636311179787776738608992346063063099659648279663878174074787179237169752957046404584525301384153358344055908219695854852185210739761460551596658211013159915409566145426809737550417578228465835830890294497535463112081537672664056891624345779311524560019984315456142126282898486728345004767873499752683471409587367450593302392307908004590644754012537113320493601682133709318222647489080531644015321391157387178232154126828007760313716872242209614200967522180475716199973689467714010404673961454146466045855232217196687665143147612199151921277432309700460321430381533385245877431330533479476152339364503436322919665631042328740463612565842560411947020174006507893396276103834436233140915025391014386119201176462659556388343058600326710618903683746516577021214276933289179021059956925949717956040857979165914170970056212869933593589268626151996676594370800885093048230687152803213254735594741799076039453057272319884322341883241036382617598401889439130301876975498681736174215711287053447013711596004574803562701388246822510391522419061320663740921321754344166744899588160649291823535983386025904942040724581017615968429577015808090360968544059204594200069304612417366398776831532265596224715750301792207725607932534543693758772262010387360435567635232718343420679693057360004073679493008945813961012439574397373178636054628207647520675194420244271036343729318858430871461978866964772362057290577326080664463129657590249859748544101333842092713653096656066266827446079145590196644643417403723220085696202719321533233027169599734928971588850348415000070034027025298183104148343980297663148971586607903771717880683175436445585810610546882073571556162324659351310326560804448974229349743425637164834242799991427145050899469511954834774847172360693568437689147399455672090773686782511054291185172381917008889957645311339950993044779783607140593766508017935992581357858306525303783231752425242008347844867988333025417249944092118578113687403158162707075154006053416374075765162668533127078605316562826337193606242535290683224423660462222408680300498714149607265550441220738075941633988435051594487256802874182264814425923111193188280632013127802897889605338783089532740877202304122498193625454768343775535498872821099981620497070810489137457106892573248498734243717184800822956334469415666818858073218653977954309023182851723246522042792401461382001601920501284439325214084210736400630884929942272982943613708123011355260915545831043160243523599372006226150289664982113944898886610710824955096724626895416484521819026132177640598691658035986285376355033719094568083122219345722063613609779158338084375331431276527548482566210071347744541292871876134764249704859840950276227627328897424208932988115108907187647698491814375639614313178092528678007370045871748218421786396197284213209022623762734630836006864192414605237248983289006905268988475197599781524158913583701325199090352274252608342971303907669363045656232183978755853064004010895030834921988601355201181158877254807798058635127708445592064519563115094749276606697559529332807221414021024905241788974917755034700510432039890197393691722911126889174394312127254793141624975830429097997705531781908242083922068769027355129212617244130640289994777413026624013157329948333586377955103195844817163822484232700763859290253400376515701986753596890075818544485475785780031843579065754095099970940504640212850809997051128976563880886392410766321449987529690463262182894272302749154535447233331028841215215533602398281107050696017507827602761547816324743297938177204183765821117818869959795031848201322436053103778993541384779857262311465895754085538371969040922420936915076653500310175006188572019017358300979056992161958286882575984331858170857303361269891312794369244896540323192451678830668180455059289743580640736076233561935888109525845803125912388965524166819855977061399043499229843517930169118036812460794615667808961600389778306540324849286501515292799391304510997298128228258006156017389878086272789993321416349205921635696963703558971391123174877353757536774013315034956942784403824181551741629180658414081905650333672638983416786388095026169496605199749691595798835947189777822765198767949699778106683862989103096006505865271003566346191382406011673958404009194852110016915222433459641787170917872140367871023596464051647947388580570774462304347896201676197195521428782313608583714399238092208362933211302942806480175589402387976531080436906856834377344137698180789562645974374155400497754843905032231188252125802180353577510519869570675234892321663406309376"
      ]
     },
     "execution_count": 20,
     "metadata": {},
     "output_type": "execute_result"
    }
   ],
   "source": [
    "%time power_optimized(2, 20000)"
   ]
  },
  {
   "cell_type": "code",
   "execution_count": null,
   "metadata": {},
   "outputs": [],
   "source": []
  },
  {
   "cell_type": "markdown",
   "metadata": {},
   "source": [
    "### Case study 3: Recursive reverse"
   ]
  },
  {
   "cell_type": "code",
   "execution_count": 21,
   "metadata": {},
   "outputs": [],
   "source": [
    "def helper(L, left, right):\n",
    "    \"\"\"helper function to reverse the element of a\n",
    "    list(L) between left and right\"\"\"\n",
    "    print(f'so far ==> left={left}, right={right}, L={L}')\n",
    "\n",
    "    # 1- base case\n",
    "    if left >= right:\n",
    "        # if list has 0 or 1 element there is nothing to do\n",
    "        return\n",
    "\n",
    "    # 2- solve the sub-problems\n",
    "    # 2.1 swap elements at position left and right\n",
    "    L[left], L[right] = L[right], L[left]\n",
    "\n",
    "    # 2.2 reverse elements between left+1 and right-1\n",
    "    helper(L, left+1, right-1)\n",
    "\n",
    "    # 3- combine the sub-solutions\n",
    "    # nothing to combine --> tail recursion(stay tunned for more)\n",
    "\n",
    "\n",
    "def reverse(L):\n",
    "    \"\"\"Reverse a list (L) in-place recursively\"\"\"\n",
    "    helper(L, 0, len(L)-1)"
   ]
  },
  {
   "cell_type": "code",
   "execution_count": 22,
   "metadata": {},
   "outputs": [
    {
     "name": "stdout",
     "output_type": "stream",
     "text": [
      "so far ==> left=0, right=9, L=[0, 1, 2, 3, 4, 5, 6, 7, 8, 9]\n",
      "so far ==> left=1, right=8, L=[9, 1, 2, 3, 4, 5, 6, 7, 8, 0]\n",
      "so far ==> left=2, right=7, L=[9, 8, 2, 3, 4, 5, 6, 7, 1, 0]\n",
      "so far ==> left=3, right=6, L=[9, 8, 7, 3, 4, 5, 6, 2, 1, 0]\n",
      "so far ==> left=4, right=5, L=[9, 8, 7, 6, 4, 5, 3, 2, 1, 0]\n",
      "so far ==> left=5, right=4, L=[9, 8, 7, 6, 5, 4, 3, 2, 1, 0]\n",
      "CPU times: user 370 µs, sys: 178 µs, total: 548 µs\n",
      "Wall time: 404 µs\n"
     ]
    }
   ],
   "source": [
    "L = list(range(10))\n",
    "%time reverse(L)"
   ]
  },
  {
   "cell_type": "code",
   "execution_count": 23,
   "metadata": {},
   "outputs": [
    {
     "name": "stdout",
     "output_type": "stream",
     "text": [
      "so far ==> left=0, right=29, L=[0, 1, 2, 3, 4, 5, 6, 7, 8, 9, 10, 11, 12, 13, 14, 15, 16, 17, 18, 19, 20, 21, 22, 23, 24, 25, 26, 27, 28, 29]\n",
      "so far ==> left=1, right=28, L=[29, 1, 2, 3, 4, 5, 6, 7, 8, 9, 10, 11, 12, 13, 14, 15, 16, 17, 18, 19, 20, 21, 22, 23, 24, 25, 26, 27, 28, 0]\n",
      "so far ==> left=2, right=27, L=[29, 28, 2, 3, 4, 5, 6, 7, 8, 9, 10, 11, 12, 13, 14, 15, 16, 17, 18, 19, 20, 21, 22, 23, 24, 25, 26, 27, 1, 0]\n",
      "so far ==> left=3, right=26, L=[29, 28, 27, 3, 4, 5, 6, 7, 8, 9, 10, 11, 12, 13, 14, 15, 16, 17, 18, 19, 20, 21, 22, 23, 24, 25, 26, 2, 1, 0]\n",
      "so far ==> left=4, right=25, L=[29, 28, 27, 26, 4, 5, 6, 7, 8, 9, 10, 11, 12, 13, 14, 15, 16, 17, 18, 19, 20, 21, 22, 23, 24, 25, 3, 2, 1, 0]\n",
      "so far ==> left=5, right=24, L=[29, 28, 27, 26, 25, 5, 6, 7, 8, 9, 10, 11, 12, 13, 14, 15, 16, 17, 18, 19, 20, 21, 22, 23, 24, 4, 3, 2, 1, 0]\n",
      "so far ==> left=6, right=23, L=[29, 28, 27, 26, 25, 24, 6, 7, 8, 9, 10, 11, 12, 13, 14, 15, 16, 17, 18, 19, 20, 21, 22, 23, 5, 4, 3, 2, 1, 0]\n",
      "so far ==> left=7, right=22, L=[29, 28, 27, 26, 25, 24, 23, 7, 8, 9, 10, 11, 12, 13, 14, 15, 16, 17, 18, 19, 20, 21, 22, 6, 5, 4, 3, 2, 1, 0]\n",
      "so far ==> left=8, right=21, L=[29, 28, 27, 26, 25, 24, 23, 22, 8, 9, 10, 11, 12, 13, 14, 15, 16, 17, 18, 19, 20, 21, 7, 6, 5, 4, 3, 2, 1, 0]\n",
      "so far ==> left=9, right=20, L=[29, 28, 27, 26, 25, 24, 23, 22, 21, 9, 10, 11, 12, 13, 14, 15, 16, 17, 18, 19, 20, 8, 7, 6, 5, 4, 3, 2, 1, 0]\n",
      "so far ==> left=10, right=19, L=[29, 28, 27, 26, 25, 24, 23, 22, 21, 20, 10, 11, 12, 13, 14, 15, 16, 17, 18, 19, 9, 8, 7, 6, 5, 4, 3, 2, 1, 0]\n",
      "so far ==> left=11, right=18, L=[29, 28, 27, 26, 25, 24, 23, 22, 21, 20, 19, 11, 12, 13, 14, 15, 16, 17, 18, 10, 9, 8, 7, 6, 5, 4, 3, 2, 1, 0]\n",
      "so far ==> left=12, right=17, L=[29, 28, 27, 26, 25, 24, 23, 22, 21, 20, 19, 18, 12, 13, 14, 15, 16, 17, 11, 10, 9, 8, 7, 6, 5, 4, 3, 2, 1, 0]\n",
      "so far ==> left=13, right=16, L=[29, 28, 27, 26, 25, 24, 23, 22, 21, 20, 19, 18, 17, 13, 14, 15, 16, 12, 11, 10, 9, 8, 7, 6, 5, 4, 3, 2, 1, 0]\n",
      "so far ==> left=14, right=15, L=[29, 28, 27, 26, 25, 24, 23, 22, 21, 20, 19, 18, 17, 16, 14, 15, 13, 12, 11, 10, 9, 8, 7, 6, 5, 4, 3, 2, 1, 0]\n",
      "so far ==> left=15, right=14, L=[29, 28, 27, 26, 25, 24, 23, 22, 21, 20, 19, 18, 17, 16, 15, 14, 13, 12, 11, 10, 9, 8, 7, 6, 5, 4, 3, 2, 1, 0]\n",
      "CPU times: user 658 µs, sys: 340 µs, total: 998 µs\n",
      "Wall time: 705 µs\n"
     ]
    }
   ],
   "source": [
    "L = list(range(30))\n",
    "%time reverse(L)"
   ]
  },
  {
   "cell_type": "code",
   "execution_count": null,
   "metadata": {},
   "outputs": [],
   "source": []
  },
  {
   "cell_type": "markdown",
   "metadata": {},
   "source": [
    "### Case study 4: Recursive binary search"
   ]
  },
  {
   "cell_type": "markdown",
   "metadata": {},
   "source": [
    "#### very bad implementation"
   ]
  },
  {
   "cell_type": "code",
   "execution_count": 24,
   "metadata": {},
   "outputs": [],
   "source": [
    "def very_bad_binary_search(A, k, verbose=True):\n",
    "    \"\"\"\n",
    "    Buggy binary search of k in A, return True if found, False otherwise\n",
    "    Because of this bug, the following implementation complexity is:\n",
    "     -Time:   linear and not logarithmic\n",
    "    \"\"\"\n",
    "    left, right = 0, len(A)-1\n",
    "    if verbose:\n",
    "        print(f'so far ==> left={left}, right={right}, k={k}, A={A}')\n",
    "\n",
    "    # 1- base case\n",
    "    if len(A) == 0:\n",
    "        # if empty list there is nothing to search\n",
    "        return False\n",
    "\n",
    "    # 2- solve the subproblems\n",
    "    mid = (right - left)//2 + left\n",
    "    if A[mid] < k:  \n",
    "        left = mid + 1 # -> search right\n",
    "        return very_bad_binary_search(A[left:right+1], k, verbose) #BUG HERE\n",
    "    elif A[mid] > k:  \n",
    "        right = mid - 1 # -> search left\n",
    "        return very_bad_binary_search(A[left:right+1], k, verbose) #BUG HERE\n",
    "    else:\n",
    "        return True\n",
    "\n",
    "    # 3- combine the sub-solutions\n",
    "    # nothing to combine --> tail recursion(stay tunned for more)"
   ]
  },
  {
   "cell_type": "code",
   "execution_count": 25,
   "metadata": {},
   "outputs": [],
   "source": [
    "A = [5, 8, 8, 15, 16, 19, 30, 35, 40, 51]"
   ]
  },
  {
   "cell_type": "code",
   "execution_count": 26,
   "metadata": {},
   "outputs": [
    {
     "name": "stdout",
     "output_type": "stream",
     "text": [
      "so far ==> left=0, right=9, k=15, A=[5, 8, 8, 15, 16, 19, 30, 35, 40, 51]\n",
      "so far ==> left=0, right=3, k=15, A=[5, 8, 8, 15]\n",
      "so far ==> left=0, right=1, k=15, A=[8, 15]\n",
      "so far ==> left=0, right=0, k=15, A=[15]\n",
      "CPU times: user 255 µs, sys: 211 µs, total: 466 µs\n",
      "Wall time: 317 µs\n"
     ]
    },
    {
     "data": {
      "text/plain": [
       "True"
      ]
     },
     "execution_count": 26,
     "metadata": {},
     "output_type": "execute_result"
    }
   ],
   "source": [
    "%time very_bad_binary_search(A, 15)"
   ]
  },
  {
   "cell_type": "code",
   "execution_count": 27,
   "metadata": {},
   "outputs": [
    {
     "name": "stdout",
     "output_type": "stream",
     "text": [
      "so far ==> left=0, right=9, k=100, A=[5, 8, 8, 15, 16, 19, 30, 35, 40, 51]\n",
      "so far ==> left=0, right=4, k=100, A=[19, 30, 35, 40, 51]\n",
      "so far ==> left=0, right=1, k=100, A=[40, 51]\n",
      "so far ==> left=0, right=0, k=100, A=[51]\n",
      "so far ==> left=0, right=-1, k=100, A=[]\n",
      "CPU times: user 114 µs, sys: 37 µs, total: 151 µs\n",
      "Wall time: 126 µs\n"
     ]
    },
    {
     "data": {
      "text/plain": [
       "False"
      ]
     },
     "execution_count": 27,
     "metadata": {},
     "output_type": "execute_result"
    }
   ],
   "source": [
    "%time very_bad_binary_search(A, 100)"
   ]
  },
  {
   "cell_type": "code",
   "execution_count": 28,
   "metadata": {},
   "outputs": [
    {
     "name": "stdout",
     "output_type": "stream",
     "text": [
      "so far ==> left=0, right=9, k=51, A=[5, 8, 8, 15, 16, 19, 30, 35, 40, 51]\n",
      "so far ==> left=0, right=4, k=51, A=[19, 30, 35, 40, 51]\n",
      "so far ==> left=0, right=1, k=51, A=[40, 51]\n",
      "so far ==> left=0, right=0, k=51, A=[51]\n",
      "CPU times: user 144 µs, sys: 11 µs, total: 155 µs\n",
      "Wall time: 160 µs\n"
     ]
    },
    {
     "data": {
      "text/plain": [
       "True"
      ]
     },
     "execution_count": 28,
     "metadata": {},
     "output_type": "execute_result"
    }
   ],
   "source": [
    "%time very_bad_binary_search(A, 51)"
   ]
  },
  {
   "cell_type": "code",
   "execution_count": 29,
   "metadata": {},
   "outputs": [
    {
     "name": "stdout",
     "output_type": "stream",
     "text": [
      "CPU times: user 11.2 ms, sys: 2.65 ms, total: 13.8 ms\n",
      "Wall time: 13.5 ms\n"
     ]
    },
    {
     "data": {
      "text/plain": [
       "True"
      ]
     },
     "execution_count": 29,
     "metadata": {},
     "output_type": "execute_result"
    }
   ],
   "source": [
    "Big_A = list(range(900000))\n",
    "%time very_bad_binary_search(Big_A, 0, verbose=False)"
   ]
  },
  {
   "cell_type": "code",
   "execution_count": 30,
   "metadata": {},
   "outputs": [
    {
     "name": "stdout",
     "output_type": "stream",
     "text": [
      "peak memory: 85.48 MiB, increment: -0.51 MiB\n"
     ]
    }
   ],
   "source": [
    "%memit very_bad_binary_search(Big_A, 0, verbose=False)"
   ]
  },
  {
   "cell_type": "code",
   "execution_count": null,
   "metadata": {},
   "outputs": [],
   "source": []
  },
  {
   "cell_type": "markdown",
   "metadata": {},
   "source": [
    "#### good implementation"
   ]
  },
  {
   "cell_type": "code",
   "execution_count": 31,
   "metadata": {},
   "outputs": [],
   "source": [
    "def helper(A, k, left, right, verbose=True):\n",
    "    \"\"\"binary search of k in A[left:right], return True if found, False otherwise\"\"\"\n",
    "    if verbose:\n",
    "        print(f'so far ==> left={left}, right={right}, k={k}, A={A}')\n",
    "\n",
    "    #1- base case\n",
    "    if left > right:\n",
    "        # if empty list there is nothing to search\n",
    "        return False\n",
    "\n",
    "    #2- solve the subproblems\n",
    "    mid = (right - left)//2 + left\n",
    "    if A[mid] < k:\n",
    "        left = mid + 1 # -> search right\n",
    "        return helper(A, k, left, right, verbose)\n",
    "    elif A[mid] > k:\n",
    "        right = mid - 1 # -> search left\n",
    "        return helper(A, k, left, right, verbose)\n",
    "    else:\n",
    "        return True\n",
    "\n",
    "\n",
    "    #3- combine the sub-solutions\n",
    "    # nothing to combine --> tail recursion(stay tunned for more)\n",
    "    \n",
    "def binary_search(A, k, verbose=True):\n",
    "    \"\"\"binary search of k in A, return index if found, -1 otherwise\"\"\"\n",
    "    return helper(A, k, 0, len(A)-1, verbose)"
   ]
  },
  {
   "cell_type": "code",
   "execution_count": 32,
   "metadata": {},
   "outputs": [],
   "source": [
    "A = [5, 8, 8, 15, 16, 19, 30, 35, 40, 51]"
   ]
  },
  {
   "cell_type": "code",
   "execution_count": 33,
   "metadata": {},
   "outputs": [
    {
     "name": "stdout",
     "output_type": "stream",
     "text": [
      "so far ==> left=0, right=9, k=15, A=[5, 8, 8, 15, 16, 19, 30, 35, 40, 51]\n",
      "so far ==> left=0, right=3, k=15, A=[5, 8, 8, 15, 16, 19, 30, 35, 40, 51]\n",
      "so far ==> left=2, right=3, k=15, A=[5, 8, 8, 15, 16, 19, 30, 35, 40, 51]\n",
      "so far ==> left=3, right=3, k=15, A=[5, 8, 8, 15, 16, 19, 30, 35, 40, 51]\n",
      "CPU times: user 439 µs, sys: 385 µs, total: 824 µs\n",
      "Wall time: 464 µs\n"
     ]
    },
    {
     "data": {
      "text/plain": [
       "True"
      ]
     },
     "execution_count": 33,
     "metadata": {},
     "output_type": "execute_result"
    }
   ],
   "source": [
    "%time binary_search(A, 15)"
   ]
  },
  {
   "cell_type": "code",
   "execution_count": 34,
   "metadata": {},
   "outputs": [
    {
     "name": "stdout",
     "output_type": "stream",
     "text": [
      "so far ==> left=0, right=9, k=100, A=[5, 8, 8, 15, 16, 19, 30, 35, 40, 51]\n",
      "so far ==> left=5, right=9, k=100, A=[5, 8, 8, 15, 16, 19, 30, 35, 40, 51]\n",
      "so far ==> left=8, right=9, k=100, A=[5, 8, 8, 15, 16, 19, 30, 35, 40, 51]\n",
      "so far ==> left=9, right=9, k=100, A=[5, 8, 8, 15, 16, 19, 30, 35, 40, 51]\n",
      "so far ==> left=10, right=9, k=100, A=[5, 8, 8, 15, 16, 19, 30, 35, 40, 51]\n",
      "CPU times: user 263 µs, sys: 95 µs, total: 358 µs\n",
      "Wall time: 304 µs\n"
     ]
    },
    {
     "data": {
      "text/plain": [
       "False"
      ]
     },
     "execution_count": 34,
     "metadata": {},
     "output_type": "execute_result"
    }
   ],
   "source": [
    "%time binary_search(A, 100)"
   ]
  },
  {
   "cell_type": "code",
   "execution_count": 35,
   "metadata": {},
   "outputs": [
    {
     "name": "stdout",
     "output_type": "stream",
     "text": [
      "so far ==> left=0, right=9, k=51, A=[5, 8, 8, 15, 16, 19, 30, 35, 40, 51]\n",
      "so far ==> left=5, right=9, k=51, A=[5, 8, 8, 15, 16, 19, 30, 35, 40, 51]\n",
      "so far ==> left=8, right=9, k=51, A=[5, 8, 8, 15, 16, 19, 30, 35, 40, 51]\n",
      "so far ==> left=9, right=9, k=51, A=[5, 8, 8, 15, 16, 19, 30, 35, 40, 51]\n",
      "CPU times: user 343 µs, sys: 151 µs, total: 494 µs\n",
      "Wall time: 409 µs\n"
     ]
    },
    {
     "data": {
      "text/plain": [
       "True"
      ]
     },
     "execution_count": 35,
     "metadata": {},
     "output_type": "execute_result"
    }
   ],
   "source": [
    "%time binary_search(A, 51)"
   ]
  },
  {
   "cell_type": "code",
   "execution_count": 36,
   "metadata": {},
   "outputs": [
    {
     "name": "stdout",
     "output_type": "stream",
     "text": [
      "CPU times: user 24 µs, sys: 7 µs, total: 31 µs\n",
      "Wall time: 35 µs\n"
     ]
    },
    {
     "data": {
      "text/plain": [
       "True"
      ]
     },
     "execution_count": 36,
     "metadata": {},
     "output_type": "execute_result"
    }
   ],
   "source": [
    "Big_A = list(range(900000))\n",
    "%time binary_search(Big_A, 0, verbose=False)"
   ]
  },
  {
   "cell_type": "code",
   "execution_count": 37,
   "metadata": {},
   "outputs": [
    {
     "name": "stdout",
     "output_type": "stream",
     "text": [
      "peak memory: 92.95 MiB, increment: 0.00 MiB\n"
     ]
    }
   ],
   "source": [
    "%memit binary_search(Big_A, 0, verbose=False)"
   ]
  },
  {
   "cell_type": "code",
   "execution_count": null,
   "metadata": {},
   "outputs": [],
   "source": []
  },
  {
   "cell_type": "markdown",
   "metadata": {},
   "source": [
    "### Case study 5: Fibonacci"
   ]
  },
  {
   "cell_type": "code",
   "execution_count": 38,
   "metadata": {},
   "outputs": [],
   "source": [
    "def fibonacci(n, verbose=True):\n",
    "    \"\"\"naive implementation of the fibonacci algorithm\"\"\"\n",
    "    if verbose:\n",
    "        print(f'computing fibonacci({n})')\n",
    "\n",
    "    #1- base case\n",
    "    if n <= 1:\n",
    "        return n\n",
    "\n",
    "    #2- solve the sub-problems\n",
    "    previous_fib = fibonacci(n-1, verbose)\n",
    "    previous_previous_fib = fibonacci(n-2, verbose)\n",
    "\n",
    "    #3- combine the sub-solutions\n",
    "    res = previous_fib + previous_previous_fib\n",
    "\n",
    "    return res"
   ]
  },
  {
   "cell_type": "code",
   "execution_count": 39,
   "metadata": {},
   "outputs": [
    {
     "name": "stdout",
     "output_type": "stream",
     "text": [
      "computing fibonacci(4)\n",
      "computing fibonacci(3)\n",
      "computing fibonacci(2)\n",
      "computing fibonacci(1)\n",
      "computing fibonacci(0)\n",
      "computing fibonacci(1)\n",
      "computing fibonacci(2)\n",
      "computing fibonacci(1)\n",
      "computing fibonacci(0)\n",
      "CPU times: user 855 µs, sys: 460 µs, total: 1.31 ms\n",
      "Wall time: 1.01 ms\n"
     ]
    },
    {
     "data": {
      "text/plain": [
       "3"
      ]
     },
     "execution_count": 39,
     "metadata": {},
     "output_type": "execute_result"
    }
   ],
   "source": [
    "%time fibonacci(4)"
   ]
  },
  {
   "cell_type": "code",
   "execution_count": 40,
   "metadata": {},
   "outputs": [
    {
     "name": "stdout",
     "output_type": "stream",
     "text": [
      "computing fibonacci(5)\n",
      "computing fibonacci(4)\n",
      "computing fibonacci(3)\n",
      "computing fibonacci(2)\n",
      "computing fibonacci(1)\n",
      "computing fibonacci(0)\n",
      "computing fibonacci(1)\n",
      "computing fibonacci(2)\n",
      "computing fibonacci(1)\n",
      "computing fibonacci(0)\n",
      "computing fibonacci(3)\n",
      "computing fibonacci(2)\n",
      "computing fibonacci(1)\n",
      "computing fibonacci(0)\n",
      "computing fibonacci(1)\n",
      "CPU times: user 420 µs, sys: 217 µs, total: 637 µs\n",
      "Wall time: 483 µs\n"
     ]
    },
    {
     "data": {
      "text/plain": [
       "5"
      ]
     },
     "execution_count": 40,
     "metadata": {},
     "output_type": "execute_result"
    }
   ],
   "source": [
    "%time fibonacci(5)"
   ]
  },
  {
   "cell_type": "code",
   "execution_count": 41,
   "metadata": {},
   "outputs": [
    {
     "name": "stdout",
     "output_type": "stream",
     "text": [
      "computing fibonacci(10)\n",
      "computing fibonacci(9)\n",
      "computing fibonacci(8)\n",
      "computing fibonacci(7)\n",
      "computing fibonacci(6)\n",
      "computing fibonacci(5)\n",
      "computing fibonacci(4)\n",
      "computing fibonacci(3)\n",
      "computing fibonacci(2)\n",
      "computing fibonacci(1)\n",
      "computing fibonacci(0)\n",
      "computing fibonacci(1)\n",
      "computing fibonacci(2)\n",
      "computing fibonacci(1)\n",
      "computing fibonacci(0)\n",
      "computing fibonacci(3)\n",
      "computing fibonacci(2)\n",
      "computing fibonacci(1)\n",
      "computing fibonacci(0)\n",
      "computing fibonacci(1)\n",
      "computing fibonacci(4)\n",
      "computing fibonacci(3)\n",
      "computing fibonacci(2)\n",
      "computing fibonacci(1)\n",
      "computing fibonacci(0)\n",
      "computing fibonacci(1)\n",
      "computing fibonacci(2)\n",
      "computing fibonacci(1)\n",
      "computing fibonacci(0)\n",
      "computing fibonacci(5)\n",
      "computing fibonacci(4)\n",
      "computing fibonacci(3)\n",
      "computing fibonacci(2)\n",
      "computing fibonacci(1)\n",
      "computing fibonacci(0)\n",
      "computing fibonacci(1)\n",
      "computing fibonacci(2)\n",
      "computing fibonacci(1)\n",
      "computing fibonacci(0)\n",
      "computing fibonacci(3)\n",
      "computing fibonacci(2)\n",
      "computing fibonacci(1)\n",
      "computing fibonacci(0)\n",
      "computing fibonacci(1)\n",
      "computing fibonacci(6)\n",
      "computing fibonacci(5)\n",
      "computing fibonacci(4)\n",
      "computing fibonacci(3)\n",
      "computing fibonacci(2)\n",
      "computing fibonacci(1)\n",
      "computing fibonacci(0)\n",
      "computing fibonacci(1)\n",
      "computing fibonacci(2)\n",
      "computing fibonacci(1)\n",
      "computing fibonacci(0)\n",
      "computing fibonacci(3)\n",
      "computing fibonacci(2)\n",
      "computing fibonacci(1)\n",
      "computing fibonacci(0)\n",
      "computing fibonacci(1)\n",
      "computing fibonacci(4)\n",
      "computing fibonacci(3)\n",
      "computing fibonacci(2)\n",
      "computing fibonacci(1)\n",
      "computing fibonacci(0)\n",
      "computing fibonacci(1)\n",
      "computing fibonacci(2)\n",
      "computing fibonacci(1)\n",
      "computing fibonacci(0)\n",
      "computing fibonacci(7)\n",
      "computing fibonacci(6)\n",
      "computing fibonacci(5)\n",
      "computing fibonacci(4)\n",
      "computing fibonacci(3)\n",
      "computing fibonacci(2)\n",
      "computing fibonacci(1)\n",
      "computing fibonacci(0)\n",
      "computing fibonacci(1)\n",
      "computing fibonacci(2)\n",
      "computing fibonacci(1)\n",
      "computing fibonacci(0)\n",
      "computing fibonacci(3)\n",
      "computing fibonacci(2)\n",
      "computing fibonacci(1)\n",
      "computing fibonacci(0)\n",
      "computing fibonacci(1)\n",
      "computing fibonacci(4)\n",
      "computing fibonacci(3)\n",
      "computing fibonacci(2)\n",
      "computing fibonacci(1)\n",
      "computing fibonacci(0)\n",
      "computing fibonacci(1)\n",
      "computing fibonacci(2)\n",
      "computing fibonacci(1)\n",
      "computing fibonacci(0)\n",
      "computing fibonacci(5)\n",
      "computing fibonacci(4)\n",
      "computing fibonacci(3)\n",
      "computing fibonacci(2)\n",
      "computing fibonacci(1)\n",
      "computing fibonacci(0)\n",
      "computing fibonacci(1)\n",
      "computing fibonacci(2)\n",
      "computing fibonacci(1)\n",
      "computing fibonacci(0)\n",
      "computing fibonacci(3)\n",
      "computing fibonacci(2)\n",
      "computing fibonacci(1)\n",
      "computing fibonacci(0)\n",
      "computing fibonacci(1)\n",
      "computing fibonacci(8)\n",
      "computing fibonacci(7)\n",
      "computing fibonacci(6)\n",
      "computing fibonacci(5)\n",
      "computing fibonacci(4)\n",
      "computing fibonacci(3)\n",
      "computing fibonacci(2)\n",
      "computing fibonacci(1)\n",
      "computing fibonacci(0)\n",
      "computing fibonacci(1)\n",
      "computing fibonacci(2)\n",
      "computing fibonacci(1)\n",
      "computing fibonacci(0)\n",
      "computing fibonacci(3)\n",
      "computing fibonacci(2)\n",
      "computing fibonacci(1)\n",
      "computing fibonacci(0)\n",
      "computing fibonacci(1)\n",
      "computing fibonacci(4)\n",
      "computing fibonacci(3)\n",
      "computing fibonacci(2)\n",
      "computing fibonacci(1)\n",
      "computing fibonacci(0)\n",
      "computing fibonacci(1)\n",
      "computing fibonacci(2)\n",
      "computing fibonacci(1)\n",
      "computing fibonacci(0)\n",
      "computing fibonacci(5)\n",
      "computing fibonacci(4)\n",
      "computing fibonacci(3)\n",
      "computing fibonacci(2)\n",
      "computing fibonacci(1)\n",
      "computing fibonacci(0)\n",
      "computing fibonacci(1)\n",
      "computing fibonacci(2)\n",
      "computing fibonacci(1)\n",
      "computing fibonacci(0)\n",
      "computing fibonacci(3)\n",
      "computing fibonacci(2)\n",
      "computing fibonacci(1)\n",
      "computing fibonacci(0)\n",
      "computing fibonacci(1)\n",
      "computing fibonacci(6)\n",
      "computing fibonacci(5)\n",
      "computing fibonacci(4)\n",
      "computing fibonacci(3)\n",
      "computing fibonacci(2)\n",
      "computing fibonacci(1)\n",
      "computing fibonacci(0)\n",
      "computing fibonacci(1)\n",
      "computing fibonacci(2)\n",
      "computing fibonacci(1)\n",
      "computing fibonacci(0)\n",
      "computing fibonacci(3)\n",
      "computing fibonacci(2)\n",
      "computing fibonacci(1)\n",
      "computing fibonacci(0)\n",
      "computing fibonacci(1)\n",
      "computing fibonacci(4)\n",
      "computing fibonacci(3)\n",
      "computing fibonacci(2)\n",
      "computing fibonacci(1)\n",
      "computing fibonacci(0)\n",
      "computing fibonacci(1)\n",
      "computing fibonacci(2)\n",
      "computing fibonacci(1)\n",
      "computing fibonacci(0)\n",
      "CPU times: user 6.68 ms, sys: 4.03 ms, total: 10.7 ms\n",
      "Wall time: 7.45 ms\n"
     ]
    },
    {
     "data": {
      "text/plain": [
       "55"
      ]
     },
     "execution_count": 41,
     "metadata": {},
     "output_type": "execute_result"
    }
   ],
   "source": [
    "%time fibonacci(10)"
   ]
  },
  {
   "cell_type": "code",
   "execution_count": 42,
   "metadata": {},
   "outputs": [
    {
     "name": "stdout",
     "output_type": "stream",
     "text": [
      "CPU times: user 52.2 s, sys: 267 ms, total: 52.4 s\n",
      "Wall time: 52.9 s\n"
     ]
    },
    {
     "data": {
      "text/plain": [
       "102334155"
      ]
     },
     "execution_count": 42,
     "metadata": {},
     "output_type": "execute_result"
    }
   ],
   "source": [
    "%time fibonacci(40, verbose=False)"
   ]
  },
  {
   "cell_type": "code",
   "execution_count": null,
   "metadata": {},
   "outputs": [],
   "source": []
  },
  {
   "cell_type": "markdown",
   "metadata": {},
   "source": [
    "### Closing remarks on recursion"
   ]
  },
  {
   "cell_type": "markdown",
   "metadata": {},
   "source": [
    "#### remark 1: max recursion depth"
   ]
  },
  {
   "cell_type": "code",
   "execution_count": 45,
   "metadata": {},
   "outputs": [
    {
     "data": {
      "text/plain": [
       "3000"
      ]
     },
     "execution_count": 45,
     "metadata": {},
     "output_type": "execute_result"
    }
   ],
   "source": [
    "import sys\n",
    "\n",
    "sys.getrecursionlimit()"
   ]
  },
  {
   "cell_type": "code",
   "execution_count": 48,
   "metadata": {},
   "outputs": [
    {
     "ename": "RecursionError",
     "evalue": "maximum recursion depth exceeded in comparison",
     "output_type": "error",
     "traceback": [
      "\u001b[0;31m---------------------------------------------------------------------------\u001b[0m",
      "\u001b[0;31mRecursionError\u001b[0m                            Traceback (most recent call last)",
      "\u001b[0;32m<ipython-input-48-1f81c569e3b4>\u001b[0m in \u001b[0;36m<module>\u001b[0;34m\u001b[0m\n\u001b[0;32m----> 1\u001b[0;31m \u001b[0mfactorial\u001b[0m\u001b[0;34m(\u001b[0m\u001b[0;36m3000\u001b[0m\u001b[0;34m)\u001b[0m\u001b[0;34m\u001b[0m\u001b[0m\n\u001b[0m",
      "\u001b[0;32m<ipython-input-4-070c547855bd>\u001b[0m in \u001b[0;36mfactorial\u001b[0;34m(n)\u001b[0m\n\u001b[1;32m      5\u001b[0m \u001b[0;34m\u001b[0m\u001b[0m\n\u001b[1;32m      6\u001b[0m     \u001b[0;31m#2- solve sub-problems\u001b[0m\u001b[0;34m\u001b[0m\u001b[0;34m\u001b[0m\u001b[0m\n\u001b[0;32m----> 7\u001b[0;31m     \u001b[0mprevious_factorial\u001b[0m \u001b[0;34m=\u001b[0m \u001b[0mfactorial\u001b[0m\u001b[0;34m(\u001b[0m\u001b[0mn\u001b[0m\u001b[0;34m-\u001b[0m\u001b[0;36m1\u001b[0m\u001b[0;34m)\u001b[0m\u001b[0;34m\u001b[0m\u001b[0m\n\u001b[0m\u001b[1;32m      8\u001b[0m \u001b[0;34m\u001b[0m\u001b[0m\n\u001b[1;32m      9\u001b[0m     \u001b[0;31m#3- combine sub-solutions\u001b[0m\u001b[0;34m\u001b[0m\u001b[0;34m\u001b[0m\u001b[0m\n",
      "... last 1 frames repeated, from the frame below ...\n",
      "\u001b[0;32m<ipython-input-4-070c547855bd>\u001b[0m in \u001b[0;36mfactorial\u001b[0;34m(n)\u001b[0m\n\u001b[1;32m      5\u001b[0m \u001b[0;34m\u001b[0m\u001b[0m\n\u001b[1;32m      6\u001b[0m     \u001b[0;31m#2- solve sub-problems\u001b[0m\u001b[0;34m\u001b[0m\u001b[0;34m\u001b[0m\u001b[0m\n\u001b[0;32m----> 7\u001b[0;31m     \u001b[0mprevious_factorial\u001b[0m \u001b[0;34m=\u001b[0m \u001b[0mfactorial\u001b[0m\u001b[0;34m(\u001b[0m\u001b[0mn\u001b[0m\u001b[0;34m-\u001b[0m\u001b[0;36m1\u001b[0m\u001b[0;34m)\u001b[0m\u001b[0;34m\u001b[0m\u001b[0m\n\u001b[0m\u001b[1;32m      8\u001b[0m \u001b[0;34m\u001b[0m\u001b[0m\n\u001b[1;32m      9\u001b[0m     \u001b[0;31m#3- combine sub-solutions\u001b[0m\u001b[0;34m\u001b[0m\u001b[0;34m\u001b[0m\u001b[0m\n",
      "\u001b[0;31mRecursionError\u001b[0m: maximum recursion depth exceeded in comparison"
     ]
    }
   ],
   "source": [
    "factorial(3000)"
   ]
  },
  {
   "cell_type": "code",
   "execution_count": 49,
   "metadata": {},
   "outputs": [
    {
     "ename": "RecursionError",
     "evalue": "maximum recursion depth exceeded in comparison",
     "output_type": "error",
     "traceback": [
      "\u001b[0;31m---------------------------------------------------------------------------\u001b[0m",
      "\u001b[0;31mRecursionError\u001b[0m                            Traceback (most recent call last)",
      "\u001b[0;32m<ipython-input-49-964d738f4f71>\u001b[0m in \u001b[0;36m<module>\u001b[0;34m\u001b[0m\n\u001b[0;32m----> 1\u001b[0;31m \u001b[0mpower\u001b[0m\u001b[0;34m(\u001b[0m\u001b[0;36m2\u001b[0m\u001b[0;34m,\u001b[0m \u001b[0;36m3000\u001b[0m\u001b[0;34m)\u001b[0m\u001b[0;34m\u001b[0m\u001b[0m\n\u001b[0m",
      "\u001b[0;32m<ipython-input-10-7da7da089175>\u001b[0m in \u001b[0;36mpower\u001b[0;34m(x, n)\u001b[0m\n\u001b[1;32m      7\u001b[0m \u001b[0;34m\u001b[0m\u001b[0m\n\u001b[1;32m      8\u001b[0m     \u001b[0;31m#2- solve sub-problems\u001b[0m\u001b[0;34m\u001b[0m\u001b[0;34m\u001b[0m\u001b[0m\n\u001b[0;32m----> 9\u001b[0;31m     \u001b[0mprevious_power\u001b[0m \u001b[0;34m=\u001b[0m \u001b[0mpower\u001b[0m\u001b[0;34m(\u001b[0m\u001b[0mx\u001b[0m\u001b[0;34m,\u001b[0m \u001b[0mn\u001b[0m\u001b[0;34m-\u001b[0m\u001b[0;36m1\u001b[0m\u001b[0;34m)\u001b[0m\u001b[0;34m\u001b[0m\u001b[0m\n\u001b[0m\u001b[1;32m     10\u001b[0m \u001b[0;34m\u001b[0m\u001b[0m\n\u001b[1;32m     11\u001b[0m     \u001b[0;31m#3- combine sub-solutions\u001b[0m\u001b[0;34m\u001b[0m\u001b[0;34m\u001b[0m\u001b[0m\n",
      "... last 1 frames repeated, from the frame below ...\n",
      "\u001b[0;32m<ipython-input-10-7da7da089175>\u001b[0m in \u001b[0;36mpower\u001b[0;34m(x, n)\u001b[0m\n\u001b[1;32m      7\u001b[0m \u001b[0;34m\u001b[0m\u001b[0m\n\u001b[1;32m      8\u001b[0m     \u001b[0;31m#2- solve sub-problems\u001b[0m\u001b[0;34m\u001b[0m\u001b[0;34m\u001b[0m\u001b[0m\n\u001b[0;32m----> 9\u001b[0;31m     \u001b[0mprevious_power\u001b[0m \u001b[0;34m=\u001b[0m \u001b[0mpower\u001b[0m\u001b[0;34m(\u001b[0m\u001b[0mx\u001b[0m\u001b[0;34m,\u001b[0m \u001b[0mn\u001b[0m\u001b[0;34m-\u001b[0m\u001b[0;36m1\u001b[0m\u001b[0;34m)\u001b[0m\u001b[0;34m\u001b[0m\u001b[0m\n\u001b[0m\u001b[1;32m     10\u001b[0m \u001b[0;34m\u001b[0m\u001b[0m\n\u001b[1;32m     11\u001b[0m     \u001b[0;31m#3- combine sub-solutions\u001b[0m\u001b[0;34m\u001b[0m\u001b[0;34m\u001b[0m\u001b[0m\n",
      "\u001b[0;31mRecursionError\u001b[0m: maximum recursion depth exceeded in comparison"
     ]
    }
   ],
   "source": [
    "power(2, 3000)"
   ]
  },
  {
   "cell_type": "code",
   "execution_count": null,
   "metadata": {},
   "outputs": [],
   "source": []
  },
  {
   "cell_type": "markdown",
   "metadata": {},
   "source": [
    "### Tail recursion"
   ]
  },
  {
   "cell_type": "code",
   "execution_count": 50,
   "metadata": {},
   "outputs": [],
   "source": [
    "def disk_usage_tail_recursion(path, size_so_far=0):\n",
    "    \"\"\"\n",
    "    Tail recursion implementation of the disk usage function.\n",
    "    \"\"\"\n",
    "\n",
    "    size_so_far += os.path.getsize(path)\n",
    "\n",
    "    # 1- base case\n",
    "    if os.path.isfile(path):\n",
    "        print('{0:<7}'.format(size_so_far), path)\n",
    "        return size_so_far\n",
    "\n",
    "        # 2- solve sub-problems step\n",
    "    for child in os.listdir(path):\n",
    "        child_path = os.path.join(path, child)\n",
    "        size_so_far = disk_usage_tail_recursion(child_path,\n",
    "                                                size_so_far)\n",
    "\n",
    "    # 3- combine sub-solutions\n",
    "    # no need\n",
    "\n",
    "    print('{0:<7}'.format(size_so_far), path)\n",
    "    return size_so_far\n"
   ]
  },
  {
   "cell_type": "code",
   "execution_count": 51,
   "metadata": {},
   "outputs": [
    {
     "name": "stdout",
     "output_type": "stream",
     "text": [
      "6564    /Users/junior/geekgap/Repos/geekgap_webinars/.DS_Store\n",
      "7634    /Users/junior/geekgap/Repos/geekgap_webinars/LICENSE\n",
      "7697    /Users/junior/geekgap/Repos/geekgap_webinars/Makefile\n",
      "7825    /Users/junior/geekgap/Repos/geekgap_webinars/geekgap_webinars/__init__.py\n",
      "59252   /Users/junior/geekgap/Repos/geekgap_webinars/geekgap_webinars/notebooks/webinar_1/system_design.ipynb\n",
      "71782   /Users/junior/geekgap/Repos/geekgap_webinars/geekgap_webinars/notebooks/webinar_1/algorithms_data_structures.ipynb\n",
      "82747   /Users/junior/geekgap/Repos/geekgap_webinars/geekgap_webinars/notebooks/webinar_1/.ipynb_checkpoints/_13_when_not_to_use_a_list-checkpoint.ipynb\n",
      "89629   /Users/junior/geekgap/Repos/geekgap_webinars/geekgap_webinars/notebooks/webinar_1/.ipynb_checkpoints/_8_arithmetic_operations_on_sequences-checkpoint.ipynb\n",
      "93362   /Users/junior/geekgap/Repos/geekgap_webinars/geekgap_webinars/notebooks/webinar_1/.ipynb_checkpoints/_2_sequence_transformation_map_and_filter-checkpoint.ipynb\n",
      "103324  /Users/junior/geekgap/Repos/geekgap_webinars/geekgap_webinars/notebooks/webinar_1/.ipynb_checkpoints/_10_sorting_with_custom_key-checkpoint.ipynb\n",
      "107280  /Users/junior/geekgap/Repos/geekgap_webinars/geekgap_webinars/notebooks/webinar_1/.ipynb_checkpoints/_3_sequence_comprehension-checkpoint.ipynb\n",
      "119810  /Users/junior/geekgap/Repos/geekgap_webinars/geekgap_webinars/notebooks/webinar_1/.ipynb_checkpoints/algorithms_data_structures-checkpoint.ipynb\n",
      "120580  /Users/junior/geekgap/Repos/geekgap_webinars/geekgap_webinars/notebooks/webinar_1/.ipynb_checkpoints/template-checkpoint.ipynb\n",
      "124775  /Users/junior/geekgap/Repos/geekgap_webinars/geekgap_webinars/notebooks/webinar_1/.ipynb_checkpoints/_9_sorting_a_list_sort_vs_sorted-checkpoint.ipynb\n",
      "132689  /Users/junior/geekgap/Repos/geekgap_webinars/geekgap_webinars/notebooks/webinar_1/.ipynb_checkpoints/_11_being_clever_on_sorted_sequences_search_and_insert-checkpoint.ipynb\n",
      "132761  /Users/junior/geekgap/Repos/geekgap_webinars/geekgap_webinars/notebooks/webinar_1/.ipynb_checkpoints/system_design-checkpoint.ipynb\n",
      "132833  /Users/junior/geekgap/Repos/geekgap_webinars/geekgap_webinars/notebooks/webinar_1/.ipynb_checkpoints/_4_nested_lists-checkpoint.ipynb\n",
      "137910  /Users/junior/geekgap/Repos/geekgap_webinars/geekgap_webinars/notebooks/webinar_1/.ipynb_checkpoints/_5_sequence_unpacking-checkpoint.ipynb\n",
      "147976  /Users/junior/geekgap/Repos/geekgap_webinars/geekgap_webinars/notebooks/webinar_1/.ipynb_checkpoints/_12_never_update_a_list_during_ieration-checkpoint.ipynb\n",
      "153701  /Users/junior/geekgap/Repos/geekgap_webinars/geekgap_webinars/notebooks/webinar_1/.ipynb_checkpoints/_6_sequence_indexing_and_slicing-checkpoint.ipynb\n",
      "159826  /Users/junior/geekgap/Repos/geekgap_webinars/geekgap_webinars/notebooks/webinar_1/.ipynb_checkpoints/_7_named_tuples-checkpoint.ipynb\n",
      "168996  /Users/junior/geekgap/Repos/geekgap_webinars/geekgap_webinars/notebooks/webinar_1/.ipynb_checkpoints/_1_builtin_sequences_overview-checkpoint.ipynb\n",
      "168996  /Users/junior/geekgap/Repos/geekgap_webinars/geekgap_webinars/notebooks/webinar_1/.ipynb_checkpoints\n",
      "168996  /Users/junior/geekgap/Repos/geekgap_webinars/geekgap_webinars/notebooks/webinar_1\n",
      "168996  /Users/junior/geekgap/Repos/geekgap_webinars/geekgap_webinars/notebooks/__init__.py\n",
      "170455  /Users/junior/geekgap/Repos/geekgap_webinars/geekgap_webinars/notebooks/webinar_2/binary_search.py\n",
      "170455  /Users/junior/geekgap/Repos/geekgap_webinars/geekgap_webinars/notebooks/webinar_2/__init__.py\n",
      "250765  /Users/junior/geekgap/Repos/geekgap_webinars/geekgap_webinars/notebooks/webinar_2/algorithms_data_structures.ipynb\n",
      "251249  /Users/junior/geekgap/Repos/geekgap_webinars/geekgap_webinars/notebooks/webinar_2/recursive_power_optimized.py\n",
      "252057  /Users/junior/geekgap/Repos/geekgap_webinars/geekgap_webinars/notebooks/webinar_2/recursive_reverse.py\n",
      "252352  /Users/junior/geekgap/Repos/geekgap_webinars/geekgap_webinars/notebooks/webinar_2/factorial.py\n",
      "253204  /Users/junior/geekgap/Repos/geekgap_webinars/geekgap_webinars/notebooks/webinar_2/disk_usage.py\n",
      "253396  /Users/junior/geekgap/Repos/geekgap_webinars/geekgap_webinars/notebooks/webinar_2/.ipynb_checkpoints/__init__-checkpoint.py\n",
      "254248  /Users/junior/geekgap/Repos/geekgap_webinars/geekgap_webinars/notebooks/webinar_2/.ipynb_checkpoints/disk_usage-checkpoint.py\n",
      "254543  /Users/junior/geekgap/Repos/geekgap_webinars/geekgap_webinars/notebooks/webinar_2/.ipynb_checkpoints/factorial-checkpoint.py\n",
      "318558  /Users/junior/geekgap/Repos/geekgap_webinars/geekgap_webinars/notebooks/webinar_2/.ipynb_checkpoints/algorithms_data_structures-checkpoint.ipynb\n",
      "318558  /Users/junior/geekgap/Repos/geekgap_webinars/geekgap_webinars/notebooks/webinar_2/.ipynb_checkpoints\n",
      "319060  /Users/junior/geekgap/Repos/geekgap_webinars/geekgap_webinars/notebooks/webinar_2/naive_fibonacci.py\n",
      "320163  /Users/junior/geekgap/Repos/geekgap_webinars/geekgap_webinars/notebooks/webinar_2/very_bad_binary_search.py\n",
      "320496  /Users/junior/geekgap/Repos/geekgap_webinars/geekgap_webinars/notebooks/webinar_2/recursive_power.py\n",
      "321359  /Users/junior/geekgap/Repos/geekgap_webinars/geekgap_webinars/notebooks/webinar_2/disk_usage_tail_recursion.py\n",
      "321359  /Users/junior/geekgap/Repos/geekgap_webinars/geekgap_webinars/notebooks/webinar_2\n",
      "321423  /Users/junior/geekgap/Repos/geekgap_webinars/geekgap_webinars/notebooks/.ipynb_checkpoints\n",
      "321423  /Users/junior/geekgap/Repos/geekgap_webinars/geekgap_webinars/notebooks\n",
      "321423  /Users/junior/geekgap/Repos/geekgap_webinars/geekgap_webinars\n",
      "321439  /Users/junior/geekgap/Repos/geekgap_webinars/MANIFEST.in\n",
      "321985  /Users/junior/geekgap/Repos/geekgap_webinars/setup.py\n",
      "323237  /Users/junior/geekgap/Repos/geekgap_webinars/.gitignore\n",
      "323243  /Users/junior/geekgap/Repos/geekgap_webinars/.python-version\n",
      "326790  /Users/junior/geekgap/Repos/geekgap_webinars/README.rst\n",
      "327666  /Users/junior/geekgap/Repos/geekgap_webinars/.git/config\n",
      "330588  /Users/junior/geekgap/Repos/geekgap_webinars/.git/objects/6a/653ed01842cd490cd633505aadf90349854f02\n",
      "330588  /Users/junior/geekgap/Repos/geekgap_webinars/.git/objects/6a\n",
      "330950  /Users/junior/geekgap/Repos/geekgap_webinars/.git/objects/3c/f94af622b6a450bf265e0fb929f7733c053388\n",
      "330950  /Users/junior/geekgap/Repos/geekgap_webinars/.git/objects/3c\n",
      "331344  /Users/junior/geekgap/Repos/geekgap_webinars/.git/objects/3d/7daf7775de9c0f4a3279e6ed30b4f53957448b\n",
      "331760  /Users/junior/geekgap/Repos/geekgap_webinars/.git/objects/3d/24cffd21813d501012d613c569ddf7fdd06e9b\n",
      "331760  /Users/junior/geekgap/Repos/geekgap_webinars/.git/objects/3d\n",
      "331974  /Users/junior/geekgap/Repos/geekgap_webinars/.git/objects/67/c622b4e6e60bbdbe259455eeb17230369a7a32\n",
      "331974  /Users/junior/geekgap/Repos/geekgap_webinars/.git/objects/67\n",
      "332776  /Users/junior/geekgap/Repos/geekgap_webinars/.git/objects/93/3590c700b9ece0f601bdbfac186da8ace652ae\n",
      "332776  /Users/junior/geekgap/Repos/geekgap_webinars/.git/objects/93\n",
      "333028  /Users/junior/geekgap/Repos/geekgap_webinars/.git/objects/94/cad2a729989931e9f5088b7a136c63bb277ba9\n",
      "343385  /Users/junior/geekgap/Repos/geekgap_webinars/.git/objects/94/937cc4155b472b9be589a451657906355702cd\n",
      "343503  /Users/junior/geekgap/Repos/geekgap_webinars/.git/objects/94/2471545af9689738242db6100adb112fb5186e\n",
      "343503  /Users/junior/geekgap/Repos/geekgap_webinars/.git/objects/94\n",
      "343690  /Users/junior/geekgap/Repos/geekgap_webinars/.git/objects/0e/d826580b30bf8e0c6ad46ae28543ed3ec6abd9\n",
      "343690  /Users/junior/geekgap/Repos/geekgap_webinars/.git/objects/0e\n",
      "343878  /Users/junior/geekgap/Repos/geekgap_webinars/.git/objects/60/f3440373d219e31315d6baf5a6cab4cf97740f\n",
      "343878  /Users/junior/geekgap/Repos/geekgap_webinars/.git/objects/60\n",
      "344156  /Users/junior/geekgap/Repos/geekgap_webinars/.git/objects/33/4d281f24bb68056f22d3b9feb83780cf8da117\n",
      "344156  /Users/junior/geekgap/Repos/geekgap_webinars/.git/objects/33\n",
      "344426  /Users/junior/geekgap/Repos/geekgap_webinars/.git/objects/a4/ad9b91a1a8f0d83d70cb552cfd7ff77b3c58b9\n",
      "344426  /Users/junior/geekgap/Repos/geekgap_webinars/.git/objects/a4\n",
      "346113  /Users/junior/geekgap/Repos/geekgap_webinars/.git/objects/b2/70de4b18bd5d814d4aad3be7f6d61c795f2734\n",
      "346113  /Users/junior/geekgap/Repos/geekgap_webinars/.git/objects/b2\n",
      "348374  /Users/junior/geekgap/Repos/geekgap_webinars/.git/objects/d0/fd809da59b44073983a2f1c2fa3aab4dcfff07\n",
      "348374  /Users/junior/geekgap/Repos/geekgap_webinars/.git/objects/d0\n",
      "348667  /Users/junior/geekgap/Repos/geekgap_webinars/.git/objects/b3/1513abb100a98b85690bb73dc88c4ad050eeb5\n",
      "348758  /Users/junior/geekgap/Repos/geekgap_webinars/.git/objects/b3/a25faa4208538115694f901adfb676df22a854\n",
      "348758  /Users/junior/geekgap/Repos/geekgap_webinars/.git/objects/b3\n",
      "349247  /Users/junior/geekgap/Repos/geekgap_webinars/.git/objects/df/0db4fc5f70bd4d17dc2469683b87ca2d3e7fd2\n",
      "349365  /Users/junior/geekgap/Repos/geekgap_webinars/.git/objects/df/367baa543865497e1a7f35b0b61da6157bd2e7\n",
      "349365  /Users/junior/geekgap/Repos/geekgap_webinars/.git/objects/df\n",
      "349553  /Users/junior/geekgap/Repos/geekgap_webinars/.git/objects/a2/71f0462b700692e206ce6d7376db7540969cbc\n",
      "349553  /Users/junior/geekgap/Repos/geekgap_webinars/.git/objects/a2\n",
      "349915  /Users/junior/geekgap/Repos/geekgap_webinars/.git/objects/a5/68135f643c825bf1bd0cbfc61accbe67fc1bf3\n",
      "349915  /Users/junior/geekgap/Repos/geekgap_webinars/.git/objects/a5\n",
      "350098  /Users/junior/geekgap/Repos/geekgap_webinars/.git/objects/d6/51501be2045d9b3971bf1cdace1b7d47c5d691\n",
      "350098  /Users/junior/geekgap/Repos/geekgap_webinars/.git/objects/d6\n",
      "350343  /Users/junior/geekgap/Repos/geekgap_webinars/.git/objects/bc/3321ceaa5a15600838f79e63b773e8a86832ee\n",
      "350343  /Users/junior/geekgap/Repos/geekgap_webinars/.git/objects/bc\n",
      "350705  /Users/junior/geekgap/Repos/geekgap_webinars/.git/objects/d8/2d80555ea8d2101a7306654933ee0d38ae63f3\n",
      "350705  /Users/junior/geekgap/Repos/geekgap_webinars/.git/objects/d8\n",
      "351067  /Users/junior/geekgap/Repos/geekgap_webinars/.git/objects/ab/12d8a804388c0024b698cb6b03a706b8a8b027\n",
      "351067  /Users/junior/geekgap/Repos/geekgap_webinars/.git/objects/ab\n",
      "355375  /Users/junior/geekgap/Repos/geekgap_webinars/.git/objects/e2/6116ed8a4651163caeef1cbcfb5909358e4fb8\n",
      "355375  /Users/junior/geekgap/Repos/geekgap_webinars/.git/objects/e2\n",
      "355737  /Users/junior/geekgap/Repos/geekgap_webinars/.git/objects/eb/38182fc4a752c53e44fc49b00b04c99359f0bd\n",
      "355737  /Users/junior/geekgap/Repos/geekgap_webinars/.git/objects/eb\n",
      "355951  /Users/junior/geekgap/Repos/geekgap_webinars/.git/objects/c0/9ea75cd0dc31ab61ceccd20956333de4a01580\n",
      "355951  /Users/junior/geekgap/Repos/geekgap_webinars/.git/objects/c0\n",
      "356138  /Users/junior/geekgap/Repos/geekgap_webinars/.git/objects/fd/5f3307b34e8d08de2b567402c960ce553291b1\n",
      "356138  /Users/junior/geekgap/Repos/geekgap_webinars/.git/objects/fd\n",
      "356532  /Users/junior/geekgap/Repos/geekgap_webinars/.git/objects/ca/1fd9b654def2314f547bb970d5a81e18781da3\n",
      "362994  /Users/junior/geekgap/Repos/geekgap_webinars/.git/objects/ca/ee66c5ad413b6325204e34835e64f871ae00bf\n",
      "362994  /Users/junior/geekgap/Repos/geekgap_webinars/.git/objects/ca\n",
      "363182  /Users/junior/geekgap/Repos/geekgap_webinars/.git/objects/fe/118a679a890c27721362b3a29b8702277ad89d\n",
      "363182  /Users/junior/geekgap/Repos/geekgap_webinars/.git/objects/fe\n",
      "363531  /Users/junior/geekgap/Repos/geekgap_webinars/.git/objects/c8/06b9e84aaaa1b87538deb9a0609d799234aa14\n",
      "366179  /Users/junior/geekgap/Repos/geekgap_webinars/.git/objects/c8/b8000a8cbcf662f192e8c4fc66c4aada3bb76e\n",
      "366179  /Users/junior/geekgap/Repos/geekgap_webinars/.git/objects/c8\n",
      "366456  /Users/junior/geekgap/Repos/geekgap_webinars/.git/objects/c1/532bc01b0c7dcce48a4d196e260759f805308f\n",
      "366722  /Users/junior/geekgap/Repos/geekgap_webinars/.git/objects/c1/67c34839993e20dc3d73d5ed59f059314503ff\n",
      "366722  /Users/junior/geekgap/Repos/geekgap_webinars/.git/objects/c1\n",
      "366952  /Users/junior/geekgap/Repos/geekgap_webinars/.git/objects/ec/636645be8406aab4d5d15ab52aaea5d1526f8a\n",
      "366952  /Users/junior/geekgap/Repos/geekgap_webinars/.git/objects/ec\n",
      "367063  /Users/junior/geekgap/Repos/geekgap_webinars/.git/objects/4b/825dc642cb6eb9a060e54bf8d69288fbee4904\n",
      "367063  /Users/junior/geekgap/Repos/geekgap_webinars/.git/objects/4b\n",
      "367127  /Users/junior/geekgap/Repos/geekgap_webinars/.git/objects/pack\n",
      "367725  /Users/junior/geekgap/Repos/geekgap_webinars/.git/objects/11/46cdd40aff02bb30b118bd2c4be5fcbb277d99\n",
      "367725  /Users/junior/geekgap/Repos/geekgap_webinars/.git/objects/11\n",
      "367944  /Users/junior/geekgap/Repos/geekgap_webinars/.git/objects/42/7d55ecfa88d43237eee8199e6d8f108bd51d98\n",
      "368210  /Users/junior/geekgap/Repos/geekgap_webinars/.git/objects/42/6a2d8afd9353ebdbe8089a15c3ee20b777d2e6\n",
      "368210  /Users/junior/geekgap/Repos/geekgap_webinars/.git/objects/42\n",
      "368422  /Users/junior/geekgap/Repos/geekgap_webinars/.git/objects/89/f1a57eb5023c8c4d18a9fc9c45faa38618e372\n",
      "368422  /Users/junior/geekgap/Repos/geekgap_webinars/.git/objects/89\n",
      "368674  /Users/junior/geekgap/Repos/geekgap_webinars/.git/objects/1f/7c6fa1c4a8166ef27631cd4b8e98b26c49718c\n",
      "368962  /Users/junior/geekgap/Repos/geekgap_webinars/.git/objects/1f/1cebbe0bba6d05e90171f674ba582ff043e983\n",
      "369054  /Users/junior/geekgap/Repos/geekgap_webinars/.git/objects/1f/d589106ec6c668c08f1f6da9308e01f8d2f541\n",
      "369054  /Users/junior/geekgap/Repos/geekgap_webinars/.git/objects/1f\n",
      "369395  /Users/junior/geekgap/Repos/geekgap_webinars/.git/objects/73/7b9fb1d3ff950f6670466d336280c59d573f43\n",
      "373036  /Users/junior/geekgap/Repos/geekgap_webinars/.git/objects/73/2410169e0aac1931228de79229a01fbbd756a0\n",
      "373036  /Users/junior/geekgap/Repos/geekgap_webinars/.git/objects/73\n",
      "373526  /Users/junior/geekgap/Repos/geekgap_webinars/.git/objects/80/d61be88906976fee89822b421ecbdfce86b208\n",
      "373709  /Users/junior/geekgap/Repos/geekgap_webinars/.git/objects/80/6e16c3eec72d48e934a2b0f667b0fc11e3dbf7\n",
      "373709  /Users/junior/geekgap/Repos/geekgap_webinars/.git/objects/80\n",
      "373837  /Users/junior/geekgap/Repos/geekgap_webinars/.git/objects/1a/ba38f67a2211cf5b09466d7b411206cb7223bf\n",
      "373837  /Users/junior/geekgap/Repos/geekgap_webinars/.git/objects/1a\n",
      "374359  /Users/junior/geekgap/Repos/geekgap_webinars/.git/objects/7b/e19de105f19f55ac098ec218361e4d99f51503\n",
      "374359  /Users/junior/geekgap/Repos/geekgap_webinars/.git/objects/7b\n",
      "374573  /Users/junior/geekgap/Repos/geekgap_webinars/.git/objects/8a/998c0f390ca00966e61234528df6256ca72d89\n",
      "374573  /Users/junior/geekgap/Repos/geekgap_webinars/.git/objects/8a\n",
      "374851  /Users/junior/geekgap/Repos/geekgap_webinars/.git/objects/19/959fc1707045a78925ef70d379fed8bc965c10\n",
      "374851  /Users/junior/geekgap/Repos/geekgap_webinars/.git/objects/19\n",
      "375066  /Users/junior/geekgap/Repos/geekgap_webinars/.git/objects/26/4ced2e0332a0cab5b2a7fb586e5ed7de3066b2\n",
      "375066  /Users/junior/geekgap/Repos/geekgap_webinars/.git/objects/26\n",
      "375493  /Users/junior/geekgap/Repos/geekgap_webinars/.git/objects/75/15520c400995349015d292e6c44b194bc5c21f\n",
      "375493  /Users/junior/geekgap/Repos/geekgap_webinars/.git/objects/75\n",
      "375681  /Users/junior/geekgap/Repos/geekgap_webinars/.git/objects/86/41073dddf0686c4961b20944e700bd65ea0862\n",
      "375681  /Users/junior/geekgap/Repos/geekgap_webinars/.git/objects/86\n",
      "375895  /Users/junior/geekgap/Repos/geekgap_webinars/.git/objects/72/195f84cea434289a978412a3552c50235064ee\n",
      "375895  /Users/junior/geekgap/Repos/geekgap_webinars/.git/objects/72\n",
      "379247  /Users/junior/geekgap/Repos/geekgap_webinars/.git/objects/2a/0bba5946836804258394777b22f762daf7a44b\n",
      "379247  /Users/junior/geekgap/Repos/geekgap_webinars/.git/objects/2a\n",
      "379516  /Users/junior/geekgap/Repos/geekgap_webinars/.git/objects/38/e42a9e7fb5c4e2072f781d0e43c6ef15b1a64a\n",
      "379516  /Users/junior/geekgap/Repos/geekgap_webinars/.git/objects/38\n",
      "379784  /Users/junior/geekgap/Repos/geekgap_webinars/.git/objects/00/377aa50841154bf0611c61633e2cea2509482b\n",
      "379784  /Users/junior/geekgap/Repos/geekgap_webinars/.git/objects/00\n",
      "379998  /Users/junior/geekgap/Repos/geekgap_webinars/.git/objects/6e/91e9fa61f485c84df611fab480abcc1b4d4a4c\n",
      "379998  /Users/junior/geekgap/Repos/geekgap_webinars/.git/objects/6e\n",
      "380062  /Users/junior/geekgap/Repos/geekgap_webinars/.git/objects/info\n",
      "391464  /Users/junior/geekgap/Repos/geekgap_webinars/.git/objects/3f/5e25c314f20c4512bead99514f5a19ef01d570\n",
      "391635  /Users/junior/geekgap/Repos/geekgap_webinars/.git/objects/3f/f4ce8961d4144d8d8899735f48a95c4839f2b2\n",
      "391635  /Users/junior/geekgap/Repos/geekgap_webinars/.git/objects/3f\n",
      "391879  /Users/junior/geekgap/Repos/geekgap_webinars/.git/objects/5e/cfeaa5c2ce5dfb66e1944efe77bb0e5ed3055b\n",
      "391879  /Users/junior/geekgap/Repos/geekgap_webinars/.git/objects/5e\n",
      "392078  /Users/junior/geekgap/Repos/geekgap_webinars/.git/objects/99/7cfaa14c219a83873d8f38b2d99cd12dbada70\n",
      "392249  /Users/junior/geekgap/Repos/geekgap_webinars/.git/objects/99/4af0ca83fee3660118bad36346e3afbe438bb4\n",
      "392249  /Users/junior/geekgap/Repos/geekgap_webinars/.git/objects/99\n",
      "392611  /Users/junior/geekgap/Repos/geekgap_webinars/.git/objects/52/5651318d7c71a59d2138dae19d0a75328fde55\n",
      "392611  /Users/junior/geekgap/Repos/geekgap_webinars/.git/objects/52\n",
      "393137  /Users/junior/geekgap/Repos/geekgap_webinars/.git/objects/90/017c61e0bba86e6fd4ae819aa5ce5fc2fa6737\n",
      "393137  /Users/junior/geekgap/Repos/geekgap_webinars/.git/objects/90\n",
      "393381  /Users/junior/geekgap/Repos/geekgap_webinars/.git/objects/a7/d6cbe41fe5e19409349d96e61a19ca66eeda94\n",
      "393381  /Users/junior/geekgap/Repos/geekgap_webinars/.git/objects/a7\n",
      "394020  /Users/junior/geekgap/Repos/geekgap_webinars/.git/objects/b8/ebbbddf0d92e7da7131009ed23dd24b8abfb63\n",
      "394020  /Users/junior/geekgap/Repos/geekgap_webinars/.git/objects/b8\n",
      "394596  /Users/junior/geekgap/Repos/geekgap_webinars/.git/objects/dc/959b85617717d85504f6a39b4b7fa7685bb3e0\n",
      "394596  /Users/junior/geekgap/Repos/geekgap_webinars/.git/objects/dc\n",
      "394970  /Users/junior/geekgap/Repos/geekgap_webinars/.git/objects/a9/f071010c2e7c16ebef7a19b6b0e6020d643e9f\n",
      "395237  /Users/junior/geekgap/Repos/geekgap_webinars/.git/objects/a9/660aa1c55b60feb458f22a98bdde579f38b718\n",
      "395237  /Users/junior/geekgap/Repos/geekgap_webinars/.git/objects/a9\n",
      "404051  /Users/junior/geekgap/Repos/geekgap_webinars/.git/objects/ef/52135e1121ba68b09c3c3f89d7c1dd111021bc\n",
      "404051  /Users/junior/geekgap/Repos/geekgap_webinars/.git/objects/ef\n",
      "404315  /Users/junior/geekgap/Repos/geekgap_webinars/.git/objects/c4/9b8322d94ece95de5e5341c60f09385e049968\n",
      "404315  /Users/junior/geekgap/Repos/geekgap_webinars/.git/objects/c4\n",
      "404426  /Users/junior/geekgap/Repos/geekgap_webinars/.git/objects/e6/9de29bb2d1d6434b8b29ae775ad8c2e48c5391\n",
      "404426  /Users/junior/geekgap/Repos/geekgap_webinars/.git/objects/e6\n",
      "404638  /Users/junior/geekgap/Repos/geekgap_webinars/.git/objects/f9/3ae27e6bbe4e6b45af95fb970728dd48b38f31\n",
      "404638  /Users/junior/geekgap/Repos/geekgap_webinars/.git/objects/f9\n",
      "417774  /Users/junior/geekgap/Repos/geekgap_webinars/.git/objects/ff/d3477dacd29d4060a4d5ad33a911539320af15\n",
      "417866  /Users/junior/geekgap/Repos/geekgap_webinars/.git/objects/ff/fc076e31e9de03e627dc17d008fba8114d5676\n",
      "417866  /Users/junior/geekgap/Repos/geekgap_webinars/.git/objects/ff\n",
      "418153  /Users/junior/geekgap/Repos/geekgap_webinars/.git/objects/e9/f493ed25047964c7f4b4595e034235b534a340\n",
      "418153  /Users/junior/geekgap/Repos/geekgap_webinars/.git/objects/e9\n",
      "418457  /Users/junior/geekgap/Repos/geekgap_webinars/.git/objects/e7/39417742964892ae0605eaa75cf93d8c209dae\n",
      "419117  /Users/junior/geekgap/Repos/geekgap_webinars/.git/objects/e7/90f54c56936c21a7cb75717483ff5e97abf3f6\n",
      "419117  /Users/junior/geekgap/Repos/geekgap_webinars/.git/objects/e7\n",
      "419612  /Users/junior/geekgap/Repos/geekgap_webinars/.git/objects/79/d34a513e58c2ebe093b7533e2b254145c05c5f\n",
      "419612  /Users/junior/geekgap/Repos/geekgap_webinars/.git/objects/79\n",
      "419826  /Users/junior/geekgap/Repos/geekgap_webinars/.git/objects/77/847e26d951350b04215c9440b642133e17e0d4\n",
      "419826  /Users/junior/geekgap/Repos/geekgap_webinars/.git/objects/77\n",
      "420180  /Users/junior/geekgap/Repos/geekgap_webinars/.git/objects/70/22c3bed69338cf7e28e462c1e0c7713e2f0c5e\n",
      "420180  /Users/junior/geekgap/Repos/geekgap_webinars/.git/objects/70\n",
      "433929  /Users/junior/geekgap/Repos/geekgap_webinars/.git/objects/84/1c595624336c083aa610c0dc6856319de9f652\n",
      "433929  /Users/junior/geekgap/Repos/geekgap_webinars/.git/objects/84\n",
      "434143  /Users/junior/geekgap/Repos/geekgap_webinars/.git/objects/24/a20dc89416dbd628ea62015d71e78a3c87f044\n",
      "434143  /Users/junior/geekgap/Repos/geekgap_webinars/.git/objects/24\n",
      "434331  /Users/junior/geekgap/Repos/geekgap_webinars/.git/objects/4f/cc6ee6f7422153392164141d7ba68502e692ab\n",
      "434331  /Users/junior/geekgap/Repos/geekgap_webinars/.git/objects/4f\n",
      "434684  /Users/junior/geekgap/Repos/geekgap_webinars/.git/objects/76/5d09a2bd9e18348703781729c817661e36d8ca\n",
      "434684  /Users/junior/geekgap/Repos/geekgap_webinars/.git/objects/76\n",
      "434945  /Users/junior/geekgap/Repos/geekgap_webinars/.git/objects/1c/ccabddbc6f461d1225f72a07a52335d5a59a37\n",
      "434945  /Users/junior/geekgap/Repos/geekgap_webinars/.git/objects/1c\n",
      "435222  /Users/junior/geekgap/Repos/geekgap_webinars/.git/objects/2b/3b10b89767dc6d8fdceeef80c0a7e188f577c6\n",
      "435222  /Users/junior/geekgap/Repos/geekgap_webinars/.git/objects/2b\n",
      "435409  /Users/junior/geekgap/Repos/geekgap_webinars/.git/objects/47/586ab15b6ff9798bc4458b9b55ebd5ef54e00f\n",
      "435409  /Users/junior/geekgap/Repos/geekgap_webinars/.git/objects/47\n",
      "435675  /Users/junior/geekgap/Repos/geekgap_webinars/.git/objects/78/1923a8237fb1be33a156285d0bdf24c7d3cc56\n",
      "435675  /Users/junior/geekgap/Repos/geekgap_webinars/.git/objects/78\n",
      "436203  /Users/junior/geekgap/Repos/geekgap_webinars/.git/objects/25/7cab5b80c4f63a12f073041fadff23b102a97b\n",
      "436203  /Users/junior/geekgap/Repos/geekgap_webinars/.git/objects/25\n",
      "436203  /Users/junior/geekgap/Repos/geekgap_webinars/.git/objects\n",
      "436267  /Users/junior/geekgap/Repos/geekgap_webinars/.git/rr-cache\n",
      "436291  /Users/junior/geekgap/Repos/geekgap_webinars/.git/HEAD\n",
      "436627  /Users/junior/geekgap/Repos/geekgap_webinars/.git/info/exclude\n",
      "436627  /Users/junior/geekgap/Repos/geekgap_webinars/.git/info\n",
      "439144  /Users/junior/geekgap/Repos/geekgap_webinars/.git/logs/HEAD\n",
      "441606  /Users/junior/geekgap/Repos/geekgap_webinars/.git/logs/refs/heads/develop\n",
      "441777  /Users/junior/geekgap/Repos/geekgap_webinars/.git/logs/refs/heads/master\n",
      "441777  /Users/junior/geekgap/Repos/geekgap_webinars/.git/logs/refs/heads\n",
      "442275  /Users/junior/geekgap/Repos/geekgap_webinars/.git/logs/refs/remotes/origin/develop\n",
      "442275  /Users/junior/geekgap/Repos/geekgap_webinars/.git/logs/refs/remotes/origin\n",
      "442275  /Users/junior/geekgap/Repos/geekgap_webinars/.git/logs/refs/remotes\n",
      "442275  /Users/junior/geekgap/Repos/geekgap_webinars/.git/logs/refs\n",
      "442275  /Users/junior/geekgap/Repos/geekgap_webinars/.git/logs\n",
      "442348  /Users/junior/geekgap/Repos/geekgap_webinars/.git/description\n",
      "443660  /Users/junior/geekgap/Repos/geekgap_webinars/.git/hooks/commit-msg.sample\n",
      "448558  /Users/junior/geekgap/Repos/geekgap_webinars/.git/hooks/pre-rebase.sample\n",
      "450196  /Users/junior/geekgap/Repos/geekgap_webinars/.git/hooks/pre-commit.sample\n",
      "450674  /Users/junior/geekgap/Repos/geekgap_webinars/.git/hooks/applypatch-msg.sample\n",
      "454001  /Users/junior/geekgap/Repos/geekgap_webinars/.git/hooks/fsmonitor-watchman.sample\n",
      "454545  /Users/junior/geekgap/Repos/geekgap_webinars/.git/hooks/pre-receive.sample\n",
      "456037  /Users/junior/geekgap/Repos/geekgap_webinars/.git/hooks/prepare-commit-msg.sample\n",
      "456226  /Users/junior/geekgap/Repos/geekgap_webinars/.git/hooks/post-update.sample\n",
      "456650  /Users/junior/geekgap/Repos/geekgap_webinars/.git/hooks/pre-applypatch.sample\n",
      "457998  /Users/junior/geekgap/Repos/geekgap_webinars/.git/hooks/pre-push.sample\n",
      "461608  /Users/junior/geekgap/Repos/geekgap_webinars/.git/hooks/update.sample\n",
      "461608  /Users/junior/geekgap/Repos/geekgap_webinars/.git/hooks\n",
      "461937  /Users/junior/geekgap/Repos/geekgap_webinars/.git/refs/heads/develop\n",
      "461978  /Users/junior/geekgap/Repos/geekgap_webinars/.git/refs/heads/master\n",
      "461978  /Users/junior/geekgap/Repos/geekgap_webinars/.git/refs/heads\n",
      "462042  /Users/junior/geekgap/Repos/geekgap_webinars/.git/refs/tags\n",
      "462275  /Users/junior/geekgap/Repos/geekgap_webinars/.git/refs/remotes/origin/develop\n",
      "462275  /Users/junior/geekgap/Repos/geekgap_webinars/.git/refs/remotes/origin\n",
      "462275  /Users/junior/geekgap/Repos/geekgap_webinars/.git/refs/remotes\n",
      "462275  /Users/junior/geekgap/Repos/geekgap_webinars/.git/refs\n",
      "464663  /Users/junior/geekgap/Repos/geekgap_webinars/.git/index\n",
      "464663  /Users/junior/geekgap/Repos/geekgap_webinars/.git/MERGE_RR\n",
      "464683  /Users/junior/geekgap/Repos/geekgap_webinars/.git/COMMIT_EDITMSG\n",
      "464683  /Users/junior/geekgap/Repos/geekgap_webinars/.git\n",
      "465651  /Users/junior/geekgap/Repos/geekgap_webinars/.idea/geekgap_webinars.iml\n",
      "465831  /Users/junior/geekgap/Repos/geekgap_webinars/.idea/vcs.xml\n",
      "500630  /Users/junior/geekgap/Repos/geekgap_webinars/.idea/workspace.xml\n",
      "500914  /Users/junior/geekgap/Repos/geekgap_webinars/.idea/modules.xml\n",
      "500930  /Users/junior/geekgap/Repos/geekgap_webinars/.idea/.name\n",
      "501123  /Users/junior/geekgap/Repos/geekgap_webinars/.idea/python-terminal.xml\n",
      "501331  /Users/junior/geekgap/Repos/geekgap_webinars/.idea/misc.xml\n",
      "501331  /Users/junior/geekgap/Repos/geekgap_webinars/.idea\n",
      "501331  /Users/junior/geekgap/Repos/geekgap_webinars\n"
     ]
    },
    {
     "data": {
      "text/plain": [
       "501331"
      ]
     },
     "execution_count": 51,
     "metadata": {},
     "output_type": "execute_result"
    }
   ],
   "source": [
    "    disk_usage_tail_recursion('/Users/junior/geekgap/Repos/geekgap_webinars')"
   ]
  },
  {
   "cell_type": "code",
   "execution_count": null,
   "metadata": {},
   "outputs": [],
   "source": []
  },
  {
   "cell_type": "markdown",
   "metadata": {},
   "source": [
    "### memoization"
   ]
  },
  {
   "cell_type": "code",
   "execution_count": null,
   "metadata": {},
   "outputs": [],
   "source": []
  }
 ],
 "metadata": {
  "kernelspec": {
   "display_name": "Python 3",
   "language": "python",
   "name": "python3"
  },
  "language_info": {
   "codemirror_mode": {
    "name": "ipython",
    "version": 3
   },
   "file_extension": ".py",
   "mimetype": "text/x-python",
   "name": "python",
   "nbconvert_exporter": "python",
   "pygments_lexer": "ipython3",
   "version": "3.6.5"
  }
 },
 "nbformat": 4,
 "nbformat_minor": 2
}
