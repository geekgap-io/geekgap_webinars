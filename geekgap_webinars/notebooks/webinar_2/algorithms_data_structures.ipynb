{
 "cells": [
  {
   "cell_type": "code",
   "execution_count": 80,
   "metadata": {},
   "outputs": [
    {
     "name": "stdout",
     "output_type": "stream",
     "text": [
      "Collecting memory_profiler\n",
      "Collecting psutil (from memory_profiler)\n",
      "\u001b[?25l  Downloading https://files.pythonhosted.org/packages/1c/ca/5b8c1fe032a458c2c4bcbe509d1401dca9dda35c7fc46b36bb81c2834740/psutil-5.6.3.tar.gz (435kB)\n",
      "\u001b[K    100% |████████████████████████████████| 440kB 1.9MB/s \n",
      "\u001b[?25hInstalling collected packages: psutil, memory-profiler\n",
      "  Running setup.py install for psutil ... \u001b[?25ldone\n",
      "\u001b[?25hSuccessfully installed memory-profiler-0.55.0 psutil-5.6.3\n",
      "\u001b[33mYou are using pip version 18.1, however version 19.3.1 is available.\n",
      "You should consider upgrading via the 'pip install --upgrade pip' command.\u001b[0m\n"
     ]
    }
   ],
   "source": [
    "! pip install memory_profiler\n",
    "%load_ext memory_profiler"
   ]
  },
  {
   "cell_type": "markdown",
   "metadata": {},
   "source": [
    "### INTRODUCTORY EXAMPLE:\n",
    "#### Total size of folders and files in a path"
   ]
  },
  {
   "cell_type": "code",
   "execution_count": 17,
   "metadata": {},
   "outputs": [],
   "source": [
    "import os\n",
    "\"\"\"\n",
    "The os functions that we are given are:\n",
    "os.path.getsize(path)\n",
    "os.path.isdir(path)\n",
    "os.listdir(path)\n",
    "os.path.join(path, filename)\n",
    "\"\"\"\n",
    "\n",
    "def disk_usage(path):\n",
    "    \"\"\"\n",
    "    Input: a path\n",
    "    Output: Total Disk Space being utilized by a folder/file\n",
    "    \"\"\"\n",
    "\n",
    "    path_size = os.path.getsize(path)\n",
    "\n",
    "    # 1- base case\n",
    "    if os.path.isfile(path):\n",
    "        print('{0:<7}'.format(path_size), path)\n",
    "        return path_size\n",
    "\n",
    "        # 2- solve sub-problems step\n",
    "    children_size = 0\n",
    "    for child in os.listdir(path):\n",
    "        child_path = os.path.join(path, child)\n",
    "        children_size += disk_usage(child_path)\n",
    "\n",
    "    # 3- combine sub-solutions\n",
    "    total_size = path_size + children_size\n",
    "\n",
    "    print('{0:<7}'.format(total_size), path)\n",
    "    return total_size"
   ]
  },
  {
   "cell_type": "code",
   "execution_count": 18,
   "metadata": {},
   "outputs": [
    {
     "name": "stdout",
     "output_type": "stream",
     "text": [
      "6148    /Users/junior/geekgap/Repos/geekgap_webinars/.DS_Store\n",
      "1070    /Users/junior/geekgap/Repos/geekgap_webinars/LICENSE\n",
      "63      /Users/junior/geekgap/Repos/geekgap_webinars/Makefile\n",
      "0       /Users/junior/geekgap/Repos/geekgap_webinars/geekgap_webinars/__init__.py\n",
      "51075   /Users/junior/geekgap/Repos/geekgap_webinars/geekgap_webinars/notebooks/webinar_1/system_design.ipynb\n",
      "12530   /Users/junior/geekgap/Repos/geekgap_webinars/geekgap_webinars/notebooks/webinar_1/algorithms_data_structures.ipynb\n",
      "10389   /Users/junior/geekgap/Repos/geekgap_webinars/geekgap_webinars/notebooks/webinar_1/.ipynb_checkpoints/_13_when_not_to_use_a_list-checkpoint.ipynb\n",
      "6882    /Users/junior/geekgap/Repos/geekgap_webinars/geekgap_webinars/notebooks/webinar_1/.ipynb_checkpoints/_8_arithmetic_operations_on_sequences-checkpoint.ipynb\n",
      "3733    /Users/junior/geekgap/Repos/geekgap_webinars/geekgap_webinars/notebooks/webinar_1/.ipynb_checkpoints/_2_sequence_transformation_map_and_filter-checkpoint.ipynb\n",
      "9962    /Users/junior/geekgap/Repos/geekgap_webinars/geekgap_webinars/notebooks/webinar_1/.ipynb_checkpoints/_10_sorting_with_custom_key-checkpoint.ipynb\n",
      "3956    /Users/junior/geekgap/Repos/geekgap_webinars/geekgap_webinars/notebooks/webinar_1/.ipynb_checkpoints/_3_sequence_comprehension-checkpoint.ipynb\n",
      "12530   /Users/junior/geekgap/Repos/geekgap_webinars/geekgap_webinars/notebooks/webinar_1/.ipynb_checkpoints/algorithms_data_structures-checkpoint.ipynb\n",
      "770     /Users/junior/geekgap/Repos/geekgap_webinars/geekgap_webinars/notebooks/webinar_1/.ipynb_checkpoints/template-checkpoint.ipynb\n",
      "4195    /Users/junior/geekgap/Repos/geekgap_webinars/geekgap_webinars/notebooks/webinar_1/.ipynb_checkpoints/_9_sorting_a_list_sort_vs_sorted-checkpoint.ipynb\n",
      "7914    /Users/junior/geekgap/Repos/geekgap_webinars/geekgap_webinars/notebooks/webinar_1/.ipynb_checkpoints/_11_being_clever_on_sorted_sequences_search_and_insert-checkpoint.ipynb\n",
      "72      /Users/junior/geekgap/Repos/geekgap_webinars/geekgap_webinars/notebooks/webinar_1/.ipynb_checkpoints/system_design-checkpoint.ipynb\n",
      "72      /Users/junior/geekgap/Repos/geekgap_webinars/geekgap_webinars/notebooks/webinar_1/.ipynb_checkpoints/_4_nested_lists-checkpoint.ipynb\n",
      "5077    /Users/junior/geekgap/Repos/geekgap_webinars/geekgap_webinars/notebooks/webinar_1/.ipynb_checkpoints/_5_sequence_unpacking-checkpoint.ipynb\n",
      "10066   /Users/junior/geekgap/Repos/geekgap_webinars/geekgap_webinars/notebooks/webinar_1/.ipynb_checkpoints/_12_never_update_a_list_during_ieration-checkpoint.ipynb\n",
      "5725    /Users/junior/geekgap/Repos/geekgap_webinars/geekgap_webinars/notebooks/webinar_1/.ipynb_checkpoints/_6_sequence_indexing_and_slicing-checkpoint.ipynb\n",
      "6125    /Users/junior/geekgap/Repos/geekgap_webinars/geekgap_webinars/notebooks/webinar_1/.ipynb_checkpoints/_7_named_tuples-checkpoint.ipynb\n",
      "9170    /Users/junior/geekgap/Repos/geekgap_webinars/geekgap_webinars/notebooks/webinar_1/.ipynb_checkpoints/_1_builtin_sequences_overview-checkpoint.ipynb\n",
      "97214   /Users/junior/geekgap/Repos/geekgap_webinars/geekgap_webinars/notebooks/webinar_1/.ipynb_checkpoints\n",
      "160979  /Users/junior/geekgap/Repos/geekgap_webinars/geekgap_webinars/notebooks/webinar_1\n",
      "0       /Users/junior/geekgap/Repos/geekgap_webinars/geekgap_webinars/notebooks/__init__.py\n",
      "0       /Users/junior/geekgap/Repos/geekgap_webinars/geekgap_webinars/notebooks/webinar_2/__init__.py\n",
      "17614   /Users/junior/geekgap/Repos/geekgap_webinars/geekgap_webinars/notebooks/webinar_2/algorithms_data_structures.ipynb\n",
      "296     /Users/junior/geekgap/Repos/geekgap_webinars/geekgap_webinars/notebooks/webinar_2/factorial.py\n",
      "852     /Users/junior/geekgap/Repos/geekgap_webinars/geekgap_webinars/notebooks/webinar_2/disk_usage.py\n",
      "17614   /Users/junior/geekgap/Repos/geekgap_webinars/geekgap_webinars/notebooks/webinar_2/.ipynb_checkpoints/algorithms_data_structures-checkpoint.ipynb\n",
      "17710   /Users/junior/geekgap/Repos/geekgap_webinars/geekgap_webinars/notebooks/webinar_2/.ipynb_checkpoints\n",
      "36696   /Users/junior/geekgap/Repos/geekgap_webinars/geekgap_webinars/notebooks/webinar_2\n",
      "64      /Users/junior/geekgap/Repos/geekgap_webinars/geekgap_webinars/notebooks/.ipynb_checkpoints\n",
      "197931  /Users/junior/geekgap/Repos/geekgap_webinars/geekgap_webinars/notebooks\n",
      "198059  /Users/junior/geekgap/Repos/geekgap_webinars/geekgap_webinars\n",
      "16      /Users/junior/geekgap/Repos/geekgap_webinars/MANIFEST.in\n",
      "546     /Users/junior/geekgap/Repos/geekgap_webinars/setup.py\n",
      "1252    /Users/junior/geekgap/Repos/geekgap_webinars/.gitignore\n",
      "6       /Users/junior/geekgap/Repos/geekgap_webinars/.python-version\n",
      "3547    /Users/junior/geekgap/Repos/geekgap_webinars/README.rst\n",
      "428     /Users/junior/geekgap/Repos/geekgap_webinars/.git/config\n",
      "266     /Users/junior/geekgap/Repos/geekgap_webinars/.git/objects/6a/653ed01842cd490cd633505aadf90349854f02\n",
      "362     /Users/junior/geekgap/Repos/geekgap_webinars/.git/objects/6a\n",
      "266     /Users/junior/geekgap/Repos/geekgap_webinars/.git/objects/3c/f94af622b6a450bf265e0fb929f7733c053388\n",
      "362     /Users/junior/geekgap/Repos/geekgap_webinars/.git/objects/3c\n",
      "266     /Users/junior/geekgap/Repos/geekgap_webinars/.git/objects/3d/7daf7775de9c0f4a3279e6ed30b4f53957448b\n",
      "362     /Users/junior/geekgap/Repos/geekgap_webinars/.git/objects/3d\n",
      "706     /Users/junior/geekgap/Repos/geekgap_webinars/.git/objects/93/3590c700b9ece0f601bdbfac186da8ace652ae\n",
      "802     /Users/junior/geekgap/Repos/geekgap_webinars/.git/objects/93\n",
      "92      /Users/junior/geekgap/Repos/geekgap_webinars/.git/objects/94/cad2a729989931e9f5088b7a136c63bb277ba9\n",
      "188     /Users/junior/geekgap/Repos/geekgap_webinars/.git/objects/94\n",
      "91      /Users/junior/geekgap/Repos/geekgap_webinars/.git/objects/0e/d826580b30bf8e0c6ad46ae28543ed3ec6abd9\n",
      "187     /Users/junior/geekgap/Repos/geekgap_webinars/.git/objects/0e\n",
      "1591    /Users/junior/geekgap/Repos/geekgap_webinars/.git/objects/b2/70de4b18bd5d814d4aad3be7f6d61c795f2734\n",
      "1687    /Users/junior/geekgap/Repos/geekgap_webinars/.git/objects/b2\n",
      "2165    /Users/junior/geekgap/Repos/geekgap_webinars/.git/objects/d0/fd809da59b44073983a2f1c2fa3aab4dcfff07\n",
      "2261    /Users/junior/geekgap/Repos/geekgap_webinars/.git/objects/d0\n",
      "87      /Users/junior/geekgap/Repos/geekgap_webinars/.git/objects/d6/51501be2045d9b3971bf1cdace1b7d47c5d691\n",
      "183     /Users/junior/geekgap/Repos/geekgap_webinars/.git/objects/d6\n",
      "266     /Users/junior/geekgap/Repos/geekgap_webinars/.git/objects/d8/2d80555ea8d2101a7306654933ee0d38ae63f3\n",
      "362     /Users/junior/geekgap/Repos/geekgap_webinars/.git/objects/d8\n",
      "91      /Users/junior/geekgap/Repos/geekgap_webinars/.git/objects/fd/5f3307b34e8d08de2b567402c960ce553291b1\n",
      "187     /Users/junior/geekgap/Repos/geekgap_webinars/.git/objects/fd\n",
      "2648    /Users/junior/geekgap/Repos/geekgap_webinars/.git/objects/c8/b8000a8cbcf662f192e8c4fc66c4aada3bb76e\n",
      "2744    /Users/junior/geekgap/Repos/geekgap_webinars/.git/objects/c8\n",
      "134     /Users/junior/geekgap/Repos/geekgap_webinars/.git/objects/ec/636645be8406aab4d5d15ab52aaea5d1526f8a\n",
      "230     /Users/junior/geekgap/Repos/geekgap_webinars/.git/objects/ec\n",
      "15      /Users/junior/geekgap/Repos/geekgap_webinars/.git/objects/4b/825dc642cb6eb9a060e54bf8d69288fbee4904\n",
      "111     /Users/junior/geekgap/Repos/geekgap_webinars/.git/objects/4b\n",
      "64      /Users/junior/geekgap/Repos/geekgap_webinars/.git/objects/pack\n",
      "116     /Users/junior/geekgap/Repos/geekgap_webinars/.git/objects/89/f1a57eb5023c8c4d18a9fc9c45faa38618e372\n",
      "212     /Users/junior/geekgap/Repos/geekgap_webinars/.git/objects/89\n",
      "92      /Users/junior/geekgap/Repos/geekgap_webinars/.git/objects/1f/d589106ec6c668c08f1f6da9308e01f8d2f541\n",
      "188     /Users/junior/geekgap/Repos/geekgap_webinars/.git/objects/1f\n",
      "3641    /Users/junior/geekgap/Repos/geekgap_webinars/.git/objects/73/2410169e0aac1931228de79229a01fbbd756a0\n",
      "3737    /Users/junior/geekgap/Repos/geekgap_webinars/.git/objects/73\n",
      "362     /Users/junior/geekgap/Repos/geekgap_webinars/.git/objects/80/d61be88906976fee89822b421ecbdfce86b208\n",
      "458     /Users/junior/geekgap/Repos/geekgap_webinars/.git/objects/80\n",
      "32      /Users/junior/geekgap/Repos/geekgap_webinars/.git/objects/1a/ba38f67a2211cf5b09466d7b411206cb7223bf\n",
      "128     /Users/junior/geekgap/Repos/geekgap_webinars/.git/objects/1a\n",
      "119     /Users/junior/geekgap/Repos/geekgap_webinars/.git/objects/26/4ced2e0332a0cab5b2a7fb586e5ed7de3066b2\n",
      "215     /Users/junior/geekgap/Repos/geekgap_webinars/.git/objects/26\n",
      "331     /Users/junior/geekgap/Repos/geekgap_webinars/.git/objects/75/15520c400995349015d292e6c44b194bc5c21f\n",
      "427     /Users/junior/geekgap/Repos/geekgap_webinars/.git/objects/75\n",
      "92      /Users/junior/geekgap/Repos/geekgap_webinars/.git/objects/86/41073dddf0686c4961b20944e700bd65ea0862\n",
      "188     /Users/junior/geekgap/Repos/geekgap_webinars/.git/objects/86\n",
      "118     /Users/junior/geekgap/Repos/geekgap_webinars/.git/objects/72/195f84cea434289a978412a3552c50235064ee\n",
      "214     /Users/junior/geekgap/Repos/geekgap_webinars/.git/objects/72\n",
      "3256    /Users/junior/geekgap/Repos/geekgap_webinars/.git/objects/2a/0bba5946836804258394777b22f762daf7a44b\n",
      "3352    /Users/junior/geekgap/Repos/geekgap_webinars/.git/objects/2a\n",
      "173     /Users/junior/geekgap/Repos/geekgap_webinars/.git/objects/38/e42a9e7fb5c4e2072f781d0e43c6ef15b1a64a\n",
      "269     /Users/junior/geekgap/Repos/geekgap_webinars/.git/objects/38\n",
      "64      /Users/junior/geekgap/Repos/geekgap_webinars/.git/objects/info\n",
      "148     /Users/junior/geekgap/Repos/geekgap_webinars/.git/objects/5e/cfeaa5c2ce5dfb66e1944efe77bb0e5ed3055b\n",
      "244     /Users/junior/geekgap/Repos/geekgap_webinars/.git/objects/5e\n",
      "71      /Users/junior/geekgap/Repos/geekgap_webinars/.git/objects/99/7cfaa14c219a83873d8f38b2d99cd12dbada70\n",
      "167     /Users/junior/geekgap/Repos/geekgap_webinars/.git/objects/99\n",
      "148     /Users/junior/geekgap/Repos/geekgap_webinars/.git/objects/a7/d6cbe41fe5e19409349d96e61a19ca66eeda94\n",
      "244     /Users/junior/geekgap/Repos/geekgap_webinars/.git/objects/a7\n",
      "8718    /Users/junior/geekgap/Repos/geekgap_webinars/.git/objects/ef/52135e1121ba68b09c3c3f89d7c1dd111021bc\n",
      "8814    /Users/junior/geekgap/Repos/geekgap_webinars/.git/objects/ef\n",
      "15      /Users/junior/geekgap/Repos/geekgap_webinars/.git/objects/e6/9de29bb2d1d6434b8b29ae775ad8c2e48c5391\n",
      "111     /Users/junior/geekgap/Repos/geekgap_webinars/.git/objects/e6\n",
      "116     /Users/junior/geekgap/Repos/geekgap_webinars/.git/objects/f9/3ae27e6bbe4e6b45af95fb970728dd48b38f31\n",
      "212     /Users/junior/geekgap/Repos/geekgap_webinars/.git/objects/f9\n",
      "92      /Users/junior/geekgap/Repos/geekgap_webinars/.git/objects/ff/fc076e31e9de03e627dc17d008fba8114d5676\n",
      "188     /Users/junior/geekgap/Repos/geekgap_webinars/.git/objects/ff\n",
      "191     /Users/junior/geekgap/Repos/geekgap_webinars/.git/objects/e9/f493ed25047964c7f4b4595e034235b534a340\n",
      "287     /Users/junior/geekgap/Repos/geekgap_webinars/.git/objects/e9\n",
      "176     /Users/junior/geekgap/Repos/geekgap_webinars/.git/objects/e7/39417742964892ae0605eaa75cf93d8c209dae\n",
      "660     /Users/junior/geekgap/Repos/geekgap_webinars/.git/objects/e7/90f54c56936c21a7cb75717483ff5e97abf3f6\n",
      "964     /Users/junior/geekgap/Repos/geekgap_webinars/.git/objects/e7\n",
      "165     /Users/junior/geekgap/Repos/geekgap_webinars/.git/objects/1c/ccabddbc6f461d1225f72a07a52335d5a59a37\n",
      "261     /Users/junior/geekgap/Repos/geekgap_webinars/.git/objects/1c\n",
      "432     /Users/junior/geekgap/Repos/geekgap_webinars/.git/objects/25/7cab5b80c4f63a12f073041fadff23b102a97b\n",
      "528     /Users/junior/geekgap/Repos/geekgap_webinars/.git/objects/25\n",
      "32844   /Users/junior/geekgap/Repos/geekgap_webinars/.git/objects\n",
      "64      /Users/junior/geekgap/Repos/geekgap_webinars/.git/rr-cache\n",
      "24      /Users/junior/geekgap/Repos/geekgap_webinars/.git/HEAD\n",
      "240     /Users/junior/geekgap/Repos/geekgap_webinars/.git/info/exclude\n",
      "336     /Users/junior/geekgap/Repos/geekgap_webinars/.git/info\n",
      "1052    /Users/junior/geekgap/Repos/geekgap_webinars/.git/logs/HEAD\n",
      "869     /Users/junior/geekgap/Repos/geekgap_webinars/.git/logs/refs/heads/develop\n",
      "171     /Users/junior/geekgap/Repos/geekgap_webinars/.git/logs/refs/heads/master\n",
      "1168    /Users/junior/geekgap/Repos/geekgap_webinars/.git/logs/refs/heads\n",
      "306     /Users/junior/geekgap/Repos/geekgap_webinars/.git/logs/refs/remotes/origin/develop\n",
      "402     /Users/junior/geekgap/Repos/geekgap_webinars/.git/logs/refs/remotes/origin\n",
      "498     /Users/junior/geekgap/Repos/geekgap_webinars/.git/logs/refs/remotes\n",
      "1794    /Users/junior/geekgap/Repos/geekgap_webinars/.git/logs/refs\n",
      "2974    /Users/junior/geekgap/Repos/geekgap_webinars/.git/logs\n",
      "73      /Users/junior/geekgap/Repos/geekgap_webinars/.git/description\n",
      "896     /Users/junior/geekgap/Repos/geekgap_webinars/.git/hooks/commit-msg.sample\n",
      "4898    /Users/junior/geekgap/Repos/geekgap_webinars/.git/hooks/pre-rebase.sample\n",
      "1638    /Users/junior/geekgap/Repos/geekgap_webinars/.git/hooks/pre-commit.sample\n",
      "478     /Users/junior/geekgap/Repos/geekgap_webinars/.git/hooks/applypatch-msg.sample\n",
      "3327    /Users/junior/geekgap/Repos/geekgap_webinars/.git/hooks/fsmonitor-watchman.sample\n",
      "544     /Users/junior/geekgap/Repos/geekgap_webinars/.git/hooks/pre-receive.sample\n",
      "1492    /Users/junior/geekgap/Repos/geekgap_webinars/.git/hooks/prepare-commit-msg.sample\n",
      "189     /Users/junior/geekgap/Repos/geekgap_webinars/.git/hooks/post-update.sample\n",
      "424     /Users/junior/geekgap/Repos/geekgap_webinars/.git/hooks/pre-applypatch.sample\n",
      "1348    /Users/junior/geekgap/Repos/geekgap_webinars/.git/hooks/pre-push.sample\n",
      "3610    /Users/junior/geekgap/Repos/geekgap_webinars/.git/hooks/update.sample\n",
      "19260   /Users/junior/geekgap/Repos/geekgap_webinars/.git/hooks\n",
      "41      /Users/junior/geekgap/Repos/geekgap_webinars/.git/refs/heads/develop\n",
      "41      /Users/junior/geekgap/Repos/geekgap_webinars/.git/refs/heads/master\n",
      "210     /Users/junior/geekgap/Repos/geekgap_webinars/.git/refs/heads\n",
      "64      /Users/junior/geekgap/Repos/geekgap_webinars/.git/refs/tags\n",
      "41      /Users/junior/geekgap/Repos/geekgap_webinars/.git/refs/remotes/origin/develop\n",
      "137     /Users/junior/geekgap/Repos/geekgap_webinars/.git/refs/remotes/origin\n",
      "233     /Users/junior/geekgap/Repos/geekgap_webinars/.git/refs/remotes\n",
      "667     /Users/junior/geekgap/Repos/geekgap_webinars/.git/refs\n",
      "1489    /Users/junior/geekgap/Repos/geekgap_webinars/.git/index\n",
      "0       /Users/junior/geekgap/Repos/geekgap_webinars/.git/MERGE_RR\n",
      "15      /Users/junior/geekgap/Repos/geekgap_webinars/.git/COMMIT_EDITMSG\n",
      "58622   /Users/junior/geekgap/Repos/geekgap_webinars/.git\n",
      "454     /Users/junior/geekgap/Repos/geekgap_webinars/.idea/geekgap_webinars.iml\n",
      "180     /Users/junior/geekgap/Repos/geekgap_webinars/.idea/vcs.xml\n",
      "26856   /Users/junior/geekgap/Repos/geekgap_webinars/.idea/workspace.xml\n",
      "284     /Users/junior/geekgap/Repos/geekgap_webinars/.idea/modules.xml\n",
      "16      /Users/junior/geekgap/Repos/geekgap_webinars/.idea/.name\n",
      "193     /Users/junior/geekgap/Repos/geekgap_webinars/.idea/python-terminal.xml\n",
      "208     /Users/junior/geekgap/Repos/geekgap_webinars/.idea/misc.xml\n",
      "28479   /Users/junior/geekgap/Repos/geekgap_webinars/.idea\n",
      "298224  /Users/junior/geekgap/Repos/geekgap_webinars\n",
      "CPU times: user 49.7 ms, sys: 26.4 ms, total: 76.1 ms\n",
      "Wall time: 59.3 ms\n"
     ]
    },
    {
     "data": {
      "text/plain": [
       "298224"
      ]
     },
     "execution_count": 18,
     "metadata": {},
     "output_type": "execute_result"
    }
   ],
   "source": [
    "%time disk_usage('/Users/junior/geekgap/Repos/geekgap_webinars')"
   ]
  },
  {
   "cell_type": "code",
   "execution_count": null,
   "metadata": {},
   "outputs": [],
   "source": []
  },
  {
   "cell_type": "markdown",
   "metadata": {},
   "source": [
    "### Case study 1: Factorial"
   ]
  },
  {
   "cell_type": "code",
   "execution_count": 19,
   "metadata": {},
   "outputs": [],
   "source": [
    "def factorial(n):\n",
    "    #1- base case\n",
    "    if n <= 1:\n",
    "        return 1\n",
    "\n",
    "    #2- solve sub-problems\n",
    "    previous_factorial = factorial(n-1)\n",
    "\n",
    "    #3- combine sub-solutions\n",
    "    res = n * previous_factorial\n",
    "\n",
    "    return res"
   ]
  },
  {
   "cell_type": "code",
   "execution_count": 29,
   "metadata": {},
   "outputs": [
    {
     "name": "stdout",
     "output_type": "stream",
     "text": [
      "CPU times: user 4 µs, sys: 1e+03 ns, total: 5 µs\n",
      "Wall time: 8.11 µs\n"
     ]
    },
    {
     "data": {
      "text/plain": [
       "1"
      ]
     },
     "execution_count": 29,
     "metadata": {},
     "output_type": "execute_result"
    }
   ],
   "source": [
    "%time factorial(0)"
   ]
  },
  {
   "cell_type": "code",
   "execution_count": 28,
   "metadata": {},
   "outputs": [
    {
     "name": "stdout",
     "output_type": "stream",
     "text": [
      "CPU times: user 3 µs, sys: 1e+03 ns, total: 4 µs\n",
      "Wall time: 8.11 µs\n"
     ]
    },
    {
     "data": {
      "text/plain": [
       "1"
      ]
     },
     "execution_count": 28,
     "metadata": {},
     "output_type": "execute_result"
    }
   ],
   "source": [
    "%time factorial(1)"
   ]
  },
  {
   "cell_type": "code",
   "execution_count": 27,
   "metadata": {},
   "outputs": [
    {
     "name": "stdout",
     "output_type": "stream",
     "text": [
      "CPU times: user 5 µs, sys: 0 ns, total: 5 µs\n",
      "Wall time: 7.87 µs\n"
     ]
    },
    {
     "data": {
      "text/plain": [
       "24"
      ]
     },
     "execution_count": 27,
     "metadata": {},
     "output_type": "execute_result"
    }
   ],
   "source": [
    "%time factorial(4)"
   ]
  },
  {
   "cell_type": "code",
   "execution_count": 26,
   "metadata": {},
   "outputs": [
    {
     "name": "stdout",
     "output_type": "stream",
     "text": [
      "CPU times: user 9 µs, sys: 1e+03 ns, total: 10 µs\n",
      "Wall time: 14.1 µs\n"
     ]
    },
    {
     "data": {
      "text/plain": [
       "120"
      ]
     },
     "execution_count": 26,
     "metadata": {},
     "output_type": "execute_result"
    }
   ],
   "source": [
    "%time factorial(5)"
   ]
  },
  {
   "cell_type": "code",
   "execution_count": 25,
   "metadata": {},
   "outputs": [
    {
     "name": "stdout",
     "output_type": "stream",
     "text": [
      "CPU times: user 2.01 ms, sys: 1.04 ms, total: 3.05 ms\n",
      "Wall time: 3.06 ms\n"
     ]
    },
    {
     "data": {
      "text/plain": [
       "402387260077093773543702433923003985719374864210714632543799910429938512398629020592044208486969404800479988610197196058631666872994808558901323829669944590997424504087073759918823627727188732519779505950995276120874975462497043601418278094646496291056393887437886487337119181045825783647849977012476632889835955735432513185323958463075557409114262417474349347553428646576611667797396668820291207379143853719588249808126867838374559731746136085379534524221586593201928090878297308431392844403281231558611036976801357304216168747609675871348312025478589320767169132448426236131412508780208000261683151027341827977704784635868170164365024153691398281264810213092761244896359928705114964975419909342221566832572080821333186116811553615836546984046708975602900950537616475847728421889679646244945160765353408198901385442487984959953319101723355556602139450399736280750137837615307127761926849034352625200015888535147331611702103968175921510907788019393178114194545257223865541461062892187960223838971476088506276862967146674697562911234082439208160153780889893964518263243671616762179168909779911903754031274622289988005195444414282012187361745992642956581746628302955570299024324153181617210465832036786906117260158783520751516284225540265170483304226143974286933061690897968482590125458327168226458066526769958652682272807075781391858178889652208164348344825993266043367660176999612831860788386150279465955131156552036093988180612138558600301435694527224206344631797460594682573103790084024432438465657245014402821885252470935190620929023136493273497565513958720559654228749774011413346962715422845862377387538230483865688976461927383814900140767310446640259899490222221765904339901886018566526485061799702356193897017860040811889729918311021171229845901641921068884387121855646124960798722908519296819372388642614839657382291123125024186649353143970137428531926649875337218940694281434118520158014123344828015051399694290153483077644569099073152433278288269864602789864321139083506217095002597389863554277196742822248757586765752344220207573630569498825087968928162753848863396909959826280956121450994871701244516461260379029309120889086942028510640182154399457156805941872748998094254742173582401063677404595741785160829230135358081840096996372524230560855903700624271243416909004153690105933983835777939410970027753472000000000000000000000000000000000000000000000000000000000000000000000000000000000000000000000000000000000000000000000000000000000000000000000000000000000000000000000000000000000000000000000000000000000000000000000000000000000000000000000000000000000"
      ]
     },
     "execution_count": 25,
     "metadata": {},
     "output_type": "execute_result"
    }
   ],
   "source": [
    "%time factorial(1000)"
   ]
  },
  {
   "cell_type": "markdown",
   "metadata": {},
   "source": [
    "### Case study 2: Recursive power"
   ]
  },
  {
   "cell_type": "code",
   "execution_count": 30,
   "metadata": {},
   "outputs": [],
   "source": [
    "def power(x, n):\n",
    "    \"\"\"Compute x to the power of n (with n>=0)\"\"\"\n",
    "\n",
    "    #1- base case\n",
    "    if n == 0:\n",
    "        return 1\n",
    "\n",
    "    #2- solve sub-problems\n",
    "    previous_power = power(x, n-1)\n",
    "\n",
    "    #3- combine sub-solutions\n",
    "    res = x * previous_power\n",
    "\n",
    "    return res"
   ]
  },
  {
   "cell_type": "code",
   "execution_count": 31,
   "metadata": {},
   "outputs": [
    {
     "name": "stdout",
     "output_type": "stream",
     "text": [
      "CPU times: user 3 µs, sys: 1e+03 ns, total: 4 µs\n",
      "Wall time: 6.91 µs\n"
     ]
    },
    {
     "data": {
      "text/plain": [
       "1"
      ]
     },
     "execution_count": 31,
     "metadata": {},
     "output_type": "execute_result"
    }
   ],
   "source": [
    "%time power(2, 0)"
   ]
  },
  {
   "cell_type": "code",
   "execution_count": 32,
   "metadata": {},
   "outputs": [
    {
     "name": "stdout",
     "output_type": "stream",
     "text": [
      "CPU times: user 5 µs, sys: 1 µs, total: 6 µs\n",
      "Wall time: 9.06 µs\n"
     ]
    },
    {
     "data": {
      "text/plain": [
       "16"
      ]
     },
     "execution_count": 32,
     "metadata": {},
     "output_type": "execute_result"
    }
   ],
   "source": [
    "%time power(2, 4)"
   ]
  },
  {
   "cell_type": "code",
   "execution_count": 33,
   "metadata": {},
   "outputs": [
    {
     "name": "stdout",
     "output_type": "stream",
     "text": [
      "CPU times: user 6 µs, sys: 1 µs, total: 7 µs\n",
      "Wall time: 10 µs\n"
     ]
    },
    {
     "data": {
      "text/plain": [
       "32"
      ]
     },
     "execution_count": 33,
     "metadata": {},
     "output_type": "execute_result"
    }
   ],
   "source": [
    "%time power(2, 5)"
   ]
  },
  {
   "cell_type": "code",
   "execution_count": 41,
   "metadata": {},
   "outputs": [
    {
     "name": "stdout",
     "output_type": "stream",
     "text": [
      "CPU times: user 736 µs, sys: 21 µs, total: 757 µs\n",
      "Wall time: 763 µs\n"
     ]
    },
    {
     "data": {
      "text/plain": [
       "114813069527425452423283320117768198402231770208869520047764273682576626139237031385665948631650626991844596463898746277344711896086305533142593135616665318539129989145312280000688779148240044871428926990063486244781615463646388363947317026040466353970904996558162398808944629605623311649536164221970332681344168908984458505602379484807914058900934776500429002716706625830522008132236281291761267883317206598995396418127021779858404042159853183251540889433902091920554957783589672039160081957216630582755380425583726015528348786419432054508915275783882625175435528800822842770817965453762184851149029376"
      ]
     },
     "execution_count": 41,
     "metadata": {},
     "output_type": "execute_result"
    }
   ],
   "source": [
    "%time power(2, 2000)"
   ]
  },
  {
   "cell_type": "code",
   "execution_count": null,
   "metadata": {},
   "outputs": [],
   "source": []
  },
  {
   "cell_type": "markdown",
   "metadata": {},
   "source": [
    "#### Optimization\n",
    "- The above solution of power is linear since the each sub-problem-size = problem-size - 1\n",
    "- we can improve the solution by creating sub problems such that sub-problem-size = problem-size // 2 --> logarithmic time complexity"
   ]
  },
  {
   "cell_type": "code",
   "execution_count": 42,
   "metadata": {},
   "outputs": [],
   "source": [
    "def power_optimized(x, n):\n",
    "    \"\"\"Compute x to the power_optimized of n (with n>=0)\"\"\"\n",
    "\n",
    "    #1- base case\n",
    "    if n == 0:\n",
    "        return 1\n",
    "\n",
    "    #2- solve sub-problems\n",
    "    squared_power = power_optimized(x, n//2)\n",
    "\n",
    "    #3- combine sub-solutions\n",
    "    if n %2 == 0:\n",
    "        res = squared_power * squared_power\n",
    "    else:\n",
    "        res = x * squared_power * squared_power\n",
    "\n",
    "    return res"
   ]
  },
  {
   "cell_type": "code",
   "execution_count": 43,
   "metadata": {},
   "outputs": [
    {
     "name": "stdout",
     "output_type": "stream",
     "text": [
      "CPU times: user 4 µs, sys: 1 µs, total: 5 µs\n",
      "Wall time: 8.82 µs\n"
     ]
    },
    {
     "data": {
      "text/plain": [
       "1"
      ]
     },
     "execution_count": 43,
     "metadata": {},
     "output_type": "execute_result"
    }
   ],
   "source": [
    "%time power_optimized(2, 0)"
   ]
  },
  {
   "cell_type": "code",
   "execution_count": 44,
   "metadata": {},
   "outputs": [
    {
     "name": "stdout",
     "output_type": "stream",
     "text": [
      "CPU times: user 7 µs, sys: 1 µs, total: 8 µs\n",
      "Wall time: 10 µs\n"
     ]
    },
    {
     "data": {
      "text/plain": [
       "16"
      ]
     },
     "execution_count": 44,
     "metadata": {},
     "output_type": "execute_result"
    }
   ],
   "source": [
    "%time power_optimized(2, 4)"
   ]
  },
  {
   "cell_type": "code",
   "execution_count": 45,
   "metadata": {},
   "outputs": [
    {
     "name": "stdout",
     "output_type": "stream",
     "text": [
      "CPU times: user 6 µs, sys: 1e+03 ns, total: 7 µs\n",
      "Wall time: 10 µs\n"
     ]
    },
    {
     "data": {
      "text/plain": [
       "32"
      ]
     },
     "execution_count": 45,
     "metadata": {},
     "output_type": "execute_result"
    }
   ],
   "source": [
    "%time power_optimized(2, 5)"
   ]
  },
  {
   "cell_type": "code",
   "execution_count": 49,
   "metadata": {},
   "outputs": [
    {
     "name": "stdout",
     "output_type": "stream",
     "text": [
      "CPU times: user 29 µs, sys: 1 µs, total: 30 µs\n",
      "Wall time: 35 µs\n"
     ]
    },
    {
     "data": {
      "text/plain": [
       "114813069527425452423283320117768198402231770208869520047764273682576626139237031385665948631650626991844596463898746277344711896086305533142593135616665318539129989145312280000688779148240044871428926990063486244781615463646388363947317026040466353970904996558162398808944629605623311649536164221970332681344168908984458505602379484807914058900934776500429002716706625830522008132236281291761267883317206598995396418127021779858404042159853183251540889433902091920554957783589672039160081957216630582755380425583726015528348786419432054508915275783882625175435528800822842770817965453762184851149029376"
      ]
     },
     "execution_count": 49,
     "metadata": {},
     "output_type": "execute_result"
    }
   ],
   "source": [
    "%time power_optimized(2, 2000)"
   ]
  },
  {
   "cell_type": "code",
   "execution_count": 50,
   "metadata": {},
   "outputs": [
    {
     "name": "stdout",
     "output_type": "stream",
     "text": [
      "CPU times: user 59 µs, sys: 1 µs, total: 60 µs\n",
      "Wall time: 63.9 µs\n"
     ]
    },
    {
     "data": {
      "text/plain": [
       "398027684033796659235430720619120245370477278049242593871342686565238635974930057042676009749975595510836461137504912702831400376935319143621753470415827025981215282426893498224826615977707595539466961019588699726772279731941315198182787264034852821200164566127930390710398182979935327718016873784821349516406114982916691867361875370024545872140793827277482562824192439237801588697814168520338650090909697535966525032757049430286459482977357373598020450589927318365663076719136934132593126761906696003770385305284570331119691001526584347722012386381881779425549210851696458253943578557699072154639655630793883941961378971846841113804188730258903839103669626086974468150655710480841592465655211805257863007811676888839555017536731758113448656752514158601444051645154665514388431619042396106716755762338728183461369854648923972904427556158821823778729193111453445844216979095435045778144571378954652122396061615147642540250745857228893999875491625014946013839340891326060933901036249999238637827577774666644809734033861619420363936465178730919233673114244563915058438996625834112132967998495576249320462871747777012165543887156255858358784852335060574881876552025685704823768078710818951860741379429242110855644973977420413810373514584504006896392675854997866870818564207239083874324953871276375716101506575153205747363963740749867514682619756775534507006871485887812402927738227576635284174246988540785975240020481266853076127172228024330561550120182008777598230542033702463408316671120886169260934006805799864598636311179787776738608992346063063099659648279663878174074787179237169752957046404584525301384153358344055908219695854852185210739761460551596658211013159915409566145426809737550417578228465835830890294497535463112081537672664056891624345779311524560019984315456142126282898486728345004767873499752683471409587367450593302392307908004590644754012537113320493601682133709318222647489080531644015321391157387178232154126828007760313716872242209614200967522180475716199973689467714010404673961454146466045855232217196687665143147612199151921277432309700460321430381533385245877431330533479476152339364503436322919665631042328740463612565842560411947020174006507893396276103834436233140915025391014386119201176462659556388343058600326710618903683746516577021214276933289179021059956925949717956040857979165914170970056212869933593589268626151996676594370800885093048230687152803213254735594741799076039453057272319884322341883241036382617598401889439130301876975498681736174215711287053447013711596004574803562701388246822510391522419061320663740921321754344166744899588160649291823535983386025904942040724581017615968429577015808090360968544059204594200069304612417366398776831532265596224715750301792207725607932534543693758772262010387360435567635232718343420679693057360004073679493008945813961012439574397373178636054628207647520675194420244271036343729318858430871461978866964772362057290577326080664463129657590249859748544101333842092713653096656066266827446079145590196644643417403723220085696202719321533233027169599734928971588850348415000070034027025298183104148343980297663148971586607903771717880683175436445585810610546882073571556162324659351310326560804448974229349743425637164834242799991427145050899469511954834774847172360693568437689147399455672090773686782511054291185172381917008889957645311339950993044779783607140593766508017935992581357858306525303783231752425242008347844867988333025417249944092118578113687403158162707075154006053416374075765162668533127078605316562826337193606242535290683224423660462222408680300498714149607265550441220738075941633988435051594487256802874182264814425923111193188280632013127802897889605338783089532740877202304122498193625454768343775535498872821099981620497070810489137457106892573248498734243717184800822956334469415666818858073218653977954309023182851723246522042792401461382001601920501284439325214084210736400630884929942272982943613708123011355260915545831043160243523599372006226150289664982113944898886610710824955096724626895416484521819026132177640598691658035986285376355033719094568083122219345722063613609779158338084375331431276527548482566210071347744541292871876134764249704859840950276227627328897424208932988115108907187647698491814375639614313178092528678007370045871748218421786396197284213209022623762734630836006864192414605237248983289006905268988475197599781524158913583701325199090352274252608342971303907669363045656232183978755853064004010895030834921988601355201181158877254807798058635127708445592064519563115094749276606697559529332807221414021024905241788974917755034700510432039890197393691722911126889174394312127254793141624975830429097997705531781908242083922068769027355129212617244130640289994777413026624013157329948333586377955103195844817163822484232700763859290253400376515701986753596890075818544485475785780031843579065754095099970940504640212850809997051128976563880886392410766321449987529690463262182894272302749154535447233331028841215215533602398281107050696017507827602761547816324743297938177204183765821117818869959795031848201322436053103778993541384779857262311465895754085538371969040922420936915076653500310175006188572019017358300979056992161958286882575984331858170857303361269891312794369244896540323192451678830668180455059289743580640736076233561935888109525845803125912388965524166819855977061399043499229843517930169118036812460794615667808961600389778306540324849286501515292799391304510997298128228258006156017389878086272789993321416349205921635696963703558971391123174877353757536774013315034956942784403824181551741629180658414081905650333672638983416786388095026169496605199749691595798835947189777822765198767949699778106683862989103096006505865271003566346191382406011673958404009194852110016915222433459641787170917872140367871023596464051647947388580570774462304347896201676197195521428782313608583714399238092208362933211302942806480175589402387976531080436906856834377344137698180789562645974374155400497754843905032231188252125802180353577510519869570675234892321663406309376"
      ]
     },
     "execution_count": 50,
     "metadata": {},
     "output_type": "execute_result"
    }
   ],
   "source": [
    "%time power_optimized(2, 20000)"
   ]
  },
  {
   "cell_type": "code",
   "execution_count": null,
   "metadata": {},
   "outputs": [],
   "source": []
  },
  {
   "cell_type": "markdown",
   "metadata": {},
   "source": [
    "### Case study 3: Recursive reverse"
   ]
  },
  {
   "cell_type": "markdown",
   "metadata": {},
   "source": [
    "def helper(L, left, right):\n",
    "    \"\"\"helper function to reverse the element of a\n",
    "    list(L) between left and right\"\"\"\n",
    "    print(f'so far ==> left={left}, right={right}, L={L}')\n",
    "\n",
    "    # 1- base case\n",
    "    if left >= right:\n",
    "        # if list has 0 or 1 element there is nothing to do\n",
    "        return\n",
    "\n",
    "    # 2- solve the sub-problems\n",
    "    # 2.1 swap elements at position left and right\n",
    "    L[left], L[right] = L[right], L[left]\n",
    "\n",
    "    # 2.2 reverse elements between left+1 and right-1\n",
    "    helper(L, left+1, right-1)\n",
    "\n",
    "    #3- combine the sub-solutions\n",
    "    # nothing to combine --> tail recursion(stay tunned for more)\n",
    "\n",
    "\n",
    "def reverse(L):\n",
    "    \"\"\"Reverse a list (L) in-place recursively\"\"\"\n",
    "    helper(L, 0, len(L)-1)"
   ]
  },
  {
   "cell_type": "code",
   "execution_count": 53,
   "metadata": {},
   "outputs": [
    {
     "name": "stdout",
     "output_type": "stream",
     "text": [
      "so far ==> left=0, right=9, L=[0, 1, 2, 3, 4, 5, 6, 7, 8, 9]\n",
      "so far ==> left=1, right=8, L=[9, 1, 2, 3, 4, 5, 6, 7, 8, 0]\n",
      "so far ==> left=2, right=7, L=[9, 8, 2, 3, 4, 5, 6, 7, 1, 0]\n",
      "so far ==> left=3, right=6, L=[9, 8, 7, 3, 4, 5, 6, 2, 1, 0]\n",
      "so far ==> left=4, right=5, L=[9, 8, 7, 6, 4, 5, 3, 2, 1, 0]\n",
      "so far ==> left=5, right=4, L=[9, 8, 7, 6, 5, 4, 3, 2, 1, 0]\n",
      "CPU times: user 235 µs, sys: 115 µs, total: 350 µs\n",
      "Wall time: 270 µs\n"
     ]
    }
   ],
   "source": [
    "L = list(range(10))\n",
    "%time reverse(L)"
   ]
  },
  {
   "cell_type": "code",
   "execution_count": 56,
   "metadata": {},
   "outputs": [
    {
     "name": "stdout",
     "output_type": "stream",
     "text": [
      "so far ==> left=0, right=29, L=[0, 1, 2, 3, 4, 5, 6, 7, 8, 9, 10, 11, 12, 13, 14, 15, 16, 17, 18, 19, 20, 21, 22, 23, 24, 25, 26, 27, 28, 29]\n",
      "so far ==> left=1, right=28, L=[29, 1, 2, 3, 4, 5, 6, 7, 8, 9, 10, 11, 12, 13, 14, 15, 16, 17, 18, 19, 20, 21, 22, 23, 24, 25, 26, 27, 28, 0]\n",
      "so far ==> left=2, right=27, L=[29, 28, 2, 3, 4, 5, 6, 7, 8, 9, 10, 11, 12, 13, 14, 15, 16, 17, 18, 19, 20, 21, 22, 23, 24, 25, 26, 27, 1, 0]\n",
      "so far ==> left=3, right=26, L=[29, 28, 27, 3, 4, 5, 6, 7, 8, 9, 10, 11, 12, 13, 14, 15, 16, 17, 18, 19, 20, 21, 22, 23, 24, 25, 26, 2, 1, 0]\n",
      "so far ==> left=4, right=25, L=[29, 28, 27, 26, 4, 5, 6, 7, 8, 9, 10, 11, 12, 13, 14, 15, 16, 17, 18, 19, 20, 21, 22, 23, 24, 25, 3, 2, 1, 0]\n",
      "so far ==> left=5, right=24, L=[29, 28, 27, 26, 25, 5, 6, 7, 8, 9, 10, 11, 12, 13, 14, 15, 16, 17, 18, 19, 20, 21, 22, 23, 24, 4, 3, 2, 1, 0]\n",
      "so far ==> left=6, right=23, L=[29, 28, 27, 26, 25, 24, 6, 7, 8, 9, 10, 11, 12, 13, 14, 15, 16, 17, 18, 19, 20, 21, 22, 23, 5, 4, 3, 2, 1, 0]\n",
      "so far ==> left=7, right=22, L=[29, 28, 27, 26, 25, 24, 23, 7, 8, 9, 10, 11, 12, 13, 14, 15, 16, 17, 18, 19, 20, 21, 22, 6, 5, 4, 3, 2, 1, 0]\n",
      "so far ==> left=8, right=21, L=[29, 28, 27, 26, 25, 24, 23, 22, 8, 9, 10, 11, 12, 13, 14, 15, 16, 17, 18, 19, 20, 21, 7, 6, 5, 4, 3, 2, 1, 0]\n",
      "so far ==> left=9, right=20, L=[29, 28, 27, 26, 25, 24, 23, 22, 21, 9, 10, 11, 12, 13, 14, 15, 16, 17, 18, 19, 20, 8, 7, 6, 5, 4, 3, 2, 1, 0]\n",
      "so far ==> left=10, right=19, L=[29, 28, 27, 26, 25, 24, 23, 22, 21, 20, 10, 11, 12, 13, 14, 15, 16, 17, 18, 19, 9, 8, 7, 6, 5, 4, 3, 2, 1, 0]\n",
      "so far ==> left=11, right=18, L=[29, 28, 27, 26, 25, 24, 23, 22, 21, 20, 19, 11, 12, 13, 14, 15, 16, 17, 18, 10, 9, 8, 7, 6, 5, 4, 3, 2, 1, 0]\n",
      "so far ==> left=12, right=17, L=[29, 28, 27, 26, 25, 24, 23, 22, 21, 20, 19, 18, 12, 13, 14, 15, 16, 17, 11, 10, 9, 8, 7, 6, 5, 4, 3, 2, 1, 0]\n",
      "so far ==> left=13, right=16, L=[29, 28, 27, 26, 25, 24, 23, 22, 21, 20, 19, 18, 17, 13, 14, 15, 16, 12, 11, 10, 9, 8, 7, 6, 5, 4, 3, 2, 1, 0]\n",
      "so far ==> left=14, right=15, L=[29, 28, 27, 26, 25, 24, 23, 22, 21, 20, 19, 18, 17, 16, 14, 15, 13, 12, 11, 10, 9, 8, 7, 6, 5, 4, 3, 2, 1, 0]\n",
      "so far ==> left=15, right=14, L=[29, 28, 27, 26, 25, 24, 23, 22, 21, 20, 19, 18, 17, 16, 15, 14, 13, 12, 11, 10, 9, 8, 7, 6, 5, 4, 3, 2, 1, 0]\n",
      "CPU times: user 501 µs, sys: 231 µs, total: 732 µs\n",
      "Wall time: 537 µs\n"
     ]
    }
   ],
   "source": [
    "L = list(range(30))\n",
    "%time reverse(L)"
   ]
  },
  {
   "cell_type": "code",
   "execution_count": null,
   "metadata": {},
   "outputs": [],
   "source": []
  },
  {
   "cell_type": "markdown",
   "metadata": {},
   "source": [
    "### Case study 4: Recursive binary search"
   ]
  },
  {
   "cell_type": "markdown",
   "metadata": {},
   "source": [
    "#### very bad implementation"
   ]
  },
  {
   "cell_type": "code",
   "execution_count": 75,
   "metadata": {},
   "outputs": [],
   "source": [
    "def very_bad_binary_search(A, k, verbose=True):\n",
    "    \"\"\"\n",
    "    Buggy binary search of k in A, return True if found, False otherwise\n",
    "    Because of this bug, the following implementation complexity is:\n",
    "     -Time:   linear and not logarithmic\n",
    "    \"\"\"\n",
    "    left, right = 0, len(A)-1\n",
    "    if verbose:\n",
    "        print(f'so far ==> left={left}, right={right}, k={k}, A={A}')\n",
    "\n",
    "    # 1- base case\n",
    "    if len(A) == 0:\n",
    "        # if empty list there is nothing to search\n",
    "        return False\n",
    "\n",
    "    # 2- solve the subproblems\n",
    "    mid = (right - left)//2 + left\n",
    "    if A[mid] < k:  \n",
    "        left = mid + 1 # -> search right\n",
    "        return very_bad_binary_search(A[left:right+1], k, verbose) #BUG HERE\n",
    "    elif A[mid] > k:  \n",
    "        right = mid - 1 # -> search left\n",
    "        return very_bad_binary_search(A[left:right+1], k, verbose) #BUG HERE\n",
    "    else:\n",
    "        return True\n",
    "\n",
    "    # 3- combine the sub-solutions\n",
    "    # nothing to combine --> tail recursion(stay tunned for more)"
   ]
  },
  {
   "cell_type": "code",
   "execution_count": 66,
   "metadata": {},
   "outputs": [],
   "source": [
    "A = [5, 8, 8, 15, 16, 19, 30, 35, 40, 51]"
   ]
  },
  {
   "cell_type": "code",
   "execution_count": 67,
   "metadata": {},
   "outputs": [
    {
     "name": "stdout",
     "output_type": "stream",
     "text": [
      "so far ==> left=0, right=9, k=15, A=[5, 8, 8, 15, 16, 19, 30, 35, 40, 51]\n",
      "so far ==> left=0, right=3, k=15, A=[5, 8, 8, 15]\n",
      "so far ==> left=0, right=1, k=15, A=[8, 15]\n",
      "so far ==> left=0, right=0, k=15, A=[15]\n",
      "CPU times: user 250 µs, sys: 122 µs, total: 372 µs\n",
      "Wall time: 282 µs\n"
     ]
    },
    {
     "data": {
      "text/plain": [
       "True"
      ]
     },
     "execution_count": 67,
     "metadata": {},
     "output_type": "execute_result"
    }
   ],
   "source": [
    "%time very_bad_binary_search(A, 15)"
   ]
  },
  {
   "cell_type": "code",
   "execution_count": 68,
   "metadata": {},
   "outputs": [
    {
     "name": "stdout",
     "output_type": "stream",
     "text": [
      "so far ==> left=0, right=9, k=100, A=[5, 8, 8, 15, 16, 19, 30, 35, 40, 51]\n",
      "so far ==> left=0, right=4, k=100, A=[19, 30, 35, 40, 51]\n",
      "so far ==> left=0, right=1, k=100, A=[40, 51]\n",
      "so far ==> left=0, right=0, k=100, A=[51]\n",
      "so far ==> left=0, right=-1, k=100, A=[]\n",
      "CPU times: user 136 µs, sys: 73 µs, total: 209 µs\n",
      "Wall time: 159 µs\n"
     ]
    },
    {
     "data": {
      "text/plain": [
       "False"
      ]
     },
     "execution_count": 68,
     "metadata": {},
     "output_type": "execute_result"
    }
   ],
   "source": [
    "%time very_bad_binary_search(A, 100)"
   ]
  },
  {
   "cell_type": "code",
   "execution_count": 69,
   "metadata": {},
   "outputs": [
    {
     "name": "stdout",
     "output_type": "stream",
     "text": [
      "so far ==> left=0, right=9, k=51, A=[5, 8, 8, 15, 16, 19, 30, 35, 40, 51]\n",
      "so far ==> left=0, right=4, k=51, A=[19, 30, 35, 40, 51]\n",
      "so far ==> left=0, right=1, k=51, A=[40, 51]\n",
      "so far ==> left=0, right=0, k=51, A=[51]\n",
      "CPU times: user 205 µs, sys: 110 µs, total: 315 µs\n",
      "Wall time: 241 µs\n"
     ]
    },
    {
     "data": {
      "text/plain": [
       "True"
      ]
     },
     "execution_count": 69,
     "metadata": {},
     "output_type": "execute_result"
    }
   ],
   "source": [
    "%time very_bad_binary_search(A, 51)"
   ]
  },
  {
   "cell_type": "code",
   "execution_count": 83,
   "metadata": {},
   "outputs": [
    {
     "name": "stdout",
     "output_type": "stream",
     "text": [
      "CPU times: user 8.36 ms, sys: 636 µs, total: 9 ms\n",
      "Wall time: 9.07 ms\n"
     ]
    },
    {
     "data": {
      "text/plain": [
       "True"
      ]
     },
     "execution_count": 83,
     "metadata": {},
     "output_type": "execute_result"
    }
   ],
   "source": [
    "Big_A = list(range(900000))\n",
    "%time very_bad_binary_search(Big_A, 0, verbose=False)"
   ]
  },
  {
   "cell_type": "code",
   "execution_count": 100,
   "metadata": {},
   "outputs": [
    {
     "name": "stdout",
     "output_type": "stream",
     "text": [
      "peak memory: 122.33 MiB, increment: 0.00 MiB\n"
     ]
    }
   ],
   "source": [
    "%memit very_bad_binary_search(Big_A, 0, verbose=False)"
   ]
  },
  {
   "cell_type": "code",
   "execution_count": null,
   "metadata": {},
   "outputs": [],
   "source": []
  },
  {
   "cell_type": "markdown",
   "metadata": {},
   "source": [
    "#### good implementation"
   ]
  },
  {
   "cell_type": "code",
   "execution_count": 92,
   "metadata": {},
   "outputs": [],
   "source": [
    "def helper(A, k, left, right, verbose=True):\n",
    "    \"\"\"binary search of k in A[left:right], return True if found, False otherwise\"\"\"\n",
    "    if verbose:\n",
    "        print(f'so far ==> left={left}, right={right}, k={k}, A={A}')\n",
    "\n",
    "    #1- base case\n",
    "    if left > right:\n",
    "        # if empty list there is nothing to search\n",
    "        return False\n",
    "\n",
    "    #2- solve the subproblems\n",
    "    mid = (right - left)//2 + left\n",
    "    if A[mid] < k:\n",
    "        left = mid + 1 # -> search right\n",
    "        return helper(A, k, left, right, verbose)\n",
    "    elif A[mid] > k:\n",
    "        right = mid - 1 # -> search left\n",
    "        return helper(A, k, left, right, verbose)\n",
    "    else:\n",
    "        return True\n",
    "\n",
    "\n",
    "    #3- combine the sub-solutions\n",
    "    # nothing to combine --> tail recursion(stay tunned for more)\n",
    "    \n",
    "def binary_search(A, k, verbose=True):\n",
    "    \"\"\"binary search of k in A, return index if found, -1 otherwise\"\"\"\n",
    "    return helper(A, k, 0, len(A)-1, verbose)"
   ]
  },
  {
   "cell_type": "code",
   "execution_count": 86,
   "metadata": {},
   "outputs": [],
   "source": [
    "A = [5, 8, 8, 15, 16, 19, 30, 35, 40, 51]"
   ]
  },
  {
   "cell_type": "code",
   "execution_count": 88,
   "metadata": {},
   "outputs": [
    {
     "name": "stdout",
     "output_type": "stream",
     "text": [
      "so far ==> left=0, right=9, k=15, A=[5, 8, 8, 15, 16, 19, 30, 35, 40, 51]\n",
      "so far ==> left=0, right=3, k=15, A=[5, 8, 8, 15, 16, 19, 30, 35, 40, 51]\n",
      "so far ==> left=2, right=3, k=15, A=[5, 8, 8, 15, 16, 19, 30, 35, 40, 51]\n",
      "so far ==> left=3, right=3, k=15, A=[5, 8, 8, 15, 16, 19, 30, 35, 40, 51]\n",
      "CPU times: user 422 µs, sys: 341 µs, total: 763 µs\n",
      "Wall time: 478 µs\n"
     ]
    },
    {
     "data": {
      "text/plain": [
       "True"
      ]
     },
     "execution_count": 88,
     "metadata": {},
     "output_type": "execute_result"
    }
   ],
   "source": [
    "%time binary_search(A, 15)"
   ]
  },
  {
   "cell_type": "code",
   "execution_count": 89,
   "metadata": {},
   "outputs": [
    {
     "name": "stdout",
     "output_type": "stream",
     "text": [
      "so far ==> left=0, right=9, k=100, A=[5, 8, 8, 15, 16, 19, 30, 35, 40, 51]\n",
      "so far ==> left=5, right=9, k=100, A=[5, 8, 8, 15, 16, 19, 30, 35, 40, 51]\n",
      "so far ==> left=8, right=9, k=100, A=[5, 8, 8, 15, 16, 19, 30, 35, 40, 51]\n",
      "so far ==> left=9, right=9, k=100, A=[5, 8, 8, 15, 16, 19, 30, 35, 40, 51]\n",
      "so far ==> left=10, right=9, k=100, A=[5, 8, 8, 15, 16, 19, 30, 35, 40, 51]\n",
      "CPU times: user 411 µs, sys: 141 µs, total: 552 µs\n",
      "Wall time: 454 µs\n"
     ]
    },
    {
     "data": {
      "text/plain": [
       "False"
      ]
     },
     "execution_count": 89,
     "metadata": {},
     "output_type": "execute_result"
    }
   ],
   "source": [
    "%time binary_search(A, 100)"
   ]
  },
  {
   "cell_type": "code",
   "execution_count": 90,
   "metadata": {},
   "outputs": [
    {
     "name": "stdout",
     "output_type": "stream",
     "text": [
      "so far ==> left=0, right=9, k=51, A=[5, 8, 8, 15, 16, 19, 30, 35, 40, 51]\n",
      "so far ==> left=5, right=9, k=51, A=[5, 8, 8, 15, 16, 19, 30, 35, 40, 51]\n",
      "so far ==> left=8, right=9, k=51, A=[5, 8, 8, 15, 16, 19, 30, 35, 40, 51]\n",
      "so far ==> left=9, right=9, k=51, A=[5, 8, 8, 15, 16, 19, 30, 35, 40, 51]\n",
      "CPU times: user 160 µs, sys: 82 µs, total: 242 µs\n",
      "Wall time: 192 µs\n"
     ]
    },
    {
     "data": {
      "text/plain": [
       "True"
      ]
     },
     "execution_count": 90,
     "metadata": {},
     "output_type": "execute_result"
    }
   ],
   "source": [
    "%time binary_search(A, 51)"
   ]
  },
  {
   "cell_type": "code",
   "execution_count": 94,
   "metadata": {},
   "outputs": [
    {
     "name": "stdout",
     "output_type": "stream",
     "text": [
      "CPU times: user 18 µs, sys: 1e+03 ns, total: 19 µs\n",
      "Wall time: 23.8 µs\n"
     ]
    },
    {
     "data": {
      "text/plain": [
       "True"
      ]
     },
     "execution_count": 94,
     "metadata": {},
     "output_type": "execute_result"
    }
   ],
   "source": [
    "Big_A = list(range(900000))\n",
    "%time binary_search(Big_A, 0, verbose=False)"
   ]
  },
  {
   "cell_type": "code",
   "execution_count": 97,
   "metadata": {},
   "outputs": [
    {
     "name": "stdout",
     "output_type": "stream",
     "text": [
      "peak memory: 122.32 MiB, increment: 0.00 MiB\n"
     ]
    }
   ],
   "source": [
    "%memit binary_search(Big_A, 0, verbose=False)"
   ]
  },
  {
   "cell_type": "code",
   "execution_count": null,
   "metadata": {},
   "outputs": [],
   "source": []
  }
 ],
 "metadata": {
  "kernelspec": {
   "display_name": "Python 3",
   "language": "python",
   "name": "python3"
  },
  "language_info": {
   "codemirror_mode": {
    "name": "ipython",
    "version": 3
   },
   "file_extension": ".py",
   "mimetype": "text/x-python",
   "name": "python",
   "nbconvert_exporter": "python",
   "pygments_lexer": "ipython3",
   "version": "3.6.5"
  }
 },
 "nbformat": 4,
 "nbformat_minor": 2
}
