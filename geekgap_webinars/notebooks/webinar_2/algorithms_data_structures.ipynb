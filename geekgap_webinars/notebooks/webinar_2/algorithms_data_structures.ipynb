{
 "cells": [
  {
   "cell_type": "code",
   "execution_count": null,
   "metadata": {},
   "outputs": [],
   "source": []
  },
  {
   "cell_type": "markdown",
   "metadata": {},
   "source": [
    "### INTRODUCTORY EXAMPLE:\n",
    "#### Total size of folders and files in a path"
   ]
  },
  {
   "cell_type": "code",
   "execution_count": 17,
   "metadata": {},
   "outputs": [],
   "source": [
    "import os\n",
    "\"\"\"\n",
    "The os functions that we are given are:\n",
    "os.path.getsize(path)\n",
    "os.path.isdir(path)\n",
    "os.listdir(path)\n",
    "os.path.join(path, filename)\n",
    "\"\"\"\n",
    "\n",
    "def disk_usage(path):\n",
    "    \"\"\"\n",
    "    Input: a path\n",
    "    Output: Total Disk Space being utilized by a folder/file\n",
    "    \"\"\"\n",
    "\n",
    "    path_size = os.path.getsize(path)\n",
    "\n",
    "    # 1- base case\n",
    "    if os.path.isfile(path):\n",
    "        print('{0:<7}'.format(path_size), path)\n",
    "        return path_size\n",
    "\n",
    "        # 2- solve sub-problems step\n",
    "    children_size = 0\n",
    "    for child in os.listdir(path):\n",
    "        child_path = os.path.join(path, child)\n",
    "        children_size += disk_usage(child_path)\n",
    "\n",
    "    # 3- combine sub-solutions\n",
    "    total_size = path_size + children_size\n",
    "\n",
    "    print('{0:<7}'.format(total_size), path)\n",
    "    return total_size"
   ]
  },
  {
   "cell_type": "code",
   "execution_count": 18,
   "metadata": {},
   "outputs": [
    {
     "name": "stdout",
     "output_type": "stream",
     "text": [
      "6148    /Users/junior/geekgap/Repos/geekgap_webinars/.DS_Store\n",
      "1070    /Users/junior/geekgap/Repos/geekgap_webinars/LICENSE\n",
      "63      /Users/junior/geekgap/Repos/geekgap_webinars/Makefile\n",
      "0       /Users/junior/geekgap/Repos/geekgap_webinars/geekgap_webinars/__init__.py\n",
      "51075   /Users/junior/geekgap/Repos/geekgap_webinars/geekgap_webinars/notebooks/webinar_1/system_design.ipynb\n",
      "12530   /Users/junior/geekgap/Repos/geekgap_webinars/geekgap_webinars/notebooks/webinar_1/algorithms_data_structures.ipynb\n",
      "10389   /Users/junior/geekgap/Repos/geekgap_webinars/geekgap_webinars/notebooks/webinar_1/.ipynb_checkpoints/_13_when_not_to_use_a_list-checkpoint.ipynb\n",
      "6882    /Users/junior/geekgap/Repos/geekgap_webinars/geekgap_webinars/notebooks/webinar_1/.ipynb_checkpoints/_8_arithmetic_operations_on_sequences-checkpoint.ipynb\n",
      "3733    /Users/junior/geekgap/Repos/geekgap_webinars/geekgap_webinars/notebooks/webinar_1/.ipynb_checkpoints/_2_sequence_transformation_map_and_filter-checkpoint.ipynb\n",
      "9962    /Users/junior/geekgap/Repos/geekgap_webinars/geekgap_webinars/notebooks/webinar_1/.ipynb_checkpoints/_10_sorting_with_custom_key-checkpoint.ipynb\n",
      "3956    /Users/junior/geekgap/Repos/geekgap_webinars/geekgap_webinars/notebooks/webinar_1/.ipynb_checkpoints/_3_sequence_comprehension-checkpoint.ipynb\n",
      "12530   /Users/junior/geekgap/Repos/geekgap_webinars/geekgap_webinars/notebooks/webinar_1/.ipynb_checkpoints/algorithms_data_structures-checkpoint.ipynb\n",
      "770     /Users/junior/geekgap/Repos/geekgap_webinars/geekgap_webinars/notebooks/webinar_1/.ipynb_checkpoints/template-checkpoint.ipynb\n",
      "4195    /Users/junior/geekgap/Repos/geekgap_webinars/geekgap_webinars/notebooks/webinar_1/.ipynb_checkpoints/_9_sorting_a_list_sort_vs_sorted-checkpoint.ipynb\n",
      "7914    /Users/junior/geekgap/Repos/geekgap_webinars/geekgap_webinars/notebooks/webinar_1/.ipynb_checkpoints/_11_being_clever_on_sorted_sequences_search_and_insert-checkpoint.ipynb\n",
      "72      /Users/junior/geekgap/Repos/geekgap_webinars/geekgap_webinars/notebooks/webinar_1/.ipynb_checkpoints/system_design-checkpoint.ipynb\n",
      "72      /Users/junior/geekgap/Repos/geekgap_webinars/geekgap_webinars/notebooks/webinar_1/.ipynb_checkpoints/_4_nested_lists-checkpoint.ipynb\n",
      "5077    /Users/junior/geekgap/Repos/geekgap_webinars/geekgap_webinars/notebooks/webinar_1/.ipynb_checkpoints/_5_sequence_unpacking-checkpoint.ipynb\n",
      "10066   /Users/junior/geekgap/Repos/geekgap_webinars/geekgap_webinars/notebooks/webinar_1/.ipynb_checkpoints/_12_never_update_a_list_during_ieration-checkpoint.ipynb\n",
      "5725    /Users/junior/geekgap/Repos/geekgap_webinars/geekgap_webinars/notebooks/webinar_1/.ipynb_checkpoints/_6_sequence_indexing_and_slicing-checkpoint.ipynb\n",
      "6125    /Users/junior/geekgap/Repos/geekgap_webinars/geekgap_webinars/notebooks/webinar_1/.ipynb_checkpoints/_7_named_tuples-checkpoint.ipynb\n",
      "9170    /Users/junior/geekgap/Repos/geekgap_webinars/geekgap_webinars/notebooks/webinar_1/.ipynb_checkpoints/_1_builtin_sequences_overview-checkpoint.ipynb\n",
      "97214   /Users/junior/geekgap/Repos/geekgap_webinars/geekgap_webinars/notebooks/webinar_1/.ipynb_checkpoints\n",
      "160979  /Users/junior/geekgap/Repos/geekgap_webinars/geekgap_webinars/notebooks/webinar_1\n",
      "0       /Users/junior/geekgap/Repos/geekgap_webinars/geekgap_webinars/notebooks/__init__.py\n",
      "0       /Users/junior/geekgap/Repos/geekgap_webinars/geekgap_webinars/notebooks/webinar_2/__init__.py\n",
      "17614   /Users/junior/geekgap/Repos/geekgap_webinars/geekgap_webinars/notebooks/webinar_2/algorithms_data_structures.ipynb\n",
      "296     /Users/junior/geekgap/Repos/geekgap_webinars/geekgap_webinars/notebooks/webinar_2/factorial.py\n",
      "852     /Users/junior/geekgap/Repos/geekgap_webinars/geekgap_webinars/notebooks/webinar_2/disk_usage.py\n",
      "17614   /Users/junior/geekgap/Repos/geekgap_webinars/geekgap_webinars/notebooks/webinar_2/.ipynb_checkpoints/algorithms_data_structures-checkpoint.ipynb\n",
      "17710   /Users/junior/geekgap/Repos/geekgap_webinars/geekgap_webinars/notebooks/webinar_2/.ipynb_checkpoints\n",
      "36696   /Users/junior/geekgap/Repos/geekgap_webinars/geekgap_webinars/notebooks/webinar_2\n",
      "64      /Users/junior/geekgap/Repos/geekgap_webinars/geekgap_webinars/notebooks/.ipynb_checkpoints\n",
      "197931  /Users/junior/geekgap/Repos/geekgap_webinars/geekgap_webinars/notebooks\n",
      "198059  /Users/junior/geekgap/Repos/geekgap_webinars/geekgap_webinars\n",
      "16      /Users/junior/geekgap/Repos/geekgap_webinars/MANIFEST.in\n",
      "546     /Users/junior/geekgap/Repos/geekgap_webinars/setup.py\n",
      "1252    /Users/junior/geekgap/Repos/geekgap_webinars/.gitignore\n",
      "6       /Users/junior/geekgap/Repos/geekgap_webinars/.python-version\n",
      "3547    /Users/junior/geekgap/Repos/geekgap_webinars/README.rst\n",
      "428     /Users/junior/geekgap/Repos/geekgap_webinars/.git/config\n",
      "266     /Users/junior/geekgap/Repos/geekgap_webinars/.git/objects/6a/653ed01842cd490cd633505aadf90349854f02\n",
      "362     /Users/junior/geekgap/Repos/geekgap_webinars/.git/objects/6a\n",
      "266     /Users/junior/geekgap/Repos/geekgap_webinars/.git/objects/3c/f94af622b6a450bf265e0fb929f7733c053388\n",
      "362     /Users/junior/geekgap/Repos/geekgap_webinars/.git/objects/3c\n",
      "266     /Users/junior/geekgap/Repos/geekgap_webinars/.git/objects/3d/7daf7775de9c0f4a3279e6ed30b4f53957448b\n",
      "362     /Users/junior/geekgap/Repos/geekgap_webinars/.git/objects/3d\n",
      "706     /Users/junior/geekgap/Repos/geekgap_webinars/.git/objects/93/3590c700b9ece0f601bdbfac186da8ace652ae\n",
      "802     /Users/junior/geekgap/Repos/geekgap_webinars/.git/objects/93\n",
      "92      /Users/junior/geekgap/Repos/geekgap_webinars/.git/objects/94/cad2a729989931e9f5088b7a136c63bb277ba9\n",
      "188     /Users/junior/geekgap/Repos/geekgap_webinars/.git/objects/94\n",
      "91      /Users/junior/geekgap/Repos/geekgap_webinars/.git/objects/0e/d826580b30bf8e0c6ad46ae28543ed3ec6abd9\n",
      "187     /Users/junior/geekgap/Repos/geekgap_webinars/.git/objects/0e\n",
      "1591    /Users/junior/geekgap/Repos/geekgap_webinars/.git/objects/b2/70de4b18bd5d814d4aad3be7f6d61c795f2734\n",
      "1687    /Users/junior/geekgap/Repos/geekgap_webinars/.git/objects/b2\n",
      "2165    /Users/junior/geekgap/Repos/geekgap_webinars/.git/objects/d0/fd809da59b44073983a2f1c2fa3aab4dcfff07\n",
      "2261    /Users/junior/geekgap/Repos/geekgap_webinars/.git/objects/d0\n",
      "87      /Users/junior/geekgap/Repos/geekgap_webinars/.git/objects/d6/51501be2045d9b3971bf1cdace1b7d47c5d691\n",
      "183     /Users/junior/geekgap/Repos/geekgap_webinars/.git/objects/d6\n",
      "266     /Users/junior/geekgap/Repos/geekgap_webinars/.git/objects/d8/2d80555ea8d2101a7306654933ee0d38ae63f3\n",
      "362     /Users/junior/geekgap/Repos/geekgap_webinars/.git/objects/d8\n",
      "91      /Users/junior/geekgap/Repos/geekgap_webinars/.git/objects/fd/5f3307b34e8d08de2b567402c960ce553291b1\n",
      "187     /Users/junior/geekgap/Repos/geekgap_webinars/.git/objects/fd\n",
      "2648    /Users/junior/geekgap/Repos/geekgap_webinars/.git/objects/c8/b8000a8cbcf662f192e8c4fc66c4aada3bb76e\n",
      "2744    /Users/junior/geekgap/Repos/geekgap_webinars/.git/objects/c8\n",
      "134     /Users/junior/geekgap/Repos/geekgap_webinars/.git/objects/ec/636645be8406aab4d5d15ab52aaea5d1526f8a\n",
      "230     /Users/junior/geekgap/Repos/geekgap_webinars/.git/objects/ec\n",
      "15      /Users/junior/geekgap/Repos/geekgap_webinars/.git/objects/4b/825dc642cb6eb9a060e54bf8d69288fbee4904\n",
      "111     /Users/junior/geekgap/Repos/geekgap_webinars/.git/objects/4b\n",
      "64      /Users/junior/geekgap/Repos/geekgap_webinars/.git/objects/pack\n",
      "116     /Users/junior/geekgap/Repos/geekgap_webinars/.git/objects/89/f1a57eb5023c8c4d18a9fc9c45faa38618e372\n",
      "212     /Users/junior/geekgap/Repos/geekgap_webinars/.git/objects/89\n",
      "92      /Users/junior/geekgap/Repos/geekgap_webinars/.git/objects/1f/d589106ec6c668c08f1f6da9308e01f8d2f541\n",
      "188     /Users/junior/geekgap/Repos/geekgap_webinars/.git/objects/1f\n",
      "3641    /Users/junior/geekgap/Repos/geekgap_webinars/.git/objects/73/2410169e0aac1931228de79229a01fbbd756a0\n",
      "3737    /Users/junior/geekgap/Repos/geekgap_webinars/.git/objects/73\n",
      "362     /Users/junior/geekgap/Repos/geekgap_webinars/.git/objects/80/d61be88906976fee89822b421ecbdfce86b208\n",
      "458     /Users/junior/geekgap/Repos/geekgap_webinars/.git/objects/80\n",
      "32      /Users/junior/geekgap/Repos/geekgap_webinars/.git/objects/1a/ba38f67a2211cf5b09466d7b411206cb7223bf\n",
      "128     /Users/junior/geekgap/Repos/geekgap_webinars/.git/objects/1a\n",
      "119     /Users/junior/geekgap/Repos/geekgap_webinars/.git/objects/26/4ced2e0332a0cab5b2a7fb586e5ed7de3066b2\n",
      "215     /Users/junior/geekgap/Repos/geekgap_webinars/.git/objects/26\n",
      "331     /Users/junior/geekgap/Repos/geekgap_webinars/.git/objects/75/15520c400995349015d292e6c44b194bc5c21f\n",
      "427     /Users/junior/geekgap/Repos/geekgap_webinars/.git/objects/75\n",
      "92      /Users/junior/geekgap/Repos/geekgap_webinars/.git/objects/86/41073dddf0686c4961b20944e700bd65ea0862\n",
      "188     /Users/junior/geekgap/Repos/geekgap_webinars/.git/objects/86\n",
      "118     /Users/junior/geekgap/Repos/geekgap_webinars/.git/objects/72/195f84cea434289a978412a3552c50235064ee\n",
      "214     /Users/junior/geekgap/Repos/geekgap_webinars/.git/objects/72\n",
      "3256    /Users/junior/geekgap/Repos/geekgap_webinars/.git/objects/2a/0bba5946836804258394777b22f762daf7a44b\n",
      "3352    /Users/junior/geekgap/Repos/geekgap_webinars/.git/objects/2a\n",
      "173     /Users/junior/geekgap/Repos/geekgap_webinars/.git/objects/38/e42a9e7fb5c4e2072f781d0e43c6ef15b1a64a\n",
      "269     /Users/junior/geekgap/Repos/geekgap_webinars/.git/objects/38\n",
      "64      /Users/junior/geekgap/Repos/geekgap_webinars/.git/objects/info\n",
      "148     /Users/junior/geekgap/Repos/geekgap_webinars/.git/objects/5e/cfeaa5c2ce5dfb66e1944efe77bb0e5ed3055b\n",
      "244     /Users/junior/geekgap/Repos/geekgap_webinars/.git/objects/5e\n",
      "71      /Users/junior/geekgap/Repos/geekgap_webinars/.git/objects/99/7cfaa14c219a83873d8f38b2d99cd12dbada70\n",
      "167     /Users/junior/geekgap/Repos/geekgap_webinars/.git/objects/99\n",
      "148     /Users/junior/geekgap/Repos/geekgap_webinars/.git/objects/a7/d6cbe41fe5e19409349d96e61a19ca66eeda94\n",
      "244     /Users/junior/geekgap/Repos/geekgap_webinars/.git/objects/a7\n",
      "8718    /Users/junior/geekgap/Repos/geekgap_webinars/.git/objects/ef/52135e1121ba68b09c3c3f89d7c1dd111021bc\n",
      "8814    /Users/junior/geekgap/Repos/geekgap_webinars/.git/objects/ef\n",
      "15      /Users/junior/geekgap/Repos/geekgap_webinars/.git/objects/e6/9de29bb2d1d6434b8b29ae775ad8c2e48c5391\n",
      "111     /Users/junior/geekgap/Repos/geekgap_webinars/.git/objects/e6\n",
      "116     /Users/junior/geekgap/Repos/geekgap_webinars/.git/objects/f9/3ae27e6bbe4e6b45af95fb970728dd48b38f31\n",
      "212     /Users/junior/geekgap/Repos/geekgap_webinars/.git/objects/f9\n",
      "92      /Users/junior/geekgap/Repos/geekgap_webinars/.git/objects/ff/fc076e31e9de03e627dc17d008fba8114d5676\n",
      "188     /Users/junior/geekgap/Repos/geekgap_webinars/.git/objects/ff\n",
      "191     /Users/junior/geekgap/Repos/geekgap_webinars/.git/objects/e9/f493ed25047964c7f4b4595e034235b534a340\n",
      "287     /Users/junior/geekgap/Repos/geekgap_webinars/.git/objects/e9\n",
      "176     /Users/junior/geekgap/Repos/geekgap_webinars/.git/objects/e7/39417742964892ae0605eaa75cf93d8c209dae\n",
      "660     /Users/junior/geekgap/Repos/geekgap_webinars/.git/objects/e7/90f54c56936c21a7cb75717483ff5e97abf3f6\n",
      "964     /Users/junior/geekgap/Repos/geekgap_webinars/.git/objects/e7\n",
      "165     /Users/junior/geekgap/Repos/geekgap_webinars/.git/objects/1c/ccabddbc6f461d1225f72a07a52335d5a59a37\n",
      "261     /Users/junior/geekgap/Repos/geekgap_webinars/.git/objects/1c\n",
      "432     /Users/junior/geekgap/Repos/geekgap_webinars/.git/objects/25/7cab5b80c4f63a12f073041fadff23b102a97b\n",
      "528     /Users/junior/geekgap/Repos/geekgap_webinars/.git/objects/25\n",
      "32844   /Users/junior/geekgap/Repos/geekgap_webinars/.git/objects\n",
      "64      /Users/junior/geekgap/Repos/geekgap_webinars/.git/rr-cache\n",
      "24      /Users/junior/geekgap/Repos/geekgap_webinars/.git/HEAD\n",
      "240     /Users/junior/geekgap/Repos/geekgap_webinars/.git/info/exclude\n",
      "336     /Users/junior/geekgap/Repos/geekgap_webinars/.git/info\n",
      "1052    /Users/junior/geekgap/Repos/geekgap_webinars/.git/logs/HEAD\n",
      "869     /Users/junior/geekgap/Repos/geekgap_webinars/.git/logs/refs/heads/develop\n",
      "171     /Users/junior/geekgap/Repos/geekgap_webinars/.git/logs/refs/heads/master\n",
      "1168    /Users/junior/geekgap/Repos/geekgap_webinars/.git/logs/refs/heads\n",
      "306     /Users/junior/geekgap/Repos/geekgap_webinars/.git/logs/refs/remotes/origin/develop\n",
      "402     /Users/junior/geekgap/Repos/geekgap_webinars/.git/logs/refs/remotes/origin\n",
      "498     /Users/junior/geekgap/Repos/geekgap_webinars/.git/logs/refs/remotes\n",
      "1794    /Users/junior/geekgap/Repos/geekgap_webinars/.git/logs/refs\n",
      "2974    /Users/junior/geekgap/Repos/geekgap_webinars/.git/logs\n",
      "73      /Users/junior/geekgap/Repos/geekgap_webinars/.git/description\n",
      "896     /Users/junior/geekgap/Repos/geekgap_webinars/.git/hooks/commit-msg.sample\n",
      "4898    /Users/junior/geekgap/Repos/geekgap_webinars/.git/hooks/pre-rebase.sample\n",
      "1638    /Users/junior/geekgap/Repos/geekgap_webinars/.git/hooks/pre-commit.sample\n",
      "478     /Users/junior/geekgap/Repos/geekgap_webinars/.git/hooks/applypatch-msg.sample\n",
      "3327    /Users/junior/geekgap/Repos/geekgap_webinars/.git/hooks/fsmonitor-watchman.sample\n",
      "544     /Users/junior/geekgap/Repos/geekgap_webinars/.git/hooks/pre-receive.sample\n",
      "1492    /Users/junior/geekgap/Repos/geekgap_webinars/.git/hooks/prepare-commit-msg.sample\n",
      "189     /Users/junior/geekgap/Repos/geekgap_webinars/.git/hooks/post-update.sample\n",
      "424     /Users/junior/geekgap/Repos/geekgap_webinars/.git/hooks/pre-applypatch.sample\n",
      "1348    /Users/junior/geekgap/Repos/geekgap_webinars/.git/hooks/pre-push.sample\n",
      "3610    /Users/junior/geekgap/Repos/geekgap_webinars/.git/hooks/update.sample\n",
      "19260   /Users/junior/geekgap/Repos/geekgap_webinars/.git/hooks\n",
      "41      /Users/junior/geekgap/Repos/geekgap_webinars/.git/refs/heads/develop\n",
      "41      /Users/junior/geekgap/Repos/geekgap_webinars/.git/refs/heads/master\n",
      "210     /Users/junior/geekgap/Repos/geekgap_webinars/.git/refs/heads\n",
      "64      /Users/junior/geekgap/Repos/geekgap_webinars/.git/refs/tags\n",
      "41      /Users/junior/geekgap/Repos/geekgap_webinars/.git/refs/remotes/origin/develop\n",
      "137     /Users/junior/geekgap/Repos/geekgap_webinars/.git/refs/remotes/origin\n",
      "233     /Users/junior/geekgap/Repos/geekgap_webinars/.git/refs/remotes\n",
      "667     /Users/junior/geekgap/Repos/geekgap_webinars/.git/refs\n",
      "1489    /Users/junior/geekgap/Repos/geekgap_webinars/.git/index\n",
      "0       /Users/junior/geekgap/Repos/geekgap_webinars/.git/MERGE_RR\n",
      "15      /Users/junior/geekgap/Repos/geekgap_webinars/.git/COMMIT_EDITMSG\n",
      "58622   /Users/junior/geekgap/Repos/geekgap_webinars/.git\n",
      "454     /Users/junior/geekgap/Repos/geekgap_webinars/.idea/geekgap_webinars.iml\n",
      "180     /Users/junior/geekgap/Repos/geekgap_webinars/.idea/vcs.xml\n",
      "26856   /Users/junior/geekgap/Repos/geekgap_webinars/.idea/workspace.xml\n",
      "284     /Users/junior/geekgap/Repos/geekgap_webinars/.idea/modules.xml\n",
      "16      /Users/junior/geekgap/Repos/geekgap_webinars/.idea/.name\n",
      "193     /Users/junior/geekgap/Repos/geekgap_webinars/.idea/python-terminal.xml\n",
      "208     /Users/junior/geekgap/Repos/geekgap_webinars/.idea/misc.xml\n",
      "28479   /Users/junior/geekgap/Repos/geekgap_webinars/.idea\n",
      "298224  /Users/junior/geekgap/Repos/geekgap_webinars\n",
      "CPU times: user 49.7 ms, sys: 26.4 ms, total: 76.1 ms\n",
      "Wall time: 59.3 ms\n"
     ]
    },
    {
     "data": {
      "text/plain": [
       "298224"
      ]
     },
     "execution_count": 18,
     "metadata": {},
     "output_type": "execute_result"
    }
   ],
   "source": [
    "%time disk_usage('/Users/junior/geekgap/Repos/geekgap_webinars')"
   ]
  },
  {
   "cell_type": "code",
   "execution_count": null,
   "metadata": {},
   "outputs": [],
   "source": []
  },
  {
   "cell_type": "markdown",
   "metadata": {},
   "source": [
    "### Case study 1: Factorial"
   ]
  },
  {
   "cell_type": "code",
   "execution_count": 19,
   "metadata": {},
   "outputs": [],
   "source": [
    "def factorial(n):\n",
    "    #1- base case\n",
    "    if n <= 1:\n",
    "        return 1\n",
    "\n",
    "    #2- solve sub-problems\n",
    "    previous_factorial = factorial(n-1)\n",
    "\n",
    "    #3- combine sub-solutions\n",
    "    res = n * previous_factorial\n",
    "\n",
    "    return res"
   ]
  },
  {
   "cell_type": "code",
   "execution_count": 20,
   "metadata": {},
   "outputs": [
    {
     "data": {
      "text/plain": [
       "1"
      ]
     },
     "execution_count": 20,
     "metadata": {},
     "output_type": "execute_result"
    }
   ],
   "source": [
    "factorial(0)"
   ]
  },
  {
   "cell_type": "code",
   "execution_count": 21,
   "metadata": {},
   "outputs": [
    {
     "data": {
      "text/plain": [
       "1"
      ]
     },
     "execution_count": 21,
     "metadata": {},
     "output_type": "execute_result"
    }
   ],
   "source": [
    "factorial(1)"
   ]
  },
  {
   "cell_type": "code",
   "execution_count": 22,
   "metadata": {},
   "outputs": [
    {
     "data": {
      "text/plain": [
       "24"
      ]
     },
     "execution_count": 22,
     "metadata": {},
     "output_type": "execute_result"
    }
   ],
   "source": [
    "factorial(4)"
   ]
  },
  {
   "cell_type": "code",
   "execution_count": 23,
   "metadata": {},
   "outputs": [
    {
     "data": {
      "text/plain": [
       "120"
      ]
     },
     "execution_count": 23,
     "metadata": {},
     "output_type": "execute_result"
    }
   ],
   "source": [
    "factorial(5)"
   ]
  },
  {
   "cell_type": "code",
   "execution_count": null,
   "metadata": {},
   "outputs": [],
   "source": []
  },
  {
   "cell_type": "markdown",
   "metadata": {},
   "source": [
    "### Case study 2: Recursive power"
   ]
  },
  {
   "cell_type": "code",
   "execution_count": null,
   "metadata": {},
   "outputs": [],
   "source": []
  },
  {
   "cell_type": "code",
   "execution_count": null,
   "metadata": {},
   "outputs": [],
   "source": []
  }
 ],
 "metadata": {
  "kernelspec": {
   "display_name": "Python 3",
   "language": "python",
   "name": "python3"
  },
  "language_info": {
   "codemirror_mode": {
    "name": "ipython",
    "version": 3
   },
   "file_extension": ".py",
   "mimetype": "text/x-python",
   "name": "python",
   "nbconvert_exporter": "python",
   "pygments_lexer": "ipython3",
   "version": "3.6.5"
  }
 },
 "nbformat": 4,
 "nbformat_minor": 2
}
